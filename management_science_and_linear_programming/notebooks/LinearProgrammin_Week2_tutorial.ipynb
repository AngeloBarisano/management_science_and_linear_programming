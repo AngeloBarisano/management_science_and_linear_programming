{
 "cells": [
  {
   "cell_type": "code",
   "execution_count": 7,
   "metadata": {},
   "outputs": [
    {
     "name": "stdout",
     "output_type": "stream",
     "text": [
      "The lab_black extension is already loaded. To reload it, use:\n",
      "  %reload_ext lab_black\n"
     ]
    }
   ],
   "source": [
    "from gurobipy import *\n",
    "\n",
    "# type declaration\n",
    "from typing import Dict, List\n",
    "\n",
    "# %load_ext nb_black\n",
    "%load_ext lab_black"
   ]
  },
  {
   "cell_type": "markdown",
   "metadata": {},
   "source": [
    "## Question 1"
   ]
  },
  {
   "cell_type": "code",
   "execution_count": 9,
   "metadata": {},
   "outputs": [],
   "source": [
    "toys: List[str] = [\"Space\", \"Zapper\", \"Big\", \"Soaker\"]\n",
    "\n",
    "resources: List[str]  = [\"plastic\", \"time\"]\n",
    "\n",
    "r: Dict[tuple, float] = {\n",
    "    (\"plastic\", \"Space\"): 2,\n",
    "    (\"plastic\", \"Zapper\"): 1,\n",
    "    (\"plastic\", \"Big\"): 3,\n",
    "    (\"plastic\", \"Soaker\"): 4,\n",
    "    (\"time\", \"Space\"): 3,\n",
    "    (\"time\", \"Zapper\"): 4,\n",
    "    (\"time\", \"Big\"): 5,\n",
    "    (\"time\", \"Soaker\"): 6,\n",
    "}\n",
    "\n",
    "availability: Dict[str, int] = {\"plastic\": 3000, \"time\": 6000}\n",
    "\n",
    "profit: Dict[str, int] = {\"Space\": 16, \"Zapper\": 15, \"Big\": 20, \"Soaker\": 22}"
   ]
  },
  {
   "cell_type": "code",
   "execution_count": 12,
   "metadata": {},
   "outputs": [
    {
     "name": "stdout",
     "output_type": "stream",
     "text": [
      "Gurobi Optimizer version 9.5.2 build v9.5.2rc0 (linux64)\n",
      "Thread count: 4 physical cores, 8 logical processors, using up to 8 threads\n",
      "Optimize a model with 2 rows, 4 columns and 8 nonzeros\n",
      "Model fingerprint: 0xe7d9c8b2\n",
      "Coefficient statistics:\n",
      "  Matrix range     [1e+00, 6e+00]\n",
      "  Objective range  [2e+01, 2e+01]\n",
      "  Bounds range     [1e+02, 1e+03]\n",
      "  RHS range        [3e+03, 6e+03]\n",
      "Presolve time: 0.00s\n",
      "Presolved: 2 rows, 4 columns, 8 nonzeros\n",
      "\n",
      "Iteration    Objective       Primal Inf.    Dual Inf.      Time\n",
      "       0    3.7300000e+04   5.125000e+02   0.000000e+00      0s\n",
      "       2    2.6660000e+04   0.000000e+00   0.000000e+00      0s\n",
      "\n",
      "Solved in 2 iterations and 0.00 seconds (0.00 work units)\n",
      "Optimal objective  2.666000000e+04\n"
     ]
    }
   ],
   "source": [
    "# model\n",
    "model = Model()\n",
    "x = model.addVars(toys, obj=profit, ub=1000, lb=100)\n",
    "model.ModelSense = GRB.MAXIMIZE\n",
    "resourceCons = model.addConstrs(\n",
    "    quicksum(r[(i, j)] * x[j] for j in toys) <= availability[i] for i in resources\n",
    ")\n",
    "model.optimize()"
   ]
  },
  {
   "cell_type": "code",
   "execution_count": 17,
   "metadata": {},
   "outputs": [
    {
     "name": "stdout",
     "output_type": "stream",
     "text": [
      "Space-toys to produce: 860.0\n",
      "Zapper-toys to produce: 580.0\n",
      "Big-toys to produce: 100.0\n",
      "Soaker-toys to produce: 100.0\n"
     ]
    }
   ],
   "source": [
    "for toy in range(len(toys)):\n",
    "    print(\"%s-toys to produce:\" % toys[toy], model.x[toy])"
   ]
  },
  {
   "cell_type": "code",
   "execution_count": null,
   "metadata": {},
   "outputs": [],
   "source": []
  },
  {
   "cell_type": "code",
   "execution_count": null,
   "metadata": {},
   "outputs": [],
   "source": []
  },
  {
   "cell_type": "code",
   "execution_count": null,
   "metadata": {},
   "outputs": [],
   "source": []
  },
  {
   "cell_type": "code",
   "execution_count": null,
   "metadata": {},
   "outputs": [],
   "source": []
  }
 ],
 "metadata": {
  "kernelspec": {
   "display_name": "Python 3.10.7 ('Management_Science_Code': venv)",
   "language": "python",
   "name": "python3"
  },
  "language_info": {
   "codemirror_mode": {
    "name": "ipython",
    "version": 3
   },
   "file_extension": ".py",
   "mimetype": "text/x-python",
   "name": "python",
   "nbconvert_exporter": "python",
   "pygments_lexer": "ipython3",
   "version": "3.10.7"
  },
  "orig_nbformat": 4,
  "vscode": {
   "interpreter": {
    "hash": "631b42a28b26d4224283cd0bbfa9240d9ab42f9083121b113c6838601922a371"
   }
  }
 },
 "nbformat": 4,
 "nbformat_minor": 2
}
