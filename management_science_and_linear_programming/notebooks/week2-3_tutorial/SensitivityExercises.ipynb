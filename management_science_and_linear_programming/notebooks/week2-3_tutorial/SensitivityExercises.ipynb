{
 "cells": [
  {
   "cell_type": "markdown",
   "id": "ae1d2419",
   "metadata": {},
   "source": [
    "# Q1\n"
   ]
  },
  {
   "cell_type": "code",
   "execution_count": null,
   "id": "4befe134",
   "metadata": {},
   "outputs": [],
   "source": [
    "boards=[\"A\",\"B\",\"C\"]\n",
    "resources=[\"labor\",\"mh\"]\n",
    "demands={\"A\":100,\"B\":250,\"C\":300}\n",
    "mCosts={\"A\":47,\"B\":23,\"C\":62}\n",
    "bCosts={\"A\":56,\"B\":31,\"C\":72}\n",
    "rc={(\"labor\",\"A\"):5,(\"labor\",\"B\"):1,(\"labor\",\"C\"):5,\n",
    "   (\"mh\",\"A\"):3,(\"mh\",\"B\"):1,(\"mh\",\"C\"):2}\n",
    "Avail={\"labor\":2000,\"mh\":800}\n",
    "\n",
    "import gurobipy as gp\n",
    "model=gp.Model()\n",
    "make=model.addVars(boards,name=\"make\")\n",
    "buy=model.addVars(boards,name=\"buy\")\n",
    "model.setObjective(gp.quicksum(mCosts[i]*make[i]+bCosts[i]*buy[i] for i in boards))\n",
    "model.addConstrs((gp.quicksum(rc[r,b]*make[b] for b in boards) <=Avail[r] for r in resources),name=\"_\")\n",
    "model.addConstrs(( make[b]+buy[b]==demands[b] for b in boards),name=\"demand\")\n",
    "model.optimize()\n",
    "print ( \"optimal value: \",model.OBJVAl)\n",
    "model.printAttr([\"X\",\"Obj\",\"SAObjLow\",\"SAObjUP\"])\n",
    "model.printAttr([\"RC\",\"LB\",\"SALBLow\",\"SALBUp\",\"UB\",\"SAUBLow\",\"SAUBUp\"])\n",
    "model.printAttr([\"Sense\",\"Slack\",\"Pi\",\"RHS\",\"SARHSLow\",\"SARHSUp\"])"
   ]
  },
  {
   "cell_type": "markdown",
   "id": "c270f818",
   "metadata": {},
   "source": [
    "# Q2"
   ]
  },
  {
   "cell_type": "code",
   "execution_count": null,
   "id": "423c015c",
   "metadata": {},
   "outputs": [],
   "source": [
    "warehouses=[\"Tampa\",\"Miami\",\"Fresno\"]\n",
    "markets=[\"NY\",\"Phil\",\"Chicago\",\"Boston\"]\n",
    "costs={(\"Tampa\",\"NY\"):9,(\"Tampa\",\"Phil\"):14,(\"Tampa\",\"Chicago\"):12,(\"Tampa\",\"Boston\"):17,\n",
    "          (\"Miami\",\"NY\"):11,(\"Miami\",\"Phil\"):10,(\"Miami\",\"Chicago\"):6,(\"Miami\",\"Boston\"):10,\n",
    "          (\"Fresno\",\"NY\"):12,(\"Fresno\",\"Phil\"):8,(\"Fresno\",\"Chicago\"):15,(\"Fresno\",\"Boston\"):7\n",
    "          }\n",
    "supplies={\"Tampa\":200,\"Miami\":200,\"Fresno\":200}\n",
    "demands={\"NY\":130,\"Phil\":170,\"Chicago\":200,\"Boston\":150}\n",
    "\n",
    "model=gp.Model()\n",
    "x=model.addVars(costs,obj=costs,name=\" \")\n",
    "model.addConstrs((gp.quicksum(x[w,m] for w in warehouses)<=demands[m] for m in markets),name=\"demand\")\n",
    "model.addConstrs((gp.quicksum(x[w,m] for m in markets)==supplies[w] for w in warehouses),name=\"supply\")\n",
    "x[\"Tampa\",\"Boston\"].UB=5\n",
    "x[\"Fresno\",\"Chicago\"].LB=2\n",
    "x[\"Miami\",\"Chicago\"].UB=0\n",
    "\n",
    "model.optimize()\n",
    "print ( \"optimal value: \",model.OBJVAl)\n",
    "model.printAttr([\"X\",\"Obj\",\"SAObjLow\",\"SAObjUP\"])\n",
    "model.printAttr([\"RC\",\"LB\",\"SALBLow\",\"SALBUp\",\"UB\",\"SAUBLow\",\"SAUBUp\"])\n",
    "model.printAttr([\"Sense\",\"Slack\",\"Pi\",\"RHS\",\"SARHSLow\",\"SARHSUp\"])"
   ]
  },
  {
   "cell_type": "markdown",
   "id": "8bc770f2",
   "metadata": {},
   "source": [
    "# Q3"
   ]
  },
  {
   "cell_type": "code",
   "execution_count": null,
   "id": "0c4866d4",
   "metadata": {},
   "outputs": [],
   "source": [
    "toys=[\"Cars\",\"Trikes\",\"Scooters\"]\n",
    "resources=[\"Material\",\"Labor\"]\n",
    "profit={\"Cars\":26,\"Trikes\":28,\"Scooters\":27}\n",
    "rc={(\"Labor\",\"Cars\"):15,(\"Labor\",\"Trikes\"):20,(\"Labor\",\"Scooters\"):10,\n",
    "   (\"Material\",\"Cars\"):20,(\"Material\",\"Trikes\"):10,(\"Material\",\"Scooters\"):15\n",
    "   }\n",
    "Avail={\"Material\":2800,\"Labor\":40*60}\n",
    "demands={\"Cars\":100,\"Trikes\":70,\"Scooters\":60}\n",
    "fixedCosts=500+3600\n",
    "\n",
    "model=gp.Model()\n",
    "x=model.addVars(toys,obj=profit,ub=demands,name=\" \")\n",
    "model.modelSense=gp.GRB.MAXIMIZE\n",
    "model.addConstrs((gp.quicksum(rc[r,t]*x[t] for t in toys)<=Avail[r] for r in resources),name=\" \")\n",
    "model.optimize()\n",
    "print ( \"optimal value including fixed costs: \",model.OBJVAl-fixedCosts)\n",
    "model.printAttr([\"X\",\"Obj\",\"SAObjLow\",\"SAObjUP\"])\n",
    "model.printAttr([\"RC\",\"LB\",\"SALBLow\",\"SALBUp\",\"UB\",\"SAUBLow\",\"SAUBUp\"])\n",
    "model.printAttr([\"Sense\",\"Slack\",\"Pi\",\"RHS\",\"SARHSLow\",\"SARHSUp\"])"
   ]
  },
  {
   "cell_type": "markdown",
   "id": "4467a861",
   "metadata": {},
   "source": [
    "# Q4"
   ]
  },
  {
   "cell_type": "code",
   "execution_count": null,
   "id": "68009aee",
   "metadata": {},
   "outputs": [],
   "source": [
    "import pandas as pd\n",
    "DobbieLooms=15\n",
    "PanteraLooms=80\n",
    "weeks=13\n",
    "hoursPerWeek=24*7-2\n",
    "DobbieHours=DobbieLooms*weeks*hoursPerWeek\n",
    "PanteraHours=PanteraLooms*weeks*hoursPerWeek\n",
    "\n",
    "carpets=list(range(1,16))\n",
    "df=pd.read_csv(\"Q4.csv\")"
   ]
  },
  {
   "cell_type": "code",
   "execution_count": null,
   "id": "319fe946",
   "metadata": {},
   "outputs": [],
   "source": [
    "import math\n",
    "cost={} \n",
    "HourPerYd={}\n",
    "demand={}\n",
    "for ca in carpets:\n",
    "    cost[(\"Dobbie\",ca)]=float(df[df.Carpet==ca][\"Dobie(Cost/Yd)\"])\n",
    "    HourPerYd[(\"Dobbie\",ca)]=1./float(df[df.Carpet==ca][\"Dobie(Yd/Hr)\"]) #from Yd/H to H/Yd\n",
    "    if not math.isnan(df[df.Carpet==ca][\"Pantera(Cost/Yd)\"]):\n",
    "        cost[(\"Pantera\",ca)]=float(df[df.Carpet==ca][\"Pantera(Cost/Yd)\"])\n",
    "        HourPerYd[(\"Pantera\",ca)]=1./float(df[df.Carpet==ca][\"Pantera(Yd/Hr)\"]) #from Yd/H to H/Yd\n",
    "    cost[(\"SubContr\",ca)]=float(df[df.Carpet==ca][\"SubContract(Cost/Yd)\"])\n",
    "    demand[ca]=float(df[df.Carpet==ca][\"Demand(Yds)\"])\n",
    "    \n"
   ]
  },
  {
   "cell_type": "code",
   "execution_count": null,
   "id": "879f4476",
   "metadata": {},
   "outputs": [],
   "source": [
    "model=gp.Model()\n",
    "x=model.addVars(cost,obj=cost,name=\"Prod\")\n",
    "for ca in carpets:\n",
    "    if (\"Pantera\",ca)in cost.keys():\n",
    "        model.addConstr(x[\"Dobbie\",ca]+x[\"Pantera\",ca]+x[\"SubContr\",ca]>=demand[ca],name=\"Dem\"+str(ca))\n",
    "    else:\n",
    "        model.addConstr(x[\"Dobbie\",ca]+x[\"SubContr\",ca]>=demand[ca],name=\"Dem\"+str(ca))\n",
    "model.addConstr(gp.quicksum(HourPerYd[(\"Dobbie\",ca)]*x[(\"Dobbie\",ca)] \n",
    "                            for ca in carpets )<=DobbieHours,name=\"DobbieHours\")       \n",
    "model.addConstr(gp.quicksum(HourPerYd[(\"Pantera\",ca)]*x[(\"Pantera\",ca)] \n",
    "                            for ca in carpets if (\"Pantera\",ca) in HourPerYd.keys())<=PanteraHours,name=\"PanteraHours\")\n",
    "model.optimize()"
   ]
  },
  {
   "cell_type": "code",
   "execution_count": null,
   "id": "bcac542f",
   "metadata": {},
   "outputs": [],
   "source": [
    "print ( \"optimal value : \",model.OBJVAl)\n",
    "model.printAttr([\"X\",\"Obj\",\"SAObjLow\",\"SAObjUP\"])\n",
    "model.printAttr([\"RC\",\"LB\",\"SALBLow\",\"SALBUp\",\"UB\",\"SAUBLow\",\"SAUBUp\"])\n",
    "model.printAttr([\"Sense\",\"Slack\",\"Pi\",\"RHS\",\"SARHSLow\",\"SARHSUp\"])"
   ]
  },
  {
   "cell_type": "code",
   "execution_count": null,
   "id": "d5140cc0",
   "metadata": {},
   "outputs": [],
   "source": [
    "#Q2\n",
    "machineHours=13*(7*24-2)"
   ]
  },
  {
   "cell_type": "code",
   "execution_count": null,
   "id": "e9c96757",
   "metadata": {},
   "outputs": [],
   "source": [
    "-machineHours*-0.64272"
   ]
  },
  {
   "cell_type": "code",
   "execution_count": null,
   "id": "1c45fd2c",
   "metadata": {},
   "outputs": [],
   "source": [
    "#Q6\n",
    "outsourced=[ca for ca in carpets if x[\"SubContr\",ca].X>0]\n",
    "print(outsourced)\n"
   ]
  },
  {
   "cell_type": "code",
   "execution_count": null,
   "id": "49d51376",
   "metadata": {},
   "outputs": [],
   "source": [
    "#Q7"
   ]
  }
 ],
 "metadata": {
  "kernelspec": {
   "display_name": "Python 3",
   "language": "python",
   "name": "python3"
  },
  "language_info": {
   "codemirror_mode": {
    "name": "ipython",
    "version": 3
   },
   "file_extension": ".py",
   "mimetype": "text/x-python",
   "name": "python",
   "nbconvert_exporter": "python",
   "pygments_lexer": "ipython3",
   "version": "3.8.8"
  }
 },
 "nbformat": 4,
 "nbformat_minor": 5
}
