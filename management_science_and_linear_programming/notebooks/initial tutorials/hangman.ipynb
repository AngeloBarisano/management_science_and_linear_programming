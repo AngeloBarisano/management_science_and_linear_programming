{
 "cells": [
  {
   "cell_type": "code",
   "execution_count": null,
   "metadata": {},
   "outputs": [
    {
     "name": "stdout",
     "output_type": "stream",
     "text": [
      "Tried: []  lives 8\n",
      "___________\n"
     ]
    }
   ],
   "source": [
    "#Hangman\n",
    "import random\n",
    "with open('words.txt','r')as f:\n",
    "    words=f.read().split()\n",
    "letters='a b c d e f g h i g k l m n o p q r s t u v w x y z'.split()\n",
    "word=words[random.randint(0,len(words))].lower()\n",
    "lives=8\n",
    "triedletters=[]\n",
    "while True:\n",
    "    if lives==0:\n",
    "        print (\"You lost. The word was\",word)\n",
    "        break\n",
    "    remainingletters=[l for l in word if l not in triedletters]\n",
    "    if len(remainingletters)==0:\n",
    "        print ('The word is ',word,'. Congrats!!') \n",
    "        break  \n",
    "    hidden=''\n",
    "    for l in word:\n",
    "        if l in triedletters:\n",
    "            hidden+=l\n",
    "        else:\n",
    "            hidden+='_'\n",
    "    print ('Tried:',triedletters,' lives', lives)\n",
    "    print (hidden)\n",
    "    nextl=input('Guess Next letter ')\n",
    "    triedletters.append(nextl)\n",
    "    if nextl not in word:\n",
    "        lives-=1\n",
    "    \n",
    "    "
   ]
  },
  {
   "cell_type": "raw",
   "metadata": {},
   "source": []
  }
 ],
 "metadata": {
  "anaconda-cloud": {},
  "kernelspec": {
   "display_name": "Python 3",
   "language": "python",
   "name": "python3"
  },
  "language_info": {
   "codemirror_mode": {
    "name": "ipython",
    "version": 3
   },
   "file_extension": ".py",
   "mimetype": "text/x-python",
   "name": "python",
   "nbconvert_exporter": "python",
   "pygments_lexer": "ipython3",
   "version": "3.6.4"
  }
 },
 "nbformat": 4,
 "nbformat_minor": 1
}
