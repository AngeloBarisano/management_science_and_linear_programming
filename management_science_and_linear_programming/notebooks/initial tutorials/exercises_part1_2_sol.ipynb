{
 "cells": [
  {
   "cell_type": "markdown",
   "metadata": {},
   "source": [
    "# Python exercises"
   ]
  },
  {
   "cell_type": "code",
   "execution_count": null,
   "metadata": {
    "collapsed": true
   },
   "outputs": [],
   "source": [
    "%pylab inline\n"
   ]
  },
  {
   "cell_type": "markdown",
   "metadata": {},
   "source": [
    "Question 1\n",
    "\n",
    "Consider the list [1,4,6,8,10,11]\n",
    "Write a program that prints the 3rd from the end element of the list\n"
   ]
  },
  {
   "cell_type": "code",
   "execution_count": 1,
   "metadata": {},
   "outputs": [
    {
     "data": {
      "text/plain": [
       "8"
      ]
     },
     "execution_count": 1,
     "metadata": {},
     "output_type": "execute_result"
    }
   ],
   "source": [
    "a=[1,4,6,8,10,11] \n",
    "a[-3]"
   ]
  },
  {
   "cell_type": "markdown",
   "metadata": {},
   "source": [
    "Question 2\n",
    "\n",
    "Define a function which computes the sum of two numbers. \n",
    "\n"
   ]
  },
  {
   "cell_type": "code",
   "execution_count": 5,
   "metadata": {},
   "outputs": [
    {
     "name": "stdout",
     "output_type": "stream",
     "text": [
      "7\n"
     ]
    }
   ],
   "source": [
    "def my_sum(a,b):\n",
    "    return a+b\n",
    "\n",
    "print my_sum(3,4)"
   ]
  },
  {
   "cell_type": "markdown",
   "metadata": {},
   "source": [
    "Question 3\n",
    "\n",
    "Define a function that can accept two strings as input and print the string with maximum length. \n",
    "If two strings have the same length, then the function should print both strings\n",
    "\n"
   ]
  },
  {
   "cell_type": "code",
   "execution_count": 4,
   "metadata": {},
   "outputs": [
    {
     "name": "stdout",
     "output_type": "stream",
     "text": [
      "motorcycle\n"
     ]
    }
   ],
   "source": [
    "def print_max_len(a,b):\n",
    "    if len(a)>len(b):\n",
    "        print a\n",
    "    elif len(b)>len(a):\n",
    "        print b\n",
    "    else:\n",
    "        print a,b\n",
    "        \n",
    "print_max_len('cat','motorcycle')"
   ]
  },
  {
   "cell_type": "markdown",
   "metadata": {},
   "source": [
    "Question 4\n",
    "\n",
    "Define a function that can accept an integer number as input and print \"It is an even number\" if the number is even, otherwise print \"It is an odd number\".\n",
    "\n",
    "Hints:\n",
    "\n",
    "Use % operator to check if a number is even or odd.\n",
    "\n"
   ]
  },
  {
   "cell_type": "code",
   "execution_count": 7,
   "metadata": {},
   "outputs": [
    {
     "name": "stdout",
     "output_type": "stream",
     "text": [
      "it is an even number\n"
     ]
    }
   ],
   "source": [
    "def is_it_even(n):\n",
    "    if n%2==0:\n",
    "        print 'it is an even number'\n",
    "    else:\n",
    "        print 'it is an odd number'\n",
    "        \n",
    "is_it_even(222)"
   ]
  },
  {
   "cell_type": "markdown",
   "metadata": {},
   "source": [
    "Question 5\n",
    "\n",
    "Write a function which accepts a string as input to print \"Yes\" if the string is \"yes\" or \"YES\" or \"Yes\", otherwise print \"No\". \n",
    "\n",
    "\n"
   ]
  },
  {
   "cell_type": "code",
   "execution_count": 9,
   "metadata": {},
   "outputs": [
    {
     "name": "stdout",
     "output_type": "stream",
     "text": [
      "Yes\n"
     ]
    }
   ],
   "source": [
    "def yeses(s):\n",
    "    if s=='Yes' or s=='YES' or s=='YES':\n",
    "        print 'Yes'\n",
    "    else:\n",
    "        print 'No'\n",
    "        \n",
    "yeses('Yes')"
   ]
  },
  {
   "cell_type": "markdown",
   "metadata": {},
   "source": [
    "Question 6\n",
    "\n",
    "\n",
    "Write a function to compute 1/2+2/3+3/4+...+n/n+1 with a given n.\n",
    "\n",
    "Example:\n",
    "If the following n is given as input to the function:\n",
    "5\n",
    "\n",
    "Then, the output of the program should be:\n",
    "3.55\n",
    "\n",
    "Hints:\n",
    "Use float() to convert an integer to a float\n",
    "\n",
    "\n"
   ]
  },
  {
   "cell_type": "code",
   "execution_count": 16,
   "metadata": {},
   "outputs": [
    {
     "name": "stdout",
     "output_type": "stream",
     "text": [
      "3.55\n"
     ]
    }
   ],
   "source": [
    "def series_sum(n):\n",
    "    x=0\n",
    "    for i in range(1,n+1):\n",
    "        x+=float(i)/float(i+1)\n",
    "    return x\n",
    "\n",
    "print seriessum(5)"
   ]
  },
  {
   "cell_type": "markdown",
   "metadata": {},
   "source": [
    "Question 7\n",
    " Write a function that computes the area and circumference of a circle, given the radius. The function should return\n",
    "the two results in a list.\n",
    "\n"
   ]
  },
  {
   "cell_type": "code",
   "execution_count": 17,
   "metadata": {},
   "outputs": [
    {
     "name": "stdout",
     "output_type": "stream",
     "text": [
      "[78.53975, 31.4159]\n"
     ]
    }
   ],
   "source": [
    "def area_and_circumference(radius):\n",
    "    area=3.14159*radius**2\n",
    "    circ=2*3.14159*radius\n",
    "    return [area,circ]\n",
    "\n"
   ]
  },
  {
   "cell_type": "markdown",
   "metadata": {},
   "source": [
    "Question 8\n",
    "\n",
    " Use the function of Exercise 7, to print the area of a circle with radius 3.\n",
    "\n"
   ]
  },
  {
   "cell_type": "code",
   "execution_count": 18,
   "metadata": {},
   "outputs": [
    {
     "name": "stdout",
     "output_type": "stream",
     "text": [
      "[28.27431, 18.849539999999998]\n"
     ]
    }
   ],
   "source": [
    "print area_and_circumference(3)"
   ]
  },
  {
   "cell_type": "markdown",
   "metadata": {},
   "source": [
    "Question 9\n",
    "\n",
    " Write a function that takes as an argument a list of numbers and returns a list of the subset of these numbers that are divided \n",
    "by 3 and are larger than 13. Evaluate the function at [6,7,12,14,16,21,22,24,31,33] and print the result.\n",
    "\n"
   ]
  },
  {
   "cell_type": "code",
   "execution_count": 20,
   "metadata": {},
   "outputs": [
    {
     "name": "stdout",
     "output_type": "stream",
     "text": [
      "[21, 24, 33]\n"
     ]
    }
   ],
   "source": [
    "def filter_list(inputList):\n",
    "    newList=[]\n",
    "    for e in inputList:\n",
    "        if e>13 and e%3==0:\n",
    "            newList.append(e)\n",
    "    return newList\n",
    "\n",
    "print filter_list([6,7,12,14,16,21,22,24,31,33])"
   ]
  },
  {
   "cell_type": "markdown",
   "metadata": {},
   "source": [
    "Question 10\n",
    "\n",
    " Write a function that checks if a number is prime. Hint: range() may be handy.\n",
    "\n"
   ]
  },
  {
   "cell_type": "code",
   "execution_count": 23,
   "metadata": {},
   "outputs": [
    {
     "name": "stdout",
     "output_type": "stream",
     "text": [
      "False\n",
      "True\n"
     ]
    }
   ],
   "source": [
    "def is_prime(n):\n",
    "    for i in range(2,n):\n",
    "        if (n%i==0):\n",
    "            return False\n",
    "    return True\n",
    "\n",
    "print is_prime(15)\n",
    "print is_prime(17)"
   ]
  },
  {
   "cell_type": "markdown",
   "metadata": {},
   "source": [
    "Question 11\n",
    " Write a function that returns all prime numbers smaller than a number. You can use the function of exercise 7.\n",
    "\n"
   ]
  },
  {
   "cell_type": "code",
   "execution_count": 26,
   "metadata": {},
   "outputs": [
    {
     "data": {
      "text/plain": [
       "[1, 2, 3, 5, 7, 11, 13, 17, 19]"
      ]
     },
     "execution_count": 26,
     "metadata": {},
     "output_type": "execute_result"
    }
   ],
   "source": [
    "def all_primes(n):\n",
    "    primes=[]\n",
    "    for i in range(1,n):\n",
    "        if is_prime(i):\n",
    "            primes.append(i)\n",
    "    return primes\n",
    "\n",
    "all_primes(22)"
   ]
  },
  {
   "cell_type": "markdown",
   "metadata": {},
   "source": [
    "Question 12\n",
    "\n",
    "Predict the outcome of the following code without executing it. Then execute it and check your answer.\n",
    "\n",
    "************\n",
    "def fun1(x):\n",
    "    \n",
    "    x=x+x\n",
    "    \n",
    "    print x\n",
    "    \n",
    "    x=x+x\n",
    "    \n",
    "    print x\n",
    "    \n",
    "def fun2(x):\n",
    "    \n",
    "    x=x+x\n",
    "    \n",
    "    print x\n",
    "    \n",
    "    x=x+x\n",
    "    \n",
    "    print x    \n",
    "    \n",
    "    return x\n",
    "    \n",
    "a=3\n",
    "\n",
    "print a\n",
    "\n",
    "fun1(a)\n",
    "\n",
    "print a\n",
    "\n",
    "a=fun2(a)\n",
    "\n",
    "print a\n",
    "\n",
    "fun1(a)\n",
    "\n",
    "print a\n",
    "**********\n",
    "\n"
   ]
  },
  {
   "cell_type": "code",
   "execution_count": null,
   "metadata": {
    "collapsed": true
   },
   "outputs": [],
   "source": []
  },
  {
   "cell_type": "markdown",
   "metadata": {},
   "source": [
    "Question 13\n",
    "\n",
    "\n",
    "Predict the outcome of the following code without executing it. Then execute it and check your answer.\n",
    "\n",
    "************\n",
    "\n",
    "def fun1(x):\n",
    "    \n",
    "    x=x+x\n",
    "    \n",
    "    print x\n",
    "    \n",
    "    x=x+x\n",
    "    \n",
    "    print x\n",
    "    \n",
    "\n",
    "def fun2(x):\n",
    "\n",
    "    x=x+x\n",
    "    \n",
    "    print x\n",
    "    \n",
    "    x=x+x\n",
    "    \n",
    "    print x    \n",
    "    \n",
    "    return x\n",
    "    \n",
    "a='k'\n",
    "\n",
    "print a\n",
    "\n",
    "fun1(a)\n",
    "\n",
    "print a\n",
    "\n",
    "a=fun2(a)\n",
    "\n",
    "print a\n",
    "\n",
    "fun1(a)\n",
    "\n",
    "print a\n",
    "\n",
    "**********\n",
    "\n"
   ]
  },
  {
   "cell_type": "code",
   "execution_count": null,
   "metadata": {
    "collapsed": true
   },
   "outputs": [],
   "source": []
  },
  {
   "cell_type": "markdown",
   "metadata": {},
   "source": [
    "Question 14\n",
    "\n",
    "\n",
    "Predict the outcome of the following code without executing it. Then execute it and check your answer.\n",
    "\n",
    "************\n",
    "\n",
    "def fun1(x):\n",
    "\n",
    "    x[2:4]=['a','b']\n",
    "    \n",
    "    \n",
    "a=[1,2,3,4,5]\n",
    "\n",
    "fun1(a)\n",
    "\n",
    "print a\n",
    "\n",
    "**********\n",
    "\n"
   ]
  },
  {
   "cell_type": "code",
   "execution_count": null,
   "metadata": {
    "collapsed": true
   },
   "outputs": [],
   "source": []
  },
  {
   "cell_type": "markdown",
   "metadata": {},
   "source": [
    "Question 15\n",
    "\n",
    "\n",
    " Write a function that takes as input an integer and prints the sum of the numbers digits.\n",
    "Hint : consider type casting.\n",
    "\n",
    "\n"
   ]
  },
  {
   "cell_type": "code",
   "execution_count": 28,
   "metadata": {},
   "outputs": [
    {
     "name": "stdout",
     "output_type": "stream",
     "text": [
      "6\n"
     ]
    }
   ],
   "source": [
    "def sum_of_digits(n):\n",
    "    number_as_string=str(n)\n",
    "    sumOfDigits=0\n",
    "    for i in range(len(number_as_string)):\n",
    "        sumOfDigits+=int(number_as_string[i])\n",
    "    print sumOfDigits\n",
    "    \n",
    "sum_of_digits(123)"
   ]
  },
  {
   "cell_type": "markdown",
   "metadata": {},
   "source": [
    "Question 16\n",
    "\n",
    "\n",
    " Write a function that computes the net amount of a bank account based a transaction log. \n",
    "The transaction log format is \n",
    "D100\n",
    "W200\n",
    "and is supplied as a list of strings\n",
    "D means deposit while W means withdrawal.\n",
    "Suppose the following input is supplied to the program:\n",
    "['D300','D300','W200','D100']\n",
    "Then, the output should be:\n",
    "500\n",
    "\n",
    "\n"
   ]
  },
  {
   "cell_type": "code",
   "execution_count": 29,
   "metadata": {},
   "outputs": [
    {
     "name": "stdout",
     "output_type": "stream",
     "text": [
      "500\n"
     ]
    }
   ],
   "source": [
    "def net_amount(transactionLog):\n",
    "    net=0\n",
    "    for transaction in transactionLog:\n",
    "        if transaction[0]=='D':\n",
    "            net+=int(transaction[1:])\n",
    "        else:\n",
    "            net-=int(transaction[1:])\n",
    "    return net\n",
    "\n",
    "print net_amount( ['D300','D300','W200','D100'] )\n",
    "    "
   ]
  },
  {
   "cell_type": "markdown",
   "metadata": {},
   "source": [
    "Question 17\n",
    "\n",
    "\n",
    "Write a program to generate all sentences where subject is in [\"I\", \"You\"] and verb is in\n",
    " [\"Play\", \"Love\"] and the object is in [\"Hockey\",\"Football\"].\n",
    "\n",
    "\n"
   ]
  },
  {
   "cell_type": "code",
   "execution_count": 30,
   "metadata": {},
   "outputs": [
    {
     "name": "stdout",
     "output_type": "stream",
     "text": [
      "I play hockey\n",
      "I play football\n",
      "I love hockey\n",
      "I love football\n",
      "You play hockey\n",
      "You play football\n",
      "You love hockey\n",
      "You love football\n"
     ]
    }
   ],
   "source": [
    "for sub in [\"I\", \"You\"] :\n",
    "    for verb in ['play','love']:\n",
    "        for obj in ['hockey','football']:\n",
    "            print sub,verb,obj"
   ]
  },
  {
   "cell_type": "markdown",
   "metadata": {},
   "source": [
    "Question 18\n",
    "\n",
    "\n",
    "\n",
    "A website requires the users to input username and password to register. Write a program to check \n",
    "the validity of password input by users.\n",
    "Following are the criteria for checking the password:\n",
    "1. At least 1 letter between [a-z]\n",
    "2. At least 1 number between [0-9]\n",
    "1. At least 1 letter between [A-Z]\n",
    "3. At least 1 character from [$#@]\n",
    "4. Minimum length of transaction password: 6\n",
    "5. Maximum length of transaction password: 12\n",
    "\n",
    "Hints: \n",
    "-check google for a function that checks if a character is in a string.\n",
    "-check what python returns for 'a'>'b', 'a'>'B', 'a'>'A', int(a), int(A) and google for ascii numbers.\n",
    "\n"
   ]
  },
  {
   "cell_type": "code",
   "execution_count": 51,
   "metadata": {},
   "outputs": [
    {
     "name": "stdout",
     "output_type": "stream",
     "text": [
      "password rejected:\n",
      "At least 1 letter between [A-Z]\n"
     ]
    }
   ],
   "source": [
    "def check_pass(password):\n",
    "    cond1=False\n",
    "    cond2=False\n",
    "    cond3=False\n",
    "    cond4=False\n",
    "    lengthcond=False    \n",
    "    if len(password)>=6 and len(password)<=12:\n",
    "        lengthcond=True\n",
    "    for letter in password:\n",
    "        if letter>='a' and letter<='z':\n",
    "            cond1=True\n",
    "        if letter>='A' and letter<='Z':\n",
    "            cond3=True\n",
    "        if letter>='0' and letter<='9':\n",
    "            cond2=True\n",
    "        if '$'==letter or '#'==letter or '@'==letter:\n",
    "            cond4=True\n",
    "    if cond1 and cond2 and cond3 and cond4 and lengthcond:\n",
    "        print 'password accepted'\n",
    "    else:\n",
    "        print 'password rejected:'\n",
    "        if not cond1:\n",
    "            print 'At least 1 letter between [a-z]'\n",
    "        if not cond2:\n",
    "            print 'At least 1 number between [0-9]'\n",
    "        if not cond3:\n",
    "            print 'At least 1 letter between [A-Z]'\n",
    "        if not cond4:\n",
    "            print 'At least 1 character from [$#@]'\n",
    "        if not lengthcond:\n",
    "            print 'length between 6 and 12 characters'\n",
    "\n",
    "check_pass(\"aur$os9\")\n",
    "            "
   ]
  },
  {
   "cell_type": "code",
   "execution_count": null,
   "metadata": {
    "collapsed": true
   },
   "outputs": [],
   "source": []
  }
 ],
 "metadata": {
  "anaconda-cloud": {},
  "kernelspec": {
   "display_name": "Python 3",
   "language": "python",
   "name": "python3"
  },
  "language_info": {
   "codemirror_mode": {
    "name": "ipython",
    "version": 3
   },
   "file_extension": ".py",
   "mimetype": "text/x-python",
   "name": "python",
   "nbconvert_exporter": "python",
   "pygments_lexer": "ipython3",
   "version": "3.6.4"
  }
 },
 "nbformat": 4,
 "nbformat_minor": 1
}
