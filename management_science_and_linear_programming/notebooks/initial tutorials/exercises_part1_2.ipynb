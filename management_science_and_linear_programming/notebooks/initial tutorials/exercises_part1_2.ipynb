{
 "cells": [
  {
   "cell_type": "markdown",
   "metadata": {},
   "source": [
    "# Python exercises"
   ]
  },
  {
   "cell_type": "code",
   "execution_count": null,
   "metadata": {
    "collapsed": true
   },
   "outputs": [],
   "source": [
    "%pylab inline\n"
   ]
  },
  {
   "cell_type": "markdown",
   "metadata": {},
   "source": [
    "Question 1\n",
    "\n",
    "Consider the list [1,4,6,8,10,11]\n",
    "Write a program that prints the 3rd from the end element of the list\n"
   ]
  },
  {
   "cell_type": "code",
   "execution_count": 1,
   "metadata": {},
   "outputs": [
    {
     "name": "stdout",
     "output_type": "stream",
     "text": [
      "8\n"
     ]
    }
   ],
   "source": [
    "a=[1,4,6,8,10,11]\n",
    "print(a[-3])"
   ]
  },
  {
   "cell_type": "markdown",
   "metadata": {},
   "source": [
    "Question 2\n",
    "\n",
    "Define a function which computes the sum of two numbers. \n",
    "\n"
   ]
  },
  {
   "cell_type": "code",
   "execution_count": 2,
   "metadata": {},
   "outputs": [
    {
     "data": {
      "text/plain": [
       "13"
      ]
     },
     "execution_count": 2,
     "metadata": {},
     "output_type": "execute_result"
    }
   ],
   "source": [
    "def f(a,b):\n",
    "    return a+b\n",
    "\n",
    "f(3,10)"
   ]
  },
  {
   "cell_type": "markdown",
   "metadata": {},
   "source": [
    "Question 3\n",
    "\n",
    "Define a function that can accept two strings as input and print the string with maximum length. \n",
    "If two strings have the same length, then the function should print both strings\n",
    "\n"
   ]
  },
  {
   "cell_type": "code",
   "execution_count": null,
   "metadata": {
    "collapsed": true
   },
   "outputs": [],
   "source": []
  },
  {
   "cell_type": "markdown",
   "metadata": {},
   "source": [
    "Question 4\n",
    "\n",
    "Define a function that can accept an integer number as input and print \"It is an even number\" if the number is even, otherwise print \"It is an odd number\".\n",
    "\n",
    "Hints:\n",
    "\n",
    "Use % operator to check if a number is even or odd.\n",
    "\n"
   ]
  },
  {
   "cell_type": "code",
   "execution_count": null,
   "metadata": {
    "collapsed": true
   },
   "outputs": [],
   "source": []
  },
  {
   "cell_type": "markdown",
   "metadata": {},
   "source": [
    "Question 5\n",
    "\n",
    "Write a function which accepts a string as input to print \"Yes\" if the string is \"yes\" or \"YES\" or \"Yes\", otherwise print \"No\". \n",
    "\n",
    "\n"
   ]
  },
  {
   "cell_type": "code",
   "execution_count": null,
   "metadata": {
    "collapsed": true
   },
   "outputs": [],
   "source": []
  },
  {
   "cell_type": "markdown",
   "metadata": {},
   "source": [
    "Question 6\n",
    "\n",
    "\n",
    "Write a function to compute 1/2+2/3+3/4+...+n/n+1 with a given n.\n",
    "\n",
    "Example:\n",
    "If the following n is given as input to the function:\n",
    "5\n",
    "Then, the output of the program should be:\n",
    "3.55\n",
    "Hints:\n",
    "Use float() to convert an integer to a float\n",
    "\n",
    "\n"
   ]
  },
  {
   "cell_type": "code",
   "execution_count": null,
   "metadata": {
    "collapsed": true
   },
   "outputs": [],
   "source": []
  },
  {
   "cell_type": "markdown",
   "metadata": {},
   "source": [
    "Question 7\n",
    " Write a function that computes the area and circumference of a circle, given the radius. The function should return\n",
    "the two results in a list.\n",
    "\n"
   ]
  },
  {
   "cell_type": "code",
   "execution_count": null,
   "metadata": {
    "collapsed": true
   },
   "outputs": [],
   "source": []
  },
  {
   "cell_type": "markdown",
   "metadata": {},
   "source": [
    "Question 8\n",
    "\n",
    " Use the function of Exercise 7, to print the area of a circle with radius 3.\n",
    "\n"
   ]
  },
  {
   "cell_type": "code",
   "execution_count": null,
   "metadata": {
    "collapsed": true
   },
   "outputs": [],
   "source": []
  },
  {
   "cell_type": "markdown",
   "metadata": {},
   "source": [
    "Question 9\n",
    "\n",
    " Write a function that takes as an argument a list of numbers and returns a list of the subset of these number that are divided \n",
    "by 3 and are larger than 13. Evaluate the function at [6,7,12,14,16,21,22,24,31,33] and print the result.\n",
    "\n"
   ]
  },
  {
   "cell_type": "code",
   "execution_count": null,
   "metadata": {
    "collapsed": true
   },
   "outputs": [],
   "source": []
  },
  {
   "cell_type": "markdown",
   "metadata": {},
   "source": [
    "Question 10\n",
    "\n",
    " Write a function that checks if a number is prime. Hint: range() may be handy.\n",
    "\n"
   ]
  },
  {
   "cell_type": "code",
   "execution_count": null,
   "metadata": {
    "collapsed": true
   },
   "outputs": [],
   "source": []
  },
  {
   "cell_type": "markdown",
   "metadata": {},
   "source": [
    "Question 11\n",
    " Write a function that returns all prime numbers smaller than a number. You can use the function of exercise 7.\n",
    "\n"
   ]
  },
  {
   "cell_type": "code",
   "execution_count": null,
   "metadata": {
    "collapsed": true
   },
   "outputs": [],
   "source": []
  },
  {
   "cell_type": "markdown",
   "metadata": {},
   "source": [
    "Question 12\n",
    "\n",
    "Predict the outcome of the following code without executing it. Then execute it and check your answer.\n",
    "\n",
    "************\n",
    "def fun1(x):\n",
    "    \n",
    "    x=x+x\n",
    "    \n",
    "    print x\n",
    "    \n",
    "    x=x+x\n",
    "    \n",
    "    print x\n",
    "    \n",
    "def fun2(x):\n",
    "    \n",
    "    x=x+x\n",
    "    \n",
    "    print x\n",
    "    \n",
    "    x=x+x\n",
    "    \n",
    "    print x    \n",
    "    \n",
    "    return x\n",
    "    \n",
    "a=3\n",
    "\n",
    "print a\n",
    "\n",
    "fun1(a)\n",
    "\n",
    "print a\n",
    "\n",
    "a=fun2(a)\n",
    "\n",
    "print a\n",
    "\n",
    "fun1(a)\n",
    "\n",
    "print a\n",
    "**********\n",
    "\n",
    "\n"
   ]
  },
  {
   "cell_type": "code",
   "execution_count": null,
   "metadata": {
    "collapsed": true
   },
   "outputs": [],
   "source": []
  },
  {
   "cell_type": "markdown",
   "metadata": {},
   "source": [
    "Question 13\n",
    "\n",
    "\n",
    "Predict the outcome of the following code without executing it. Then execute it and check your answer.\n",
    "\n",
    "************\n",
    "\n",
    "def fun1(x):\n",
    "    \n",
    "    x=x+x\n",
    "    \n",
    "    print x\n",
    "    \n",
    "    x=x+x\n",
    "    \n",
    "    print x\n",
    "    \n",
    "\n",
    "def fun2(x):\n",
    "\n",
    "    x=x+x\n",
    "    \n",
    "    print x\n",
    "    \n",
    "    x=x+x\n",
    "    \n",
    "    print x    \n",
    "    \n",
    "    return x\n",
    "    \n",
    "a='k'\n",
    "\n",
    "print a\n",
    "\n",
    "fun1(a)\n",
    "\n",
    "print a\n",
    "\n",
    "a=fun2(a)\n",
    "\n",
    "print a\n",
    "\n",
    "fun1(a)\n",
    "\n",
    "print a\n",
    "\n",
    "**********\n",
    "\n",
    "\n"
   ]
  },
  {
   "cell_type": "code",
   "execution_count": null,
   "metadata": {
    "collapsed": true
   },
   "outputs": [],
   "source": []
  },
  {
   "cell_type": "markdown",
   "metadata": {},
   "source": [
    "Question 14\n",
    "\n",
    "\n",
    "Predict the outcome of the following code without executing it. Then execute it and check your answer.\n",
    "\n",
    "************\n",
    "\n",
    "def fun1(x):\n",
    "\n",
    "    x[2:4]=['a','b']\n",
    "    \n",
    "    \n",
    "a=[1,2,3,4,5]\n",
    "\n",
    "fun1(a)\n",
    "\n",
    "print a\n",
    "\n",
    "**********\n",
    "\n"
   ]
  },
  {
   "cell_type": "code",
   "execution_count": null,
   "metadata": {
    "collapsed": true
   },
   "outputs": [],
   "source": []
  },
  {
   "cell_type": "markdown",
   "metadata": {},
   "source": [
    "Question 15\n",
    "\n",
    "\n",
    " Write a function that takes as input an integer and prints the sum of the numbers digits.\n",
    "Hint : consider type casting.\n",
    "\n",
    "\n"
   ]
  },
  {
   "cell_type": "code",
   "execution_count": null,
   "metadata": {
    "collapsed": true
   },
   "outputs": [],
   "source": []
  },
  {
   "cell_type": "markdown",
   "metadata": {},
   "source": [
    "Question 16\n",
    "\n",
    "\n",
    " Write a function that computes the net amount of a bank account based a transaction log. \n",
    "The transaction log format is \n",
    "D100\n",
    "W200\n",
    "and is supplied as a list of strings\n",
    "D means deposit while W means withdrawal.\n",
    "Suppose the following input is supplied to the program:\n",
    "['D300','D300','W200','D100']\n",
    "Then, the output should be:\n",
    "500\n",
    "\n",
    "\n"
   ]
  },
  {
   "cell_type": "code",
   "execution_count": null,
   "metadata": {
    "collapsed": true
   },
   "outputs": [],
   "source": []
  },
  {
   "cell_type": "markdown",
   "metadata": {},
   "source": [
    "Question 17\n",
    "\n",
    "\n",
    "Write a program to generate all sentences where subject is in [\"I\", \"You\"] and verb is in\n",
    " [\"Play\", \"Love\"] and the object is in [\"Hockey\",\"Football\"].\n",
    "\n",
    "\n"
   ]
  },
  {
   "cell_type": "code",
   "execution_count": null,
   "metadata": {
    "collapsed": true
   },
   "outputs": [],
   "source": []
  },
  {
   "cell_type": "markdown",
   "metadata": {},
   "source": [
    "Question 18\n",
    "\n",
    "\n",
    "\n",
    "A website requires the users to input username and password to register. Write a program to check \n",
    "the validity of password input by users.\n",
    "Following are the criteria for checking the password:\n",
    "1. At least 1 letter between [a-z]\n",
    "2. At least 1 number between [0-9]\n",
    "1. At least 1 letter between [A-Z]\n",
    "3. At least 1 character from [$#@]\n",
    "4. Minimum length of transaction password: 6\n",
    "5. Maximum length of transaction password: 12\n",
    "\n",
    "Hints: \n",
    "-check google for a function that checks if a character is in a string.\n",
    "-check what python returns for 'a'>'b', 'a'>'B', 'a'>'A', int(a), int(A) and google for ascii numbers.\n",
    "\n"
   ]
  },
  {
   "cell_type": "code",
   "execution_count": null,
   "metadata": {
    "collapsed": true
   },
   "outputs": [],
   "source": []
  }
 ],
 "metadata": {
  "kernelspec": {
   "display_name": "Python 3",
   "language": "python",
   "name": "python3"
  },
  "language_info": {
   "codemirror_mode": {
    "name": "ipython",
    "version": 3
   },
   "file_extension": ".py",
   "mimetype": "text/x-python",
   "name": "python",
   "nbconvert_exporter": "python",
   "pygments_lexer": "ipython3",
   "version": "3.6.4"
  }
 },
 "nbformat": 4,
 "nbformat_minor": 1
}
