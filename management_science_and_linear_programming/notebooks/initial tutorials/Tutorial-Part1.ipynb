{
 "cells": [
  {
   "cell_type": "markdown",
   "metadata": {},
   "source": [
    "# 1 Introduction "
   ]
  },
  {
   "cell_type": "markdown",
   "metadata": {},
   "source": [
    "### Python as a calculator"
   ]
  },
  {
   "cell_type": "code",
   "execution_count": 1,
   "metadata": {},
   "outputs": [
    {
     "name": "stdout",
     "output_type": "stream",
     "text": [
      "8\n",
      "0.13333333333333333\n",
      "0.13333333333333333\n",
      "125\n",
      "2\n"
     ]
    }
   ],
   "source": [
    "print (2**3)\n",
    "print (2/15)\n",
    "print (5**3)\n",
    "print (17%3)"
   ]
  },
  {
   "cell_type": "markdown",
   "metadata": {},
   "source": [
    "### Using Variables"
   ]
  },
  {
   "cell_type": "code",
   "execution_count": 2,
   "metadata": {},
   "outputs": [
    {
     "name": "stdout",
     "output_type": "stream",
     "text": [
      "100\n",
      "False\n",
      "70\n",
      "15\n"
     ]
    }
   ],
   "source": [
    "width=20\n",
    "height=5\n",
    "print (width*height)\n",
    "print (width==height)\n",
    "width=width+50\n",
    "print (width)\n",
    "height+=10\n",
    "print (height)"
   ]
  },
  {
   "cell_type": "markdown",
   "metadata": {},
   "source": [
    "### Strings"
   ]
  },
  {
   "cell_type": "code",
   "execution_count": 3,
   "metadata": {},
   "outputs": [
    {
     "name": "stdout",
     "output_type": "stream",
     "text": [
      "spam eggs\n",
      "doesn't\n",
      "doesn't\n",
      " This is a \n",
      "        multiline string\n",
      "first part, second part\n",
      "First line \n",
      " second line\n"
     ]
    }
   ],
   "source": [
    "print ('spam eggs')\n",
    "print ('doesn\\'t')\n",
    "print (\"doesn't\")\n",
    "print (\"\"\" This is a \n",
    "        multiline string\"\"\")\n",
    "print (\"first part, \"+\"second part\")\n",
    "print (\"First line \\n second line\")\n"
   ]
  },
  {
   "cell_type": "code",
   "execution_count": 4,
   "metadata": {},
   "outputs": [
    {
     "name": "stdout",
     "output_type": "stream",
     "text": [
      "U\n",
      "y\n",
      "i\n",
      "t\n"
     ]
    }
   ],
   "source": [
    "word=\"University\"\n",
    "print (word[0])\n",
    "print (word[-1])\n",
    "print (word[2])\n",
    "print (word[-2])\n"
   ]
  },
  {
   "cell_type": "markdown",
   "metadata": {},
   "source": [
    "### Type casting"
   ]
  },
  {
   "cell_type": "code",
   "execution_count": 7,
   "metadata": {},
   "outputs": [
    {
     "name": "stdout",
     "output_type": "stream",
     "text": [
      "5\n",
      "23\n",
      "25\n"
     ]
    }
   ],
   "source": [
    "#It is often useful to change the type of an object\n",
    "a=2\n",
    "b=3\n",
    "print (a+b)\n",
    "print (str(a)+str(b))\n",
    "print (int(str(a)+str(b))+2)"
   ]
  },
  {
   "cell_type": "markdown",
   "metadata": {},
   "source": [
    "### Lists"
   ]
  },
  {
   "cell_type": "markdown",
   "metadata": {},
   "source": [
    "Lists can be used to group together other items. In python (unlike other languages), lists can contain items of different types. "
   ]
  },
  {
   "cell_type": "code",
   "execution_count": 8,
   "metadata": {},
   "outputs": [
    {
     "name": "stdout",
     "output_type": "stream",
     "text": [
      "9\n",
      "25\n",
      "16\n",
      "[9, 16, 25]\n",
      "[9, 16]\n",
      "[4, 9, 16]\n",
      "5\n",
      "[1, 2, 3, 4]\n"
     ]
    }
   ],
   "source": [
    "squares=[1,4,9,16,25]\n",
    "print (squares[2])\n",
    "print (squares[-1])\n",
    "print (squares[-2])\n",
    "print (squares[2:])\n",
    "print (squares[2:4])\n",
    "print (squares[1:-1])\n",
    "print (len(squares))  # The len function returns the length of a list. \n",
    "print ([1,2]+[3,4])"
   ]
  },
  {
   "cell_type": "markdown",
   "metadata": {},
   "source": [
    "# Data types"
   ]
  },
  {
   "cell_type": "markdown",
   "metadata": {},
   "source": [
    "Mutable vs Immutable: in Python, some objects can be changed without changing their identity(mutable) and others cannot(immutable).\n",
    "\n",
    "Some immutable objects:\n",
    "\n",
    "-int\n",
    "\n",
    "-float\n",
    "\n",
    "-string\n",
    "\n",
    "-tuple\n",
    "\n",
    "Some mutable objects:\n",
    "\n",
    "-list\n",
    "\n",
    "-dictionary\n",
    "\n",
    "The distinction can result in some nasty bugs (errors) when defining functions, and therefore is important to understand. We will revisit this when we discuss functions. \n",
    "\n",
    "\n",
    "Observe the error below:"
   ]
  },
  {
   "cell_type": "code",
   "execution_count": 9,
   "metadata": {},
   "outputs": [
    {
     "ename": "TypeError",
     "evalue": "'str' object does not support item assignment",
     "output_type": "error",
     "traceback": [
      "\u001b[0;31m---------------------------------------------------------------------------\u001b[0m",
      "\u001b[0;31mTypeError\u001b[0m                                 Traceback (most recent call last)",
      "\u001b[0;32m<ipython-input-9-bdf446322865>\u001b[0m in \u001b[0;36m<module>\u001b[0;34m()\u001b[0m\n\u001b[0;32m----> 1\u001b[0;31m \u001b[0mword\u001b[0m\u001b[0;34m[\u001b[0m\u001b[0;34m-\u001b[0m\u001b[0;36m2\u001b[0m\u001b[0;34m]\u001b[0m\u001b[0;34m=\u001b[0m\u001b[0;34m'r'\u001b[0m\u001b[0;34m\u001b[0m\u001b[0m\n\u001b[0m",
      "\u001b[0;31mTypeError\u001b[0m: 'str' object does not support item assignment"
     ]
    }
   ],
   "source": [
    "word[-2]='r'"
   ]
  },
  {
   "cell_type": "markdown",
   "metadata": {},
   "source": [
    "But it works with lists:"
   ]
  },
  {
   "cell_type": "code",
   "execution_count": 11,
   "metadata": {},
   "outputs": [
    {
     "name": "stdout",
     "output_type": "stream",
     "text": [
      "[1, 4, 100, 16, 25]\n"
     ]
    }
   ],
   "source": [
    "squares=[1,4,9,16,25]\n",
    "squares[2]=100\n",
    "print (squares)"
   ]
  },
  {
   "cell_type": "markdown",
   "metadata": {},
   "source": [
    "### Same muttable object can be pointed to by multiple names "
   ]
  },
  {
   "cell_type": "code",
   "execution_count": 12,
   "metadata": {},
   "outputs": [
    {
     "name": "stdout",
     "output_type": "stream",
     "text": [
      "[1, 4, 3]\n",
      "[1, 4, 3]\n"
     ]
    }
   ],
   "source": [
    "x=[1,2,3]\n",
    "y=x\n",
    "x[1]=4\n",
    "print (x)\n",
    "print (y)"
   ]
  },
  {
   "cell_type": "markdown",
   "metadata": {},
   "source": [
    "# 2 Control Flow"
   ]
  },
  {
   "cell_type": "markdown",
   "metadata": {},
   "source": [
    "Useful python programs contain multiple commands. Control flow dictates the order with which these commands are executed. Consider the following program"
   ]
  },
  {
   "cell_type": "code",
   "execution_count": 8,
   "metadata": {},
   "outputs": [
    {
     "name": "stdout",
     "output_type": "stream",
     "text": [
      "2\n",
      "3\n",
      "5\n",
      "8\n"
     ]
    }
   ],
   "source": [
    "#Fibonacci series\n",
    "numbers=[1,2]\n",
    "while numbers[-1]<10:\n",
    "    print (numbers[-1])\n",
    "    nextNum=numbers[-1]+numbers[-2]\n",
    "    numbers=numbers+[nextNum]"
   ]
  },
  {
   "cell_type": "markdown",
   "metadata": {},
   "source": [
    "Notice:\n",
    "\n",
    "-The while loop executes as long as the condition remains true. \n",
    "\n",
    "-Notice the :\n",
    "\n",
    "-The body of the loop is indented. Indentation is how python groups statements. You can use tab or spaces for indentation, but you have to be consistent with the number of spaces. It is good practice to use exactly 4 spaces(or a tab).\n",
    "\n",
    " "
   ]
  },
  {
   "cell_type": "markdown",
   "metadata": {},
   "source": [
    "### if statements"
   ]
  },
  {
   "cell_type": "code",
   "execution_count": 18,
   "metadata": {},
   "outputs": [
    {
     "name": "stdout",
     "output_type": "stream",
     "text": [
      "Please enter an integer:2\n",
      "More\n"
     ]
    }
   ],
   "source": [
    "#If statements\n",
    "x=int(input(\"Please enter an integer:\"))\n",
    "if x<0:\n",
    "    x=0\n",
    "    print ('Negative, changed to zero')\n",
    "elif x==0:\n",
    "    print ('Zero')\n",
    "elif x==1:\n",
    "    print ('One')\n",
    "else:\n",
    "    print ('More')\n",
    "\n",
    "                "
   ]
  },
  {
   "cell_type": "markdown",
   "metadata": {},
   "source": [
    "### for statements"
   ]
  },
  {
   "cell_type": "markdown",
   "metadata": {},
   "source": [
    "The for loop iterates over the items of a list (or the characters of a string) in the order that they appear. In other languages, for loops always have the form of \n",
    "\n",
    "for i=1 to 10 do something\n",
    "\n"
   ]
  },
  {
   "cell_type": "code",
   "execution_count": 1,
   "metadata": {},
   "outputs": [
    {
     "name": "stdout",
     "output_type": "stream",
     "text": [
      "cat 3\n",
      "window 6\n",
      "university 10\n"
     ]
    }
   ],
   "source": [
    "#Measure some strings\n",
    "words=['cat','window','university']\n",
    "for w in words:\n",
    "    print (w,len(w))"
   ]
  },
  {
   "cell_type": "markdown",
   "metadata": {},
   "source": [
    "Be extra careful if you change the sequence in the loop. "
   ]
  },
  {
   "cell_type": "code",
   "execution_count": 5,
   "metadata": {},
   "outputs": [
    {
     "name": "stdout",
     "output_type": "stream",
     "text": [
      "[0, 1, 2, 3, 4, 5, 6, 7, 8, 9]\n",
      "[5, 6, 7, 8, 9]\n",
      "0 Mary\n",
      "1 had\n",
      "2 a\n",
      "3 little\n",
      "4 lamb\n"
     ]
    }
   ],
   "source": [
    "#If you want to iterate over numbers use the range function\n",
    "print (list(range(10)))\n",
    "print (list(range(5,10)))\n",
    "a=['Mary','had','a','little','lamb']\n",
    "for i in range(len(a)):\n",
    "    print (i,a[i])"
   ]
  },
  {
   "cell_type": "markdown",
   "metadata": {},
   "source": [
    "Look at the python tutorial sections 4.4-4.7, for break,continue,pass statements."
   ]
  },
  {
   "cell_type": "code",
   "execution_count": null,
   "metadata": {},
   "outputs": [],
   "source": []
  }
 ],
 "metadata": {
  "kernelspec": {
   "display_name": "Python 3.10.7 ('Management_Science_Code': venv)",
   "language": "python",
   "name": "python3"
  },
  "language_info": {
   "codemirror_mode": {
    "name": "ipython",
    "version": 3
   },
   "file_extension": ".py",
   "mimetype": "text/x-python",
   "name": "python",
   "nbconvert_exporter": "python",
   "pygments_lexer": "ipython3",
   "version": "3.10.7"
  },
  "vscode": {
   "interpreter": {
    "hash": "631b42a28b26d4224283cd0bbfa9240d9ab42f9083121b113c6838601922a371"
   }
  }
 },
 "nbformat": 4,
 "nbformat_minor": 1
}
