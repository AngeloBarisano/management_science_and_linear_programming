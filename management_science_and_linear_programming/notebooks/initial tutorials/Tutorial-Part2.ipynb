{
 "cells": [
  {
   "cell_type": "markdown",
   "metadata": {},
   "source": [
    "# Defining functions"
   ]
  },
  {
   "cell_type": "markdown",
   "metadata": {},
   "source": [
    "A function is a code section that performs a certain task. Reasons to use functions:\n",
    "\n",
    "-Reusability\n",
    "\n",
    "-Abstraction\n",
    "\n"
   ]
  },
  {
   "cell_type": "code",
   "execution_count": 2,
   "metadata": {},
   "outputs": [],
   "source": [
    "def my_print(word):\n",
    "    print (word+\"!\")\n",
    "\n",
    "def fib(n):\n",
    "    numbers=[1,2]\n",
    "    while numbers[-1]<=n:\n",
    "        print (numbers[-1])\n",
    "        nextNum=numbers[-1]+numbers[-2]\n",
    "        numbers=numbers+[nextNum]\n",
    "    "
   ]
  },
  {
   "cell_type": "code",
   "execution_count": 3,
   "metadata": {},
   "outputs": [
    {
     "name": "stdout",
     "output_type": "stream",
     "text": [
      "2\n",
      "3\n",
      "5\n",
      "8\n",
      "13\n",
      "Yes!\n"
     ]
    }
   ],
   "source": [
    "fib(20)\n",
    "my_print(\"Yes\")"
   ]
  },
  {
   "cell_type": "markdown",
   "metadata": {},
   "source": [
    "Notice:\n",
    "\n",
    "-The keyword def introduces a function definition. The name of the function follows, and a parenthesized list of parameters. \n",
    "\n",
    "-The statements that form the body start on the next line and must be intended. "
   ]
  },
  {
   "cell_type": "code",
   "execution_count": 4,
   "metadata": {},
   "outputs": [
    {
     "name": "stdout",
     "output_type": "stream",
     "text": [
      "False\n",
      "True\n"
     ]
    }
   ],
   "source": [
    "#functions can return values\n",
    "def equal(x,y):\n",
    "    if (x==y):\n",
    "        return True        \n",
    "    return False         # do we need to use else?\n",
    "print (equal(2,3))\n",
    "res=equal(2,2)\n",
    "print (res)\n"
   ]
  },
  {
   "cell_type": "code",
   "execution_count": 6,
   "metadata": {},
   "outputs": [
    {
     "name": "stdout",
     "output_type": "stream",
     "text": [
      "[1, 2, 3, 5, 8, 13, 21, 34, 55, 89]\n"
     ]
    }
   ],
   "source": [
    "def fib2(n):\n",
    "    numbers=[1,2]\n",
    "    while numbers[-1]+numbers[-2]<=n:\n",
    "        nextNum=numbers[-1]+numbers[-2]\n",
    "        numbers=numbers+[nextNum]\n",
    "    return numbers\n",
    "print (fib2(90))"
   ]
  },
  {
   "cell_type": "markdown",
   "metadata": {},
   "source": [
    "## Important Warning: mutable vs immutable function parameters:"
   ]
  },
  {
   "cell_type": "markdown",
   "metadata": {},
   "source": [
    "Important question: how does python behave when you pass a variable to a function and change it inside the function?\n",
    "Is it changed when we return from the function?\n",
    "\n",
    "This is tricky, and if you do not understand it you might introduce bugs that are hard to track down.\n",
    "\n",
    "The behaviour is different for mutable vs immutable function parameters.\n",
    "\n"
   ]
  },
  {
   "cell_type": "code",
   "execution_count": 11,
   "metadata": {},
   "outputs": [
    {
     "name": "stdout",
     "output_type": "stream",
     "text": [
      "3\n",
      "2\n"
     ]
    }
   ],
   "source": [
    "a=2\n",
    "def print_var_plus_one(x):\n",
    "    x+=1\n",
    "    print (x)\n",
    "print_var_plus_one(a)\n",
    "print (a)    "
   ]
  },
  {
   "cell_type": "markdown",
   "metadata": {},
   "source": [
    "The parameter a is an int. It is immutable. The statement x=x+1, created a new object and assigned it to the variable x. Therefore the old object was not affected\n",
    "\n",
    "Now compare this with:"
   ]
  },
  {
   "cell_type": "code",
   "execution_count": 12,
   "metadata": {},
   "outputs": [
    {
     "name": "stdout",
     "output_type": "stream",
     "text": [
      "[2, 3, 1]\n",
      "[2, 3, 1]\n"
     ]
    }
   ],
   "source": [
    "a=[2,3]\n",
    "def print_list_plus_one(x):\n",
    "    x+=[1]  #x+=[1] #modifies the structure  #explain dot notation.\n",
    "    print (x)\n",
    "print_list_plus_one(a)\n",
    "print (a)"
   ]
  },
  {
   "cell_type": "markdown",
   "metadata": {},
   "source": [
    "Here we are changing the contents of the list [2,3] which is a mutable object. Notice it has changed outside the function. Finally compare this with:"
   ]
  },
  {
   "cell_type": "code",
   "execution_count": 13,
   "metadata": {},
   "outputs": [
    {
     "name": "stdout",
     "output_type": "stream",
     "text": [
      "[2, 3, 1]\n",
      "[2, 3]\n"
     ]
    }
   ],
   "source": [
    "a=[2,3]\n",
    "def print_enlarged_list(x):\n",
    "    x=x+[1]              #re-assigns the variable\n",
    "    print (x)\n",
    "print_enlarged_list(a)\n",
    "print (a)"
   ]
  },
  {
   "cell_type": "markdown",
   "metadata": {},
   "source": [
    "Here, although the list passed to the function is a mutable object, the statement x=x+[2], assigns a new object to x"
   ]
  },
  {
   "cell_type": "markdown",
   "metadata": {},
   "source": [
    "## lambda expressions"
   ]
  },
  {
   "cell_type": "markdown",
   "metadata": {},
   "source": [
    "Small anonymous functions can be created with the lambda keyword. This is often useful when we pass a function as an argument to another function"
   ]
  },
  {
   "cell_type": "code",
   "execution_count": 14,
   "metadata": {},
   "outputs": [
    {
     "name": "stdout",
     "output_type": "stream",
     "text": [
      "15\n"
     ]
    }
   ],
   "source": [
    "def make_incrementor(n):  #this function returns a different function for every n\n",
    "    return lambda x: x+n   #you can read this as map x to x+n\n",
    "\n",
    "f=make_incrementor(10)\n",
    "print (f(5))"
   ]
  },
  {
   "cell_type": "code",
   "execution_count": 15,
   "metadata": {},
   "outputs": [
    {
     "name": "stdout",
     "output_type": "stream",
     "text": [
      "[[4, 'four'], [1, 'one'], [3, 'three'], [2, 'two']]\n"
     ]
    }
   ],
   "source": [
    "pairs=[[1,'one'],[2,'two'],[3,'three'],[4,'four']]\n",
    "pairs.sort(key=lambda pair: pair[1])                 # what does the . mean? Look up object oriented programming\n",
    "print (pairs)"
   ]
  },
  {
   "cell_type": "code",
   "execution_count": 16,
   "metadata": {},
   "outputs": [
    {
     "data": {
      "text/plain": [
       "False"
      ]
     },
     "execution_count": 16,
     "metadata": {},
     "output_type": "execute_result"
    }
   ],
   "source": [
    "'a'>'b'"
   ]
  },
  {
   "cell_type": "markdown",
   "metadata": {
    "collapsed": true
   },
   "source": [
    "# end"
   ]
  },
  {
   "cell_type": "code",
   "execution_count": 17,
   "metadata": {},
   "outputs": [
    {
     "name": "stdout",
     "output_type": "stream",
     "text": [
      "The Zen of Python, by Tim Peters\n",
      "\n",
      "Beautiful is better than ugly.\n",
      "Explicit is better than implicit.\n",
      "Simple is better than complex.\n",
      "Complex is better than complicated.\n",
      "Flat is better than nested.\n",
      "Sparse is better than dense.\n",
      "Readability counts.\n",
      "Special cases aren't special enough to break the rules.\n",
      "Although practicality beats purity.\n",
      "Errors should never pass silently.\n",
      "Unless explicitly silenced.\n",
      "In the face of ambiguity, refuse the temptation to guess.\n",
      "There should be one-- and preferably only one --obvious way to do it.\n",
      "Although that way may not be obvious at first unless you're Dutch.\n",
      "Now is better than never.\n",
      "Although never is often better than *right* now.\n",
      "If the implementation is hard to explain, it's a bad idea.\n",
      "If the implementation is easy to explain, it may be a good idea.\n",
      "Namespaces are one honking great idea -- let's do more of those!\n"
     ]
    }
   ],
   "source": [
    "import this\n"
   ]
  },
  {
   "cell_type": "code",
   "execution_count": null,
   "metadata": {},
   "outputs": [],
   "source": []
  }
 ],
 "metadata": {
  "kernelspec": {
   "display_name": "Python 3",
   "language": "python",
   "name": "python3"
  },
  "language_info": {
   "codemirror_mode": {
    "name": "ipython",
    "version": 3
   },
   "file_extension": ".py",
   "mimetype": "text/x-python",
   "name": "python",
   "nbconvert_exporter": "python",
   "pygments_lexer": "ipython3",
   "version": "3.6.4"
  }
 },
 "nbformat": 4,
 "nbformat_minor": 1
}
