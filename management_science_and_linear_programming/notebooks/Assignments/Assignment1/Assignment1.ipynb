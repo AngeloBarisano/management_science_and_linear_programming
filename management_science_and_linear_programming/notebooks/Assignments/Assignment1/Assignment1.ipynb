{
 "cells": [
  {
   "cell_type": "code",
   "execution_count": 4,
   "metadata": {},
   "outputs": [],
   "source": [
    "from gurobipy import *\n",
    "import gurobipy as gp\n",
    "\n",
    "# type declaration\n",
    "from typing import Dict, List\n",
    "\n",
    "# %load_ext nb_black\n",
    "%load_ext lab_black"
   ]
  },
  {
   "cell_type": "code",
   "execution_count": 22,
   "metadata": {},
   "outputs": [],
   "source": [
    "oil_fields: List[str] = [\"Texas\", \"California\"]\n",
    "refineries: List[str] = [\"NewOrleans\", \"Charlton\", \"Seattle\"]\n",
    "distribution_centers: List[str] = [\"Pittsburgh\", \"Atlanta\"]\n",
    "\n",
    "combinations_oil_refineries: List[str] = []\n",
    "for oil in oil_fields:\n",
    "    for refinery in refineries:\n",
    "        combinations_oil_refineries.append(oil + \"_\" + refinery)\n",
    "\n",
    "combinations_oil_refineries_distributioncenters: List[str] = []\n",
    "for combi in combinations_oil_refineries:\n",
    "    for distribution_center in distribution_centers:\n",
    "        combinations_oil_refineries_distributioncenters.append(\n",
    "            combi + \"_\" + distribution_center\n",
    "        )"
   ]
  },
  {
   "cell_type": "code",
   "execution_count": 23,
   "metadata": {},
   "outputs": [],
   "source": [
    "combinations_oil_refineries: Dict[str, int] = {}\n",
    "prices_o_r: List[int] = [11, 7, 2, 7, 4, 8]\n",
    "i = 0\n",
    "for oil in oil_fields:\n",
    "    for refinery in refineries:\n",
    "        combinations_oil_refineries[oil + \"_\" + refinery] = prices_o_r[i]\n",
    "        i += 1"
   ]
  },
  {
   "cell_type": "code",
   "execution_count": null,
   "metadata": {},
   "outputs": [],
   "source": [
    "combinations_oil_refineries_distributioncenters: List[str] = {}\n",
    "prices_o_r: List[int] = [11, 7, 2, 7, 4, 8]\n",
    "\n",
    "\n",
    "for combi in combinations_oil_refineries.keys():\n",
    "    for distribution_center in distribution_centers:\n",
    "        combinations_oil_refineries_distributioncenters.append(\n",
    "            combi + \"_\" + distribution_center\n",
    "        )"
   ]
  },
  {
   "cell_type": "code",
   "execution_count": 25,
   "metadata": {},
   "outputs": [
    {
     "data": {
      "text/plain": [
       "{'Texas_NewOrleans': 11,\n",
       " 'Texas_Charlton': 7,\n",
       " 'Texas_Seattle': 2,\n",
       " 'California_NewOrleans': 7,\n",
       " 'California_Charlton': 4,\n",
       " 'California_Seattle': 8}"
      ]
     },
     "execution_count": 25,
     "metadata": {},
     "output_type": "execute_result"
    }
   ],
   "source": [
    "combinations_oil_refineries"
   ]
  },
  {
   "cell_type": "code",
   "execution_count": null,
   "metadata": {},
   "outputs": [],
   "source": [
    "combinations_oil_refineries_distributioncenters: List[str] = {}\n",
    "prices_o_r: List[int] = [11, 7, 2, 7, 4, 8]\n",
    "\n",
    "\n",
    "for combi in combinations_oil_refineries.keys():\n",
    "    for distribution_center in distribution_centers:\n",
    "        combinations_oil_refineries_distributioncenters.append(\n",
    "            combi + \"_\" + distribution_center\n",
    "        )"
   ]
  },
  {
   "cell_type": "code",
   "execution_count": 1,
   "metadata": {},
   "outputs": [],
   "source": [
    "combinations_oil_refineries_distributioncenters : Dict[str, int] = {\n",
    "('Texas_NewOrleans_Pittsburgh'): 11+11,\n",
    "('Texas_Charlton_Pittsburgh'): 7+7,\n",
    "('Texas_Seattle_Pittsburgh'): 2+5,\n",
    "('Texas_NewOrleans_Atlanta'): 11+7,\n",
    "('Texas_Charlton_Atlanta'): 7+4,\n",
    "('Texas_Seattle_Atlanta'): 2 +3 ,\n",
    "('California_NewOrleans_Pittsburgh'): 7+11,\n",
    "('California_Charlton_Pittsburgh'): 4+7,\n",
    "('California_Seattle_Pittsburgh'): 8+5,\n",
    "('California_NewOrleans_Atlanta'): 7+7,\n",
    "('California_Charlton_Atlanta'): 4+4,\n",
    "('California_Seattle_Atlanta'): 8+3 }\n"
   ]
  },
  {
   "cell_type": "code",
   "execution_count": null,
   "metadata": {},
   "outputs": [],
   "source": []
  },
  {
   "cell_type": "code",
   "execution_count": null,
   "metadata": {},
   "outputs": [],
   "source": []
  },
  {
   "cell_type": "code",
   "execution_count": null,
   "metadata": {},
   "outputs": [],
   "source": []
  },
  {
   "cell_type": "code",
   "execution_count": null,
   "metadata": {},
   "outputs": [],
   "source": []
  },
  {
   "cell_type": "code",
   "execution_count": 155,
   "metadata": {},
   "outputs": [],
   "source": [
    "combinations_oil_refineries_distributioncenters: Dict[tuple, int] = {\n",
    "    (\"T\", \"N\", \"P\"): 11 + 11,\n",
    "    (\"T\", \"C\", \"P\"): 7 + 7,\n",
    "    (\"T\", \"S\", \"P\"): 2 + 5,\n",
    "    (\"T\", \"N\", \"A\"): 11 + 7,\n",
    "    (\"T\", \"C\", \"A\"): 7 + 4,\n",
    "    (\"T\", \"S\", \"A\"): 2 + 3,\n",
    "    (\"CA\", \"N\", \"P\"): 7 + 11,\n",
    "    (\"CA\", \"C\", \"P\"): 4 + 7,\n",
    "    (\"CA\", \"S\", \"P\"): 8 + 5,\n",
    "    (\"CA\", \"N\", \"A\"): 7 + 7,\n",
    "    (\"CA\", \"C\", \"A\"): 4 + 4,\n",
    "    (\"CA\", \"S\", \"A\"): 8 + 3,\n",
    "}\n",
    "combinations_oil_refineries_distributioncenters_list = list(\n",
    "    combinations_oil_refineries_distributioncenters.keys()\n",
    ")\n",
    "\n",
    "oil_fields: List[str] = [\"T\", \"CA\"]\n",
    "refineries: List[str] = [\"NO\", \"C\", \"S\"]\n",
    "distribution_centers: List[str] = [\"P\", \"A\"]"
   ]
  },
  {
   "cell_type": "code",
   "execution_count": 156,
   "metadata": {},
   "outputs": [],
   "source": [
    "# oil_field_limits\n",
    "oil_field_limits: Dict[str, int] = {\"CA\": 50000, \"T\": 10000}\n",
    "\n",
    "# demand limits\n",
    "demand_limits: Dict[str, int] = {\"P\": 20000, \"A\": 75000}"
   ]
  },
  {
   "cell_type": "code",
   "execution_count": 157,
   "metadata": {},
   "outputs": [
    {
     "name": "stdout",
     "output_type": "stream",
     "text": [
      "('T', 'N', 'P')\n",
      "('T', 'C', 'P')\n",
      "('T', 'S', 'P')\n",
      "('T', 'N', 'A')\n",
      "('T', 'C', 'A')\n",
      "('T', 'S', 'A')\n",
      "('CA', 'N', 'P')\n",
      "('CA', 'C', 'P')\n",
      "('CA', 'S', 'P')\n",
      "('CA', 'N', 'A')\n",
      "('CA', 'C', 'A')\n",
      "('CA', 'S', 'A')\n"
     ]
    }
   ],
   "source": [
    "# set the decision function\n",
    "model = gp.Model()\n",
    "model.ModelSense = gp.GRB.MINIMIZE\n",
    "\n",
    "\n",
    "# set the objective function\n",
    "obj = {}\n",
    "for combi in combinations_oil_refineries_distributioncenters_list:\n",
    "    obj[combi] = model.addVar(\n",
    "        lb=0, obj=combinations_oil_refineries_distributioncenters[combi]\n",
    "    )\n",
    "    print(combi)"
   ]
  },
  {
   "cell_type": "code",
   "execution_count": 158,
   "metadata": {},
   "outputs": [],
   "source": [
    "# CONSTRAINT FOR SUPPLY: essenetially: for every combintion with T at beginning; this is <= 10000; and <= for CA\n",
    "for oil_field in oil_field_limits.keys():\n",
    "    lhs = 0\n",
    "    for objective_r in obj.keys():\n",
    "        if objective_r[0] == oil_field:\n",
    "            lhs += obj[objective_r]\n",
    "    model.addConstr(lhs <= oil_field_limits[oil_field])"
   ]
  },
  {
   "cell_type": "code",
   "execution_count": 159,
   "metadata": {},
   "outputs": [],
   "source": [
    "# Constraint for demand\n",
    "for distro in demand_limits.keys():\n",
    "    lhs = 0\n",
    "    for objective_r in obj.keys():\n",
    "        if objective_r[-1] == distro:\n",
    "            lhs += obj[objective_r]\n",
    "    model.addConstr(lhs == demand_limits[distro])"
   ]
  },
  {
   "cell_type": "code",
   "execution_count": 160,
   "metadata": {},
   "outputs": [
    {
     "name": "stdout",
     "output_type": "stream",
     "text": [
      "Gurobi Optimizer version 9.5.2 build v9.5.2rc0 (linux64)\n",
      "Thread count: 4 physical cores, 8 logical processors, using up to 8 threads\n",
      "Optimize a model with 4 rows, 12 columns and 24 nonzeros\n",
      "Model fingerprint: 0xcacbdc06\n",
      "Coefficient statistics:\n",
      "  Matrix range     [1e+00, 1e+00]\n",
      "  Objective range  [5e+00, 2e+01]\n",
      "  Bounds range     [0e+00, 0e+00]\n",
      "  RHS range        [1e+04, 8e+04]\n",
      "Presolve removed 0 rows and 8 columns\n",
      "Presolve time: 0.00s\n",
      "\n",
      "Solved in 0 iterations and 0.00 seconds (0.00 work units)\n",
      "Infeasible model\n",
      "something went wrong\n"
     ]
    },
    {
     "ename": "AttributeError",
     "evalue": "Unable to retrieve attribute 'objval'",
     "output_type": "error",
     "traceback": [
      "\u001b[0;31m---------------------------------------------------------------------------\u001b[0m",
      "\u001b[0;31mAttributeError\u001b[0m                            Traceback (most recent call last)",
      "Cell \u001b[0;32mIn [160], line 4\u001b[0m\n\u001b[1;32m      2\u001b[0m \u001b[39mif\u001b[39;00m \u001b[39mnot\u001b[39;00m model\u001b[39m.\u001b[39mstatus \u001b[39m==\u001b[39m gp\u001b[39m.\u001b[39mGRB\u001b[39m.\u001b[39mOPTIMAL:\n\u001b[1;32m      3\u001b[0m     \u001b[39mprint\u001b[39m(\u001b[39m\"\u001b[39m\u001b[39msomething went wrong\u001b[39m\u001b[39m\"\u001b[39m)\n\u001b[0;32m----> 4\u001b[0m \u001b[39mprint\u001b[39m(\u001b[39m\"\u001b[39m\u001b[39moptimal value\u001b[39m\u001b[39m\"\u001b[39m, model\u001b[39m.\u001b[39;49mobjval)\n\u001b[1;32m      5\u001b[0m model\u001b[39m.\u001b[39mprintAttr(\u001b[39m\"\u001b[39m\u001b[39mX\u001b[39m\u001b[39m\"\u001b[39m)\n",
      "File \u001b[0;32msrc/gurobipy/model.pxi:353\u001b[0m, in \u001b[0;36mgurobipy.Model.__getattr__\u001b[0;34m()\u001b[0m\n",
      "File \u001b[0;32msrc/gurobipy/model.pxi:1884\u001b[0m, in \u001b[0;36mgurobipy.Model.getAttr\u001b[0;34m()\u001b[0m\n",
      "File \u001b[0;32msrc/gurobipy/attrutil.pxi:100\u001b[0m, in \u001b[0;36mgurobipy.__getattr\u001b[0;34m()\u001b[0m\n",
      "\u001b[0;31mAttributeError\u001b[0m: Unable to retrieve attribute 'objval'"
     ]
    }
   ],
   "source": [
    "model.optimize()\n",
    "if not model.status == gp.GRB.OPTIMAL:\n",
    "    print(\"something went wrong\")\n",
    "print(\"optimal value\", model.objval)\n",
    "model.printAttr(\"X\")"
   ]
  },
  {
   "cell_type": "code",
   "execution_count": 161,
   "metadata": {},
   "outputs": [
    {
     "name": "stdout",
     "output_type": "stream",
     "text": [
      "\\ LP format - for model browsing. Use MPS format to capture full model detail.\n",
      "Minimize\n",
      "  22 C0 + 14 C1 + 7 C2 + 18 C3 + 11 C4 + 5 C5 + 18 C6 + 11 C7 + 13 C8\n",
      "   + 14 C9 + 8 C10 + 11 C11\n",
      "Subject To\n",
      " R0: C6 + C7 + C8 + C9 + C10 + C11 <= 50000\n",
      " R1: C0 + C1 + C2 + C3 + C4 + C5 <= 10000\n",
      " R2: C0 + C1 + C2 + C6 + C7 + C8 = 20000\n",
      " R3: C3 + C4 + C5 + C9 + C10 + C11 = 75000\n",
      "Bounds\n",
      "End\n",
      "\n"
     ]
    }
   ],
   "source": [
    "model.write(\"problem.lp\")\n",
    "with open(\"problem.lp\") as f:\n",
    "    print(f.read())"
   ]
  },
  {
   "cell_type": "code",
   "execution_count": null,
   "metadata": {},
   "outputs": [],
   "source": []
  },
  {
   "cell_type": "code",
   "execution_count": null,
   "metadata": {},
   "outputs": [],
   "source": []
  },
  {
   "cell_type": "code",
   "execution_count": null,
   "metadata": {},
   "outputs": [],
   "source": []
  },
  {
   "cell_type": "code",
   "execution_count": null,
   "metadata": {},
   "outputs": [],
   "source": []
  },
  {
   "cell_type": "code",
   "execution_count": 69,
   "metadata": {},
   "outputs": [
    {
     "ename": "SyntaxError",
     "evalue": "Generator expression must be parenthesized (1339337365.py, line 4)",
     "output_type": "error",
     "traceback": [
      "\u001b[0;36m  Cell \u001b[0;32mIn [69], line 4\u001b[0;36m\u001b[0m\n\u001b[0;31m    gp.quicksum(obj[oil_field, refinery, distrib] for refinery in refineries)\u001b[0m\n\u001b[0m    ^\u001b[0m\n\u001b[0;31mSyntaxError\u001b[0m\u001b[0;31m:\u001b[0m Generator expression must be parenthesized\n"
     ]
    }
   ],
   "source": [
    "# the constraint; for T and CA there is only so much supply!\n",
    "\n",
    "model.addConstrs(\n",
    "    gp.quicksum(obj[oil_field, refinery, distrib] for refinery in refineries)\n",
    "    == oil_field_limits[oil_field]\n",
    "    for oil_field in oil_fields\n",
    ")"
   ]
  },
  {
   "cell_type": "code",
   "execution_count": null,
   "metadata": {},
   "outputs": [],
   "source": [
    "model.addConstrs(gp.quicksum(x[g,p] for p in plants)==supplies[g] \n",
    "                 for g in groves)"
   ]
  },
  {
   "cell_type": "code",
   "execution_count": null,
   "metadata": {},
   "outputs": [],
   "source": [
    "groves = [\"A\", \"B\", \"C\"]\n",
    "plants = [\"D\", \"E\", \"F\"]\n",
    "distances = {\n",
    "    (\"A\", \"D\"): 21,\n",
    "    (\"A\", \"E\"): 50,\n",
    "    (\"A\", \"F\"): 40,\n",
    "    (\"B\", \"D\"): 35,\n",
    "    (\"B\", \"E\"): 30,\n",
    "    (\"B\", \"F\"): 22,\n",
    "    (\"C\", \"D\"): 55,\n",
    "    (\"C\", \"E\"): 20,\n",
    "    (\"C\", \"F\"): 25,\n",
    "}\n",
    "costPerMile = 1.5\n",
    "capacities = {\"D\": 2000, \"E\": 6000, \"F\": 2250}\n",
    "supplies = {\"A\": 2750, \"B\": 4000, \"C\": 3000}"
   ]
  },
  {
   "cell_type": "code",
   "execution_count": null,
   "metadata": {},
   "outputs": [],
   "source": [
    "model.addConstrs(gp.quicksum(x[g,p] for p in plants)==supplies[g] \n",
    "                 for g in groves)\n",
    "\n",
    "\n",
    "\n",
    "lhs = 0\n",
    "for i in Bonds:\n",
    "    lhs += bonds_obj[i]\n",
    "model.addConstr(lhs == upper_bound)              "
   ]
  },
  {
   "cell_type": "code",
   "execution_count": 59,
   "metadata": {},
   "outputs": [
    {
     "name": "stdout",
     "output_type": "stream",
     "text": [
      "\\ LP format - for model browsing. Use MPS format to capture full model detail.\n",
      "Minimize\n",
      "  22 C0 + 14 C1 + 7 C2 + 18 C3 + 11 C4 + 5 C5 + 13 C6 + 11 C7 + 14 C8 + 8 C9\n",
      "   + 11 C10\n",
      "Subject To\n",
      "Bounds\n",
      "End\n",
      "\n"
     ]
    }
   ],
   "source": [
    "model.write(\"problem.lp\")\n",
    "with open(\"problem.lp\") as f:\n",
    "    print(f.read())"
   ]
  },
  {
   "cell_type": "code",
   "execution_count": 122,
   "metadata": {},
   "outputs": [
    {
     "data": {
      "text/plain": [
       "{'D': <gurobi.Constr *Awaiting Model Update*>,\n",
       " 'E': <gurobi.Constr *Awaiting Model Update*>,\n",
       " 'F': <gurobi.Constr *Awaiting Model Update*>}"
      ]
     },
     "execution_count": 122,
     "metadata": {},
     "output_type": "execute_result"
    }
   ],
   "source": [
    "groves = [\"A\", \"B\", \"C\"]\n",
    "plants = [\"D\", \"E\", \"F\"]\n",
    "distances = {\n",
    "    (\"A\", \"D\"): 21,\n",
    "    (\"A\", \"E\"): 50,\n",
    "    (\"A\", \"F\"): 40,\n",
    "    (\"B\", \"D\"): 35,\n",
    "    (\"B\", \"E\"): 30,\n",
    "    (\"B\", \"F\"): 22,\n",
    "    (\"C\", \"D\"): 55,\n",
    "    (\"C\", \"E\"): 20,\n",
    "    (\"C\", \"F\"): 25,\n",
    "}\n",
    "costPerMile = 1.5\n",
    "capacities = {\"D\": 2000, \"E\": 6000, \"F\": 2250}\n",
    "supplies = {\"A\": 2750, \"B\": 4000, \"C\": 3000}\n",
    "\n",
    "model = gp.Model()\n",
    "x = model.addVars(distances, name=\"flow\")\n",
    "model.setObjective(\n",
    "    costPerMile * gp.quicksum(distances[g, p] * x[g, p] for g in groves for p in plants)\n",
    ")\n",
    "model.addConstrs(gp.quicksum(x[g, p] for p in plants) == supplies[g] for g in groves)\n",
    "model.addConstrs(gp.quicksum(x[g, p] for g in groves) <= capacities[p] for p in plants)"
   ]
  },
  {
   "cell_type": "code",
   "execution_count": 123,
   "metadata": {},
   "outputs": [
    {
     "name": "stdout",
     "output_type": "stream",
     "text": [
      "\\ LP format - for model browsing. Use MPS format to capture full model detail.\n",
      "Minimize\n",
      "  31.5 flow[A,D] + 75 flow[A,E] + 60 flow[A,F] + 52.5 flow[B,D]\n",
      "   + 45 flow[B,E] + 33 flow[B,F] + 82.5 flow[C,D] + 30 flow[C,E]\n",
      "   + 37.5 flow[C,F]\n",
      "Subject To\n",
      " R0: flow[A,D] + flow[A,E] + flow[A,F] = 2750\n",
      " R1: flow[B,D] + flow[B,E] + flow[B,F] = 4000\n",
      " R2: flow[C,D] + flow[C,E] + flow[C,F] = 3000\n",
      " R3: flow[A,D] + flow[B,D] + flow[C,D] <= 2000\n",
      " R4: flow[A,E] + flow[B,E] + flow[C,E] <= 6000\n",
      " R5: flow[A,F] + flow[B,F] + flow[C,F] <= 2250\n",
      "Bounds\n",
      "End\n",
      "\n"
     ]
    }
   ],
   "source": [
    "model.write(\"problem.lp\")\n",
    "with open(\"problem.lp\") as f:\n",
    "    print(f.read())"
   ]
  },
  {
   "cell_type": "code",
   "execution_count": 71,
   "metadata": {},
   "outputs": [
    {
     "name": "stdout",
     "output_type": "stream",
     "text": [
      "Gurobi Optimizer version 9.5.2 build v9.5.2rc0 (linux64)\n",
      "Thread count: 4 physical cores, 8 logical processors, using up to 8 threads\n",
      "Optimize a model with 6 rows, 9 columns and 18 nonzeros\n",
      "Model fingerprint: 0x3b94ed6b\n",
      "Coefficient statistics:\n",
      "  Matrix range     [1e+00, 1e+00]\n",
      "  Objective range  [3e+01, 8e+01]\n",
      "  Bounds range     [0e+00, 0e+00]\n",
      "  RHS range        [2e+03, 6e+03]\n",
      "Presolve time: 0.01s\n",
      "Presolved: 6 rows, 9 columns, 18 nonzeros\n",
      "\n",
      "Iteration    Objective       Primal Inf.    Dual Inf.      Time\n",
      "       0    3.0862500e+05   2.500000e+03   0.000000e+00      0s\n",
      "       2    3.6000000e+05   0.000000e+00   0.000000e+00      0s\n",
      "\n",
      "Solved in 2 iterations and 0.01 seconds (0.00 work units)\n",
      "Optimal objective  3.600000000e+05\n",
      "optimal value 360000.0\n",
      "\n",
      "    Variable            X \n",
      "-------------------------\n",
      "   flow[A,D]         2000 \n",
      "   flow[A,F]          750 \n",
      "   flow[B,E]         2500 \n",
      "   flow[B,F]         1500 \n",
      "   flow[C,E]         3000 \n"
     ]
    }
   ],
   "source": [
    "\n",
    "\n",
    "model.optimize()\n",
    "if not model.status == gp.GRB.OPTIMAL:\n",
    "    print(\"something went wrong\")\n",
    "print(\"optimal value\", model.objval)\n",
    "model.printAttr(\"X\")"
   ]
  },
  {
   "cell_type": "code",
   "execution_count": 72,
   "metadata": {},
   "outputs": [],
   "source": [
    "# add the supply constraint constraint"
   ]
  },
  {
   "cell_type": "code",
   "execution_count": null,
   "metadata": {},
   "outputs": [],
   "source": []
  },
  {
   "cell_type": "code",
   "execution_count": 73,
   "metadata": {},
   "outputs": [
    {
     "name": "stdout",
     "output_type": "stream",
     "text": [
      "\\ LP format - for model browsing. Use MPS format to capture full model detail.\n",
      "Minimize\n",
      "  31.5 flow[A,D] + 75 flow[A,E] + 60 flow[A,F] + 52.5 flow[B,D]\n",
      "   + 45 flow[B,E] + 33 flow[B,F] + 82.5 flow[C,D] + 30 flow[C,E]\n",
      "   + 37.5 flow[C,F]\n",
      "Subject To\n",
      " R0: flow[A,D] + flow[A,E] + flow[A,F] = 2750\n",
      " R1: flow[B,D] + flow[B,E] + flow[B,F] = 4000\n",
      " R2: flow[C,D] + flow[C,E] + flow[C,F] = 3000\n",
      " R3: flow[A,D] + flow[B,D] + flow[C,D] <= 2000\n",
      " R4: flow[A,E] + flow[B,E] + flow[C,E] <= 6000\n",
      " R5: flow[A,F] + flow[B,F] + flow[C,F] <= 2250\n",
      "Bounds\n",
      "End\n",
      "\n"
     ]
    }
   ],
   "source": [
    "model.write(\"problem.lp\")\n",
    "with open(\"problem.lp\") as f:\n",
    "    print(f.read())"
   ]
  },
  {
   "cell_type": "code",
   "execution_count": null,
   "metadata": {},
   "outputs": [],
   "source": []
  },
  {
   "cell_type": "code",
   "execution_count": null,
   "metadata": {},
   "outputs": [],
   "source": []
  },
  {
   "cell_type": "code",
   "execution_count": null,
   "metadata": {},
   "outputs": [],
   "source": []
  },
  {
   "cell_type": "code",
   "execution_count": null,
   "metadata": {},
   "outputs": [],
   "source": []
  },
  {
   "cell_type": "code",
   "execution_count": null,
   "metadata": {},
   "outputs": [],
   "source": []
  },
  {
   "cell_type": "code",
   "execution_count": null,
   "metadata": {},
   "outputs": [],
   "source": []
  },
  {
   "cell_type": "code",
   "execution_count": null,
   "metadata": {},
   "outputs": [],
   "source": []
  },
  {
   "cell_type": "code",
   "execution_count": null,
   "metadata": {},
   "outputs": [],
   "source": []
  },
  {
   "cell_type": "code",
   "execution_count": null,
   "metadata": {},
   "outputs": [],
   "source": []
  },
  {
   "cell_type": "code",
   "execution_count": null,
   "metadata": {},
   "outputs": [],
   "source": []
  },
  {
   "cell_type": "code",
   "execution_count": null,
   "metadata": {},
   "outputs": [],
   "source": []
  },
  {
   "cell_type": "code",
   "execution_count": null,
   "metadata": {},
   "outputs": [],
   "source": []
  },
  {
   "cell_type": "code",
   "execution_count": null,
   "metadata": {},
   "outputs": [],
   "source": []
  },
  {
   "cell_type": "code",
   "execution_count": null,
   "metadata": {},
   "outputs": [],
   "source": []
  },
  {
   "cell_type": "code",
   "execution_count": null,
   "metadata": {},
   "outputs": [],
   "source": []
  }
 ],
 "metadata": {
  "kernelspec": {
   "display_name": "Python 3.10.7 ('Management_Science_Code': venv)",
   "language": "python",
   "name": "python3"
  },
  "language_info": {
   "codemirror_mode": {
    "name": "ipython",
    "version": 3
   },
   "file_extension": ".py",
   "mimetype": "text/x-python",
   "name": "python",
   "nbconvert_exporter": "python",
   "pygments_lexer": "ipython3",
   "version": "3.10.7"
  },
  "orig_nbformat": 4,
  "vscode": {
   "interpreter": {
    "hash": "631b42a28b26d4224283cd0bbfa9240d9ab42f9083121b113c6838601922a371"
   }
  }
 },
 "nbformat": 4,
 "nbformat_minor": 2
}
