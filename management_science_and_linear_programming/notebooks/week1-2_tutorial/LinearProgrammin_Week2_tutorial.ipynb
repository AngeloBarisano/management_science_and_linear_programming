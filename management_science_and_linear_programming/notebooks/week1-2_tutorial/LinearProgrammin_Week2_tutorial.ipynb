{
 "cells": [
  {
   "cell_type": "code",
   "execution_count": 1,
   "metadata": {},
   "outputs": [],
   "source": [
    "from gurobipy import *\n",
    "import gurobipy as gp\n",
    "\n",
    "# type declaration\n",
    "from typing import Dict, List\n",
    "\n",
    "# %load_ext nb_black\n",
    "%load_ext lab_black"
   ]
  },
  {
   "cell_type": "markdown",
   "metadata": {},
   "source": [
    "## Question 1"
   ]
  },
  {
   "cell_type": "code",
   "execution_count": 20,
   "metadata": {},
   "outputs": [],
   "source": [
    "toys: List[str] = [\"Space\", \"Zapper\", \"Big\", \"Soaker\"]\n",
    "\n",
    "resources: List[str] = [\"plastic\", \"time\"]\n",
    "\n",
    "r: Dict[tuple, float] = {\n",
    "    (\"plastic\", \"Space\"): 2,\n",
    "    (\"plastic\", \"Zapper\"): 1,\n",
    "    (\"plastic\", \"Big\"): 3,\n",
    "    (\"plastic\", \"Soaker\"): 4,\n",
    "    (\"time\", \"Space\"): 3,\n",
    "    (\"time\", \"Zapper\"): 4,\n",
    "    (\"time\", \"Big\"): 5,\n",
    "    (\"time\", \"Soaker\"): 6,\n",
    "}\n",
    "\n",
    "availability: Dict[str, int] = {\"plastic\": 3000, \"time\": 6000}\n",
    "\n",
    "profit: Dict[str, int] = {\"Space\": 16, \"Zapper\": 15, \"Big\": 20, \"Soaker\": 22}"
   ]
  },
  {
   "cell_type": "code",
   "execution_count": 21,
   "metadata": {},
   "outputs": [
    {
     "name": "stdout",
     "output_type": "stream",
     "text": [
      "Gurobi Optimizer version 9.5.2 build v9.5.2rc0 (linux64)\n",
      "Thread count: 4 physical cores, 8 logical processors, using up to 8 threads\n",
      "Optimize a model with 2 rows, 4 columns and 8 nonzeros\n",
      "Model fingerprint: 0xe7d9c8b2\n",
      "Coefficient statistics:\n",
      "  Matrix range     [1e+00, 6e+00]\n",
      "  Objective range  [2e+01, 2e+01]\n",
      "  Bounds range     [1e+02, 1e+03]\n",
      "  RHS range        [3e+03, 6e+03]\n",
      "Presolve time: 0.01s\n",
      "Presolved: 2 rows, 4 columns, 8 nonzeros\n",
      "\n",
      "Iteration    Objective       Primal Inf.    Dual Inf.      Time\n",
      "       0    3.7300000e+04   5.125000e+02   0.000000e+00      0s\n",
      "       2    2.6660000e+04   0.000000e+00   0.000000e+00      0s\n",
      "\n",
      "Solved in 2 iterations and 0.01 seconds (0.00 work units)\n",
      "Optimal objective  2.666000000e+04\n"
     ]
    }
   ],
   "source": [
    "# model\n",
    "model = gp.Model()\n",
    "x = model.addVars(toys, obj=profit, ub=1000, lb=100)\n",
    "\n",
    "model.ModelSense = gp.GRB.MAXIMIZE\n",
    "resourceCons = model.addConstrs(\n",
    "    quicksum(r[(i, j)] * x[j] for j in toys) <= availability[i] for i in resources\n",
    ")\n",
    "model.optimize()"
   ]
  },
  {
   "cell_type": "code",
   "execution_count": 22,
   "metadata": {},
   "outputs": [
    {
     "name": "stdout",
     "output_type": "stream",
     "text": [
      "Space-toys to produce: 860.0\n",
      "Zapper-toys to produce: 580.0\n",
      "Big-toys to produce: 100.0\n",
      "Soaker-toys to produce: 100.0\n"
     ]
    }
   ],
   "source": [
    "for toy in range(len(toys)):\n",
    "    print(\"%s-toys to produce:\" % toys[toy], model.x[toy])"
   ]
  },
  {
   "cell_type": "markdown",
   "metadata": {},
   "source": [
    "#### Using forloops"
   ]
  },
  {
   "cell_type": "code",
   "execution_count": 16,
   "metadata": {},
   "outputs": [],
   "source": [
    "products: List[str] = [\"Space\", \"Zapper\", \"Big\", \"Soaker\"]\n",
    "\n",
    "resources: List[str] = [\"plastic\", \"time\"]\n",
    "\n",
    "resUse: Dict[tuple, float] = {\n",
    "    (\"plastic\", \"Space\"): 2,\n",
    "    (\"plastic\", \"Zapper\"): 1,\n",
    "    (\"plastic\", \"Big\"): 3,\n",
    "    (\"plastic\", \"Soaker\"): 4,\n",
    "    (\"time\", \"Space\"): 3,\n",
    "    (\"time\", \"Zapper\"): 4,\n",
    "    (\"time\", \"Big\"): 5,\n",
    "    (\"time\", \"Soaker\"): 6,\n",
    "}\n",
    "\n",
    "resAvail: Dict[str, int] = {\"plastic\": 3000, \"time\": 6000}\n",
    "\n",
    "profit: Dict[str, int] = {\"Space\": 16, \"Zapper\": 15, \"Big\": 20, \"Soaker\": 22}\n",
    "\n",
    "\n"
   ]
  },
  {
   "cell_type": "code",
   "execution_count": 25,
   "metadata": {},
   "outputs": [
    {
     "name": "stdout",
     "output_type": "stream",
     "text": [
      "Gurobi Optimizer version 9.5.2 build v9.5.2rc0 (linux64)\n",
      "Thread count: 4 physical cores, 8 logical processors, using up to 8 threads\n",
      "Optimize a model with 2 rows, 4 columns and 8 nonzeros\n",
      "Model fingerprint: 0xe7d9c8b2\n",
      "Coefficient statistics:\n",
      "  Matrix range     [1e+00, 6e+00]\n",
      "  Objective range  [2e+01, 2e+01]\n",
      "  Bounds range     [1e+02, 1e+03]\n",
      "  RHS range        [3e+03, 6e+03]\n",
      "Presolve time: 0.00s\n",
      "Presolved: 2 rows, 4 columns, 8 nonzeros\n",
      "\n",
      "Iteration    Objective       Primal Inf.    Dual Inf.      Time\n",
      "       0    3.7300000e+04   5.125000e+02   0.000000e+00      0s\n",
      "       2    2.6660000e+04   0.000000e+00   0.000000e+00      0s\n",
      "\n",
      "Solved in 2 iterations and 0.01 seconds (0.00 work units)\n",
      "Optimal objective  2.666000000e+04\n",
      "objective value is: 26660.0\n",
      "Space-toys to produce: 860.0\n",
      "Zapper-toys to produce: 580.0\n",
      "Big-toys to produce: 100.0\n",
      "Soaker-toys to produce: 100.0\n"
     ]
    }
   ],
   "source": [
    "model = gp.Model()\n",
    "pvars = {}\n",
    "\n",
    "\n",
    "for p in products:\n",
    "    '''\n",
    "    For each product set the same constrains of upper lower bound and set the objective \n",
    "    Same as: x = model.addVars(toys, obj=profit, ub=1000, lb=100)\n",
    "    '''\n",
    "    pvars[p] = model.addVar(lb=100, ub=1000, obj=profit[p], name=p)\n",
    "model.ModelSense = gp.GRB.MAXIMIZE\n",
    "\n",
    "for r in resources:\n",
    "    lhs = 0\n",
    "    for p in products:\n",
    "        lhs += resUse[r, p] * pvars[p]\n",
    "    model.addConstr(lhs <= resAvail[r])\n",
    "\n",
    "\n",
    "model.optimize()\n",
    "print(\"objective value is:\", model.ObjVal)\n",
    "\n",
    "\n",
    "for product in range(len(products)):\n",
    "    print(\"%s-toys to produce:\" % products[product], model.x[product])"
   ]
  },
  {
   "cell_type": "code",
   "execution_count": null,
   "metadata": {},
   "outputs": [],
   "source": []
  },
  {
   "cell_type": "code",
   "execution_count": null,
   "metadata": {},
   "outputs": [],
   "source": []
  },
  {
   "cell_type": "code",
   "execution_count": null,
   "metadata": {},
   "outputs": [],
   "source": []
  },
  {
   "cell_type": "code",
   "execution_count": null,
   "metadata": {},
   "outputs": [],
   "source": []
  },
  {
   "cell_type": "code",
   "execution_count": null,
   "metadata": {},
   "outputs": [],
   "source": []
  },
  {
   "cell_type": "markdown",
   "metadata": {},
   "source": [
    "## Question 2\n"
   ]
  },
  {
   "cell_type": "markdown",
   "metadata": {},
   "source": [
    "Essentially: the process is as follows:\n",
    "- You need to minimize the ALL costs of you as a provider but also the subcontractors\n",
    "- a good way to imagine the DECISIONS (what to minimize) is to not think of you as a provider but just: you have 3 different providers \n",
    "\n",
    "\n",
    "    "
   ]
  },
  {
   "cell_type": "code",
   "execution_count": 18,
   "metadata": {},
   "outputs": [
    {
     "name": "stdout",
     "output_type": "stream",
     "text": [
      "Gurobi Optimizer version 9.5.2 build v9.5.2rc0 (linux64)\n",
      "Thread count: 4 physical cores, 8 logical processors, using up to 8 threads\n",
      "Optimize a model with 5 rows, 9 columns and 15 nonzeros\n",
      "Model fingerprint: 0xc5d7eadd\n",
      "Coefficient statistics:\n",
      "  Matrix range     [1e+00, 3e+00]\n",
      "  Objective range  [6e+00, 2e+01]\n",
      "  Bounds range     [0e+00, 0e+00]\n",
      "  RHS range        [1e+01, 2e+02]\n",
      "Presolve time: 0.01s\n",
      "Presolved: 5 rows, 9 columns, 15 nonzeros\n",
      "\n",
      "Iteration    Objective       Primal Inf.    Dual Inf.      Time\n",
      "       0    2.5000000e+03   0.000000e+00   0.000000e+00      0s\n",
      "\n",
      "Solved in 0 iterations and 0.01 seconds (0.00 work units)\n",
      "Optimal objective  2.500000000e+03\n",
      "objective value is: 2500.0\n"
     ]
    }
   ],
   "source": [
    "makeCosts = [6, 13, 20]\n",
    "buyACosts = [12, 15, 21]\n",
    "buyBCosts = [11, 16, 23]\n",
    "laborUse = [1, 2, 3]\n",
    "demands = [10, 80, 70]\n",
    "aProdLimit = 60\n",
    "laborAvail = 200\n",
    "n = 3  # number of vars\n",
    "\n",
    "\n",
    "model = gp.Model()\n",
    "\n",
    "M = model.addVars(n, name=\"make\", obj=makeCosts)\n",
    "A = model.addVars(n, name=\"BuyA\", obj=makeCosts)\n",
    "B = model.addVars(n, name=\"BuyB\", obj=makeCosts)\n",
    "\n",
    "# minimize by default --> only use make variables becasue this is the one you are minimizing\n",
    "model.addConstr(gp.quicksum(laborUse[i] * M[i] for i in range(n)) <= laborAvail)\n",
    "model.addConstr(gp.quicksum(A[i] for i in range(n)) <= aProdLimit)\n",
    "\n",
    "# these are multiple constraints now\n",
    "model.addConstrs(M[i] + A[i] + B[i] == demands[i] for i in range(n))\n",
    "\n",
    "\n",
    "model.optimize()\n",
    "print(\"objective value is:\", model.ObjVal)\n",
    "model.printAttr(\"X\")"
   ]
  },
  {
   "cell_type": "code",
   "execution_count": null,
   "metadata": {},
   "outputs": [],
   "source": []
  },
  {
   "cell_type": "code",
   "execution_count": null,
   "metadata": {},
   "outputs": [],
   "source": []
  },
  {
   "cell_type": "markdown",
   "metadata": {},
   "source": [
    "## Question 3\n"
   ]
  },
  {
   "cell_type": "code",
   "execution_count": null,
   "metadata": {},
   "outputs": [],
   "source": []
  },
  {
   "cell_type": "code",
   "execution_count": null,
   "metadata": {},
   "outputs": [],
   "source": []
  },
  {
   "cell_type": "code",
   "execution_count": null,
   "metadata": {},
   "outputs": [],
   "source": []
  },
  {
   "cell_type": "markdown",
   "metadata": {},
   "source": [
    "\n",
    "## Question 4"
   ]
  },
  {
   "cell_type": "code",
   "execution_count": null,
   "metadata": {},
   "outputs": [],
   "source": []
  },
  {
   "cell_type": "code",
   "execution_count": null,
   "metadata": {},
   "outputs": [],
   "source": []
  },
  {
   "cell_type": "code",
   "execution_count": null,
   "metadata": {},
   "outputs": [],
   "source": []
  },
  {
   "cell_type": "code",
   "execution_count": null,
   "metadata": {},
   "outputs": [],
   "source": []
  },
  {
   "cell_type": "code",
   "execution_count": null,
   "metadata": {},
   "outputs": [],
   "source": []
  }
 ],
 "metadata": {
  "kernelspec": {
   "display_name": "Python 3.10.7 ('Management_Science_Code': venv)",
   "language": "python",
   "name": "python3"
  },
  "language_info": {
   "codemirror_mode": {
    "name": "ipython",
    "version": 3
   },
   "file_extension": ".py",
   "mimetype": "text/x-python",
   "name": "python",
   "nbconvert_exporter": "python",
   "pygments_lexer": "ipython3",
   "version": "3.10.7"
  },
  "orig_nbformat": 4,
  "vscode": {
   "interpreter": {
    "hash": "631b42a28b26d4224283cd0bbfa9240d9ab42f9083121b113c6838601922a371"
   }
  }
 },
 "nbformat": 4,
 "nbformat_minor": 2
}
