{
 "cells": [
  {
   "cell_type": "code",
   "execution_count": 1,
   "metadata": {},
   "outputs": [],
   "source": [
    "from gurobipy import *\n",
    "import gurobipy as gp\n",
    "\n",
    "# type declaration\n",
    "from typing import Dict, List\n",
    "\n",
    "# %load_ext nb_black\n",
    "%load_ext lab_black"
   ]
  },
  {
   "cell_type": "markdown",
   "metadata": {},
   "source": [
    "## Question 1"
   ]
  },
  {
   "cell_type": "code",
   "execution_count": 2,
   "metadata": {},
   "outputs": [],
   "source": [
    "toys: List[str] = [\"Space\", \"Zapper\", \"Big\", \"Soaker\"]\n",
    "\n",
    "resources: List[str] = [\"plastic\", \"time\"]\n",
    "\n",
    "r: Dict[tuple, float] = {\n",
    "    (\"plastic\", \"Space\"): 2,\n",
    "    (\"plastic\", \"Zapper\"): 1,\n",
    "    (\"plastic\", \"Big\"): 3,\n",
    "    (\"plastic\", \"Soaker\"): 4,\n",
    "    (\"time\", \"Space\"): 3,\n",
    "    (\"time\", \"Zapper\"): 4,\n",
    "    (\"time\", \"Big\"): 5,\n",
    "    (\"time\", \"Soaker\"): 6,\n",
    "}\n",
    "\n",
    "availability: Dict[str, int] = {\"plastic\": 3000, \"time\": 6000}\n",
    "\n",
    "profit: Dict[str, int] = {\"Space\": 16, \"Zapper\": 15, \"Big\": 20, \"Soaker\": 22}"
   ]
  },
  {
   "cell_type": "code",
   "execution_count": 3,
   "metadata": {},
   "outputs": [
    {
     "name": "stdout",
     "output_type": "stream",
     "text": [
      "Restricted license - for non-production use only - expires 2023-10-25\n",
      "Gurobi Optimizer version 9.5.2 build v9.5.2rc0 (linux64)\n",
      "Thread count: 4 physical cores, 8 logical processors, using up to 8 threads\n",
      "Optimize a model with 2 rows, 4 columns and 8 nonzeros\n",
      "Model fingerprint: 0xe7d9c8b2\n",
      "Coefficient statistics:\n",
      "  Matrix range     [1e+00, 6e+00]\n",
      "  Objective range  [2e+01, 2e+01]\n",
      "  Bounds range     [1e+02, 1e+03]\n",
      "  RHS range        [3e+03, 6e+03]\n",
      "Presolve time: 0.00s\n",
      "Presolved: 2 rows, 4 columns, 8 nonzeros\n",
      "\n",
      "Iteration    Objective       Primal Inf.    Dual Inf.      Time\n",
      "       0    3.7300000e+04   5.125000e+02   0.000000e+00      0s\n",
      "       2    2.6660000e+04   0.000000e+00   0.000000e+00      0s\n",
      "\n",
      "Solved in 2 iterations and 0.00 seconds (0.00 work units)\n",
      "Optimal objective  2.666000000e+04\n"
     ]
    }
   ],
   "source": [
    "# model\n",
    "model = gp.Model()\n",
    "x = model.addVars(toys, obj=profit, ub=1000, lb=100)\n",
    "\n",
    "model.ModelSense = gp.GRB.MAXIMIZE\n",
    "\n",
    "resourceCons = model.addConstrs(\n",
    "    quicksum(r[(i, j)] * x[j] for j in toys) <= availability[i] for i in resources\n",
    ")\n",
    "model.optimize()"
   ]
  },
  {
   "cell_type": "code",
   "execution_count": 4,
   "metadata": {},
   "outputs": [
    {
     "name": "stdout",
     "output_type": "stream",
     "text": [
      "Space-toys to produce: 860.0\n",
      "Zapper-toys to produce: 580.0\n",
      "Big-toys to produce: 100.0\n",
      "Soaker-toys to produce: 100.0\n"
     ]
    }
   ],
   "source": [
    "for toy in range(len(toys)):\n",
    "    print(\"%s-toys to produce:\" % toys[toy], model.x[toy])"
   ]
  },
  {
   "cell_type": "markdown",
   "metadata": {},
   "source": [
    "#### Using forloops"
   ]
  },
  {
   "cell_type": "code",
   "execution_count": 5,
   "metadata": {},
   "outputs": [],
   "source": [
    "products: List[str] = [\"Space\", \"Zapper\", \"Big\", \"Soaker\"]\n",
    "\n",
    "resources: List[str] = [\"plastic\", \"time\"]\n",
    "\n",
    "resUse: Dict[tuple, float] = {\n",
    "    (\"plastic\", \"Space\"): 2,\n",
    "    (\"plastic\", \"Zapper\"): 1,\n",
    "    (\"plastic\", \"Big\"): 3,\n",
    "    (\"plastic\", \"Soaker\"): 4,\n",
    "    (\"time\", \"Space\"): 3,\n",
    "    (\"time\", \"Zapper\"): 4,\n",
    "    (\"time\", \"Big\"): 5,\n",
    "    (\"time\", \"Soaker\"): 6,\n",
    "}\n",
    "\n",
    "resAvail: Dict[str, int] = {\"plastic\": 3000, \"time\": 6000}\n",
    "\n",
    "profit: Dict[str, int] = {\"Space\": 16, \"Zapper\": 15, \"Big\": 20, \"Soaker\": 22}"
   ]
  },
  {
   "cell_type": "code",
   "execution_count": 6,
   "metadata": {},
   "outputs": [
    {
     "name": "stdout",
     "output_type": "stream",
     "text": [
      "\n",
      "\n",
      "Gurobi Optimizer version 9.5.2 build v9.5.2rc0 (linux64)\n",
      "Thread count: 4 physical cores, 8 logical processors, using up to 8 threads\n",
      "Optimize a model with 2 rows, 4 columns and 8 nonzeros\n",
      "Model fingerprint: 0xe7d9c8b2\n",
      "Coefficient statistics:\n",
      "  Matrix range     [1e+00, 6e+00]\n",
      "  Objective range  [2e+01, 2e+01]\n",
      "  Bounds range     [1e+02, 1e+03]\n",
      "  RHS range        [3e+03, 6e+03]\n",
      "Presolve time: 0.00s\n",
      "Presolved: 2 rows, 4 columns, 8 nonzeros\n",
      "\n",
      "Iteration    Objective       Primal Inf.    Dual Inf.      Time\n",
      "       0    3.7300000e+04   5.125000e+02   0.000000e+00      0s\n",
      "       2    2.6660000e+04   0.000000e+00   0.000000e+00      0s\n",
      "\n",
      "Solved in 2 iterations and 0.00 seconds (0.00 work units)\n",
      "Optimal objective  2.666000000e+04\n",
      "objective value is: 26660.0\n",
      "\n",
      "\n",
      "Space-toys to produce: 860.0\n",
      "Zapper-toys to produce: 580.0\n",
      "Big-toys to produce: 100.0\n",
      "Soaker-toys to produce: 100.0\n"
     ]
    }
   ],
   "source": [
    "model = gp.Model()\n",
    "pvars = {}\n",
    "\n",
    "\n",
    "for p in products:\n",
    "    \"\"\"\n",
    "    For each product set the same constrains of upper lower bound and set the objective\n",
    "    Same as: x = model.addVars(toys, obj=profit, ub=1000, lb=100)\n",
    "    \"\"\"\n",
    "    pvars[p] = model.addVar(lb=100, ub=1000, obj=profit[p], name=p)\n",
    "model.ModelSense = gp.GRB.MAXIMIZE\n",
    "\n",
    "for r in resources:\n",
    "    \"\"\"\n",
    "    Here for each resource: loop through each product\n",
    "    resourceCons = model.addConstrs(\n",
    "    quicksum(r[(i, j)] * x[j] for j in toys) <= availability[i] for i in resources)\n",
    "\n",
    "    \"\"\"\n",
    "    lhs = 0\n",
    "    for p in products:\n",
    "        \"\"\"\n",
    "        For each ressoruce there is the same availablity in resoruce: so match each resource to each product!\n",
    "        --> quicksum is just the sum of all combinations of resources and products here!\n",
    "        Here you calculate how much of a certain resource you are using\n",
    "        \"\"\"\n",
    "        lhs += resUse[r, p] * pvars[p]\n",
    "    model.addConstr(lhs <= resAvail[r])\n",
    "\n",
    "print(\"\\n\")\n",
    "model.optimize()\n",
    "print(\"objective value is:\", model.ObjVal)\n",
    "\n",
    "print(\"\\n\")\n",
    "for product in range(len(products)):\n",
    "    print(\"%s-toys to produce:\" % products[product], model.x[product])\n",
    "None"
   ]
  },
  {
   "cell_type": "code",
   "execution_count": null,
   "metadata": {},
   "outputs": [],
   "source": []
  },
  {
   "cell_type": "code",
   "execution_count": null,
   "metadata": {},
   "outputs": [],
   "source": []
  },
  {
   "cell_type": "code",
   "execution_count": null,
   "metadata": {},
   "outputs": [],
   "source": []
  },
  {
   "cell_type": "code",
   "execution_count": null,
   "metadata": {},
   "outputs": [],
   "source": []
  },
  {
   "cell_type": "code",
   "execution_count": null,
   "metadata": {},
   "outputs": [],
   "source": []
  },
  {
   "cell_type": "markdown",
   "metadata": {},
   "source": [
    "## Question 2\n"
   ]
  },
  {
   "cell_type": "code",
   "execution_count": 7,
   "metadata": {},
   "outputs": [
    {
     "name": "stdout",
     "output_type": "stream",
     "text": [
      "Gurobi Optimizer version 9.5.2 build v9.5.2rc0 (linux64)\n",
      "Thread count: 4 physical cores, 8 logical processors, using up to 8 threads\n",
      "Optimize a model with 5 rows, 9 columns and 15 nonzeros\n",
      "Model fingerprint: 0xba04db3c\n",
      "Coefficient statistics:\n",
      "  Matrix range     [1e+00, 3e+00]\n",
      "  Objective range  [6e+00, 2e+01]\n",
      "  Bounds range     [0e+00, 0e+00]\n",
      "  RHS range        [6e+01, 2e+02]\n",
      "Presolve removed 1 rows and 2 columns\n",
      "Presolve time: 0.00s\n",
      "Presolved: 4 rows, 7 columns, 11 nonzeros\n",
      "\n",
      "Iteration    Objective       Primal Inf.    Dual Inf.      Time\n",
      "       0    3.0400000e+03   1.769142e+01   0.000000e+00      0s\n",
      "       4    3.2200000e+03   0.000000e+00   0.000000e+00      0s\n",
      "\n",
      "Solved in 4 iterations and 0.00 seconds (0.00 work units)\n",
      "Optimal objective  3.220000000e+03\n",
      "optimal value 3220.0\n",
      "\n",
      "    Variable            X \n",
      "-------------------------\n",
      "     make[0]          100 \n",
      "     make[1]           50 \n",
      "     BuyA[2]           60 \n",
      "     BuyB[1]           30 \n",
      "     BuyB[2]           10 \n"
     ]
    }
   ],
   "source": [
    "makeCosts = [6, 13, 20]\n",
    "buyACosts = [12, 15, 21]\n",
    "buyBCosts = [11, 16, 23]\n",
    "laborUse = [1, 2, 3]\n",
    "demands = [100, 80, 70]\n",
    "aProdLimit = 60\n",
    "laborAvail = 200\n",
    "n = 3  # vars num\n",
    "model = gp.Model()\n",
    "M = model.addVars(n, name=\"make\", obj=makeCosts)\n",
    "A = model.addVars(n, name=\"BuyA\", obj=buyACosts)\n",
    "B = model.addVars(n, name=\"BuyB\", obj=buyBCosts)\n",
    "# by default minimization\n",
    "model.addConstrs(M[i] + A[i] + B[i] == demands[i] for i in range(n))  # sattisfy demands\n",
    "model.addConstr(gp.quicksum(laborUse[i] * M[i] for i in range(n)) <= laborAvail)\n",
    "model.addConstr(gp.quicksum(A[i] for i in range(n)) <= aProdLimit)\n",
    "model.optimize()\n",
    "if not model.status == gp.GRB.OPTIMAL:\n",
    "    print(\"something went wrong\")\n",
    "print(\"optimal value\", model.objval)\n",
    "model.printAttr(\"X\")"
   ]
  },
  {
   "cell_type": "markdown",
   "metadata": {},
   "source": [
    "Essentially: the process is as follows:\n",
    "- You need to minimize the ALL costs of you as a provider but also the subcontractors\n",
    "- a good way to imagine the DECISIONS (what to minimize) is to not think of you as a provider but just: you have 3 different providers \n",
    "\n",
    "\n",
    "    "
   ]
  },
  {
   "cell_type": "code",
   "execution_count": 8,
   "metadata": {},
   "outputs": [],
   "source": [
    "makeCosts = [6, 13, 20]\n",
    "buyACosts = [12, 15, 21]\n",
    "buyBCosts = [11, 16, 23]\n",
    "laborUse = [1, 2, 3]\n",
    "demands = [100, 80, 70]\n",
    "aProdLimit = 60\n",
    "laborAvail = 200\n",
    "n = 3  # number of vars"
   ]
  },
  {
   "cell_type": "code",
   "execution_count": 9,
   "metadata": {},
   "outputs": [
    {
     "name": "stdout",
     "output_type": "stream",
     "text": [
      "Gurobi Optimizer version 9.5.2 build v9.5.2rc0 (linux64)\n",
      "Thread count: 4 physical cores, 8 logical processors, using up to 8 threads\n",
      "Optimize a model with 7 rows, 9 columns and 15 nonzeros\n",
      "Model fingerprint: 0x7ab2ab47\n",
      "Coefficient statistics:\n",
      "  Matrix range     [1e+00, 3e+00]\n",
      "  Objective range  [6e+00, 2e+01]\n",
      "  Bounds range     [0e+00, 0e+00]\n",
      "  RHS range        [6e+01, 2e+02]\n",
      "Presolve removed 4 rows and 2 columns\n",
      "Presolve time: 0.00s\n",
      "Presolved: 3 rows, 7 columns, 9 nonzeros\n",
      "\n",
      "Iteration    Objective       Primal Inf.    Dual Inf.      Time\n",
      "       0    3.0400000e+03   1.769142e+01   0.000000e+00      0s\n",
      "       2    3.1900000e+03   0.000000e+00   0.000000e+00      0s\n",
      "\n",
      "Solved in 2 iterations and 0.00 seconds (0.00 work units)\n",
      "Optimal objective  3.190000000e+03\n"
     ]
    }
   ],
   "source": [
    "# init the model\n",
    "model = gp.Model()\n",
    "\n",
    "# now init each production line\n",
    "#  you need each on its own becasue M (make) underlies different constraints\n",
    "\"\"\"\n",
    "IMPORTANT: If you have different constraints applying to different \"line\" then \n",
    "create different vairables onto which to apply these \n",
    "EG here only M has the labour hour constraints; so this one is relevant (and n just stands for the number of \n",
    "products in total; this may also be RELEVANT!)\n",
    "\n",
    "--> eg, for certain lines, the production line n might differ as well!!! (so eg A does not product prod \n",
    "2 or so; then this way you can constrain it)\n",
    "\"\"\"\n",
    "# THIS WAY YOU CAN ALSO DO M[i] for instance!!! to address each specifically!!\n",
    "\n",
    "M = model.addVars(n, name=\"make\", obj=makeCosts)\n",
    "A = model.addVars(n, name=\"BuyA\", obj=buyACosts)\n",
    "B = model.addVars(n, name=\"BuyB\", obj=buyBCosts)\n",
    "\n",
    "\n",
    "# first constraint of working hours for M only\n",
    "lhs = 0\n",
    "for i in range(n):\n",
    "    \"\"\"\n",
    "    This for loop shoud accomplish the same as:\n",
    "    model.addConstr(gp.quicksum(laborUse[i] * M[i] for i in range(n)) <= laborAvail)\n",
    "\n",
    "    IMPORTANT: Gurobi does not like it if you do operations in the addConstr function;\n",
    "    so dont do model.addConstr(laborUse[i] * M[i] <= laborAvail) --> use the lhs to assign to!!!\n",
    "\n",
    "    Important as well; you could technically just loop thorugh adding the constraints as well here\n",
    "    (so indenting the model.addConstr(lhs <= laborAvail) as well!)\n",
    "    \"\"\"\n",
    "    lhs += laborUse[i] * M[i]\n",
    "\n",
    "# important: addConstr --> ONE CONSTRAINT!!!!!!!!\n",
    "model.addConstr(lhs <= laborAvail)\n",
    "\n",
    "\n",
    "# second constraint of A only being able to use 60 in TOTAL for all products in question\n",
    "for i in range(n):\n",
    "    \"\"\"\n",
    "    this loop should accomplish about the same as:\n",
    "    model.addConstr(gp.quicksum(A[i] for i in range(n)) <= aProdLimit)\n",
    "\n",
    "    --> The main point is that here for instance we could impose specific restricions\n",
    "    One example is that all but the last product ccan be produced 60 times each but the last one is 50\n",
    "    and you can do this by manipulating the loop accordingly range(n-1) (would leave out the last one)\n",
    "    \"\"\"\n",
    "    model.addConstr(A[i] <= aProdLimit)\n",
    "\n",
    "\n",
    "# finally the demand constraint\n",
    "for i in range(n):\n",
    "    lhs = 0\n",
    "    for production_location in [M, A, B]:\n",
    "        \"\"\"\n",
    "        For each product (1,2,3) there is the same constraint for each production location (M, A, B)\n",
    "        --> Here again: use addConstr and not addConstrs; the reason is that you have constraints\n",
    "        for product 1 all --> So it is not multiple constraints at once!\n",
    "\n",
    "\n",
    "        model.addConstrs(M[i] + A[i] + B[i] == demands[i] for i in range(n))\n",
    "        \"\"\"\n",
    "        lhs += production_location[i]\n",
    "    model.addConstr(lhs == demands[i])\n",
    "\n",
    "\n",
    "# be explicit\n",
    "model.ModelSense = gp.GRB.MINIMIZE\n",
    "\n",
    "\n",
    "model.optimize()"
   ]
  },
  {
   "cell_type": "code",
   "execution_count": 10,
   "metadata": {},
   "outputs": [
    {
     "name": "stdout",
     "output_type": "stream",
     "text": [
      "Gurobi Optimizer version 9.5.2 build v9.5.2rc0 (linux64)\n",
      "Thread count: 4 physical cores, 8 logical processors, using up to 8 threads\n",
      "Optimize a model with 7 rows, 9 columns and 15 nonzeros\n",
      "Coefficient statistics:\n",
      "  Matrix range     [1e+00, 3e+00]\n",
      "  Objective range  [6e+00, 2e+01]\n",
      "  Bounds range     [0e+00, 0e+00]\n",
      "  RHS range        [6e+01, 2e+02]\n",
      "\n",
      "Solved in 0 iterations and 0.00 seconds (0.00 work units)\n",
      "Optimal objective  3.190000000e+03\n",
      "optimal value 3190.0\n",
      "\n",
      "    Variable            X \n",
      "-------------------------\n",
      "     make[0]          100 \n",
      "     make[1]           50 \n",
      "     BuyA[1]           30 \n",
      "     BuyA[2]           60 \n",
      "     BuyB[2]           10 \n"
     ]
    }
   ],
   "source": [
    "# # minimize by default --> only use make variables becasue this is the one you are minimizing\n",
    "# model.addConstr(gp.quicksum(laborUse[i] * M[i] for i in range(n)) <= laborAvail)\n",
    "# model.addConstr(gp.quicksum(A[i] for i in range(n)) <= aProdLimit)\n",
    "\n",
    "# # these are multiple constraints now\n",
    "# model.addConstrs(M[i] + A[i] + B[i] == demands[i] for i in range(n))\n",
    "\n",
    "\n",
    "model.optimize()\n",
    "print(\"optimal value\", model.objval)\n",
    "model.printAttr(\"X\")"
   ]
  },
  {
   "cell_type": "code",
   "execution_count": null,
   "metadata": {},
   "outputs": [],
   "source": []
  },
  {
   "cell_type": "markdown",
   "metadata": {},
   "source": [
    "## Question 3"
   ]
  },
  {
   "cell_type": "code",
   "execution_count": 160,
   "metadata": {},
   "outputs": [],
   "source": [
    "# init the variables\n",
    "Bonds = [\"A\", \"B\", \"C\", \"D\", \"E\"]\n",
    "n = len(Bonds)\n",
    "upper_bound = 100000\n",
    "annual_return = [0.095, 0.08, 0.09, 0.09, 0.09]\n",
    "short_term_min = upper_bound * 0.5  # shortTermMinRatio = 0.5\n",
    "highrisk_limit = upper_bound * 0.45  # lowRiskRatio = 0.55\n",
    "tax_free_min = 0.3 * upper_bound  # taxFreeMinRatio = 0.3\n",
    "tax_free_return_min = [0.057, 0.048, 0.054, -0.036, -0.036]  # taxFreeRetMinRatio = 0.4\n",
    "profit_bonds: Dict[str, int] = {\"A\": 0.095, \"B\": 0.08, \"C\": 0.09, \"D\": 0.09, \"E\": 0.09}\n",
    "tax_free_return_min_profile: Dict[str, int] = {\n",
    "    \"A\": 0.057,\n",
    "    \"B\": 0.048,\n",
    "    \"C\": -0.036,\n",
    "    \"D\": 0.054,\n",
    "    \"E\": -0.036,\n",
    "}\n",
    "\n",
    "# Bonds = [\"A\", \"B\", \"C\", \"D\", \"E\"]\n",
    "# n = len(Bonds)\n",
    "# returns = [0.095, 0.08, 0.09, 0.09, 0.09]\n",
    "# longMaturity = [True, False, True, True, False]\n",
    "# highRisk = [1, 0, 0, 1, 1]\n",
    "# taxFree = [1, 1, 0, 1, 0]\n",
    "\n",
    "# totalInvestment = 100000\n",
    "# shortTermMinRatio = 0.5\n",
    "# lowRiskRatio = 0.55\n",
    "# taxFreeMinRatio = 0.3\n",
    "# taxFreeRetMinRatio = 0.4"
   ]
  },
  {
   "cell_type": "code",
   "execution_count": 161,
   "metadata": {},
   "outputs": [],
   "source": [
    "model = gp.Model()\n",
    "\n",
    "# the variables to be maximized\n",
    "bonds_obj = {}\n",
    "for bond in Bonds:\n",
    "    \"\"\"\n",
    "    For each product set the same constrains of upper lower bound and set the objective\n",
    "    Same as: x = model.addVars(toys, obj=profit, ub=1000, lb=100)\n",
    "    \"\"\"\n",
    "    bonds_obj[bond] = model.addVar(lb=0, obj=profit_bonds[bond], name=bond)\n",
    "model.ModelSense = gp.GRB.MAXIMIZE"
   ]
  },
  {
   "cell_type": "code",
   "execution_count": 162,
   "metadata": {},
   "outputs": [
    {
     "data": {
      "text/plain": [
       "{'A': <gurobi.Var *Awaiting Model Update*>,\n",
       " 'B': <gurobi.Var *Awaiting Model Update*>,\n",
       " 'C': <gurobi.Var *Awaiting Model Update*>,\n",
       " 'D': <gurobi.Var *Awaiting Model Update*>,\n",
       " 'E': <gurobi.Var *Awaiting Model Update*>}"
      ]
     },
     "execution_count": 162,
     "metadata": {},
     "output_type": "execute_result"
    }
   ],
   "source": [
    "bonds_obj"
   ]
  },
  {
   "cell_type": "code",
   "execution_count": 163,
   "metadata": {},
   "outputs": [],
   "source": [
    "# add constraint on the total investment limit total\n",
    "lhs = 0\n",
    "for i in Bonds:\n",
    "    lhs += bonds_obj[i]\n",
    "model.addConstr(lhs == upper_bound)\n",
    "\n",
    "\"\"\"\n",
    "model.addConstr(gp.quicksum(x[i] for i in range(n)) == upper_bound)\n",
    "\"\"\"\n",
    "None"
   ]
  },
  {
   "cell_type": "code",
   "execution_count": 164,
   "metadata": {},
   "outputs": [
    {
     "name": "stdout",
     "output_type": "stream",
     "text": [
      "<gurobi.LinExpr: <gurobi.Var *Awaiting Model Update*> + <gurobi.Var *Awaiting Model Update*> + <gurobi.Var *Awaiting Model Update*> + <gurobi.Var *Awaiting Model Update*> + <gurobi.Var *Awaiting Model Update*>>\n",
      "\n",
      "\n",
      "<gurobi.Var *Awaiting Model Update*>\n"
     ]
    }
   ],
   "source": [
    "\"\"\"\n",
    "Just a nice example: \n",
    "\n",
    "Her you can see that the object behaves like a stack (LINEAREXPR object!)\n",
    "\"\"\"\n",
    "print(lhs)\n",
    "print(\"\\n\")\n",
    "print(bonds_obj[i])"
   ]
  },
  {
   "cell_type": "code",
   "execution_count": 165,
   "metadata": {},
   "outputs": [],
   "source": [
    "# adding the constraints on the short term min\n",
    "lhs = 0\n",
    "for i in [\"B\", \"E\"]:\n",
    "    lhs += bonds_obj[i]\n",
    "model.addConstr(lhs >= short_term_min)\n",
    "\n",
    "\"\"\"\n",
    "model.addConstr(\n",
    "    gp.quicksum(x[i] for i in range(n) if not longMaturity[i])\n",
    "    >= totalInvestment * shortTermMinRatio\n",
    ")\n",
    "\"\"\"\n",
    "None"
   ]
  },
  {
   "cell_type": "code",
   "execution_count": 166,
   "metadata": {},
   "outputs": [],
   "source": [
    "# adding the constraints on the high risk max\n",
    "lhs = 0\n",
    "for i in [\"A\", \"D\", \"E\"]:\n",
    "    lhs += bonds_obj[i]\n",
    "model.addConstr(lhs <= highrisk_limit)\n",
    "\n",
    "\"\"\"\n",
    "model.addConstr(\n",
    "    gp.quicksum(x[i] for i in range(n) if not highRisk[i])\n",
    "    >= totalInvestment * lowRiskRatio\n",
    ")\n",
    "\"\"\"\n",
    "None"
   ]
  },
  {
   "cell_type": "code",
   "execution_count": 167,
   "metadata": {},
   "outputs": [
    {
     "data": {
      "text/plain": [
       "'\\nmodel.addConstr(\\n    gp.quicksum(x[i] for i in range(n) if taxFree[i])\\n    >= totalInvestment * taxFreeMinRatio\\n)\\n'"
      ]
     },
     "execution_count": 167,
     "metadata": {},
     "output_type": "execute_result"
    }
   ],
   "source": [
    "# adding the constraints on the tax free min\n",
    "lhs = 0\n",
    "for i in [\"A\", \"B\", \"D\"]:\n",
    "    lhs += bonds_obj[i]\n",
    "model.addConstr(lhs >= tax_free_min)\n",
    "\n",
    "\"\"\"\n",
    "model.addConstr(\n",
    "    gp.quicksum(x[i] for i in range(n) if taxFree[i])\n",
    "    >= totalInvestment * taxFreeMinRatio\n",
    ")\n",
    "\"\"\""
   ]
  },
  {
   "cell_type": "code",
   "execution_count": 168,
   "metadata": {},
   "outputs": [],
   "source": [
    "# adding the constraints on the tax free min on total returns\n",
    "lhs = 0\n",
    "for i in Bonds:\n",
    "    lhs += bonds_obj[i] * tax_free_return_min_profile[i]\n",
    "model.addConstr(lhs >= 0)\n",
    "\"\"\"\n",
    "model.addConstr(\n",
    "    gp.quicksum(returns[i] * x[i] for i in range(n) if taxFree[i])\n",
    "    >= taxFreeRetMinRatio * gp.quicksum(returns[i] * x[i] for i in range(n))\n",
    ")\n",
    "\"\"\"\n",
    "None"
   ]
  },
  {
   "cell_type": "code",
   "execution_count": 169,
   "metadata": {},
   "outputs": [],
   "source": [
    "# model.addConstr(\n",
    "#     gp.quicksum(profit_bonds[i] * bonds_obj[i] for i in [\"A\", \"B\", \"D\"])\n",
    "#     >= 0.4 * gp.quicksum(profit_bonds[i] * bonds_obj[i] for i in Bonds)\n",
    "# )"
   ]
  },
  {
   "cell_type": "code",
   "execution_count": 170,
   "metadata": {},
   "outputs": [
    {
     "name": "stdout",
     "output_type": "stream",
     "text": [
      "\\ LP format - for model browsing. Use MPS format to capture full model detail.\n",
      "Maximize\n",
      "  0.095 A + 0.08 B + 0.09 C + 0.09 D + 0.09 E\n",
      "Subject To\n",
      " R0: A + B + C + D + E = 100000\n",
      " R1: B + E >= 50000\n",
      " R2: A + D + E <= 45000\n",
      " R3: A + B + D >= 30000\n",
      " R4: 0.057 A + 0.048 B - 0.036 C + 0.054 D - 0.036 E >= 0\n",
      "Bounds\n",
      "End\n",
      "\n"
     ]
    }
   ],
   "source": [
    "model.write(\"problem.lp\")\n",
    "with open(\"problem.lp\") as f:\n",
    "    print(f.read())"
   ]
  },
  {
   "cell_type": "markdown",
   "metadata": {},
   "source": [
    "## Here might be a mistake in the solution:\n",
    "\n",
    "print(\n",
    "    gp.quicksum(profit_bonds[i] * bonds_obj[i] for i in [\"A\", \"B\", \"D\"])\n",
    "    >= 0.4 * gp.quicksum(profit_bonds[i] * bonds_obj[i] for i in Bonds)\n",
    ")\n",
    "\n",
    "--> this should npot be the case here!"
   ]
  },
  {
   "cell_type": "code",
   "execution_count": 172,
   "metadata": {},
   "outputs": [
    {
     "name": "stdout",
     "output_type": "stream",
     "text": [
      "Gurobi Optimizer version 9.5.2 build v9.5.2rc0 (linux64)\n",
      "Thread count: 4 physical cores, 8 logical processors, using up to 8 threads\n",
      "Optimize a model with 5 rows, 5 columns and 18 nonzeros\n",
      "Model fingerprint: 0xd539a1ea\n",
      "Coefficient statistics:\n",
      "  Matrix range     [4e-02, 1e+00]\n",
      "  Objective range  [8e-02, 1e-01]\n",
      "  Bounds range     [0e+00, 0e+00]\n",
      "  RHS range        [3e+04, 1e+05]\n",
      "Presolve time: 0.00s\n",
      "Presolved: 5 rows, 5 columns, 18 nonzeros\n",
      "\n",
      "Iteration    Objective       Primal Inf.    Dual Inf.      Time\n",
      "       0    4.4500000e+29   8.000000e+30   4.450000e-01      0s\n",
      "       4    8.8601695e+03   0.000000e+00   0.000000e+00      0s\n",
      "\n",
      "Solved in 4 iterations and 0.01 seconds (0.00 work units)\n",
      "Optimal objective  8.860169492e+03\n",
      "optimal value 8860.169491525423\n",
      "\n",
      "    Variable            X \n",
      "-------------------------\n",
      "           A      17966.1 \n",
      "           B      22966.1 \n",
      "           C      32033.9 \n",
      "           E      27033.9 \n"
     ]
    }
   ],
   "source": [
    "model.optimize()\n",
    "if not model.status == gp.GRB.OPTIMAL:\n",
    "    print(\"something went wrong\")\n",
    "print(\"optimal value\", model.objval)\n",
    "model.printAttr(\"X\")"
   ]
  },
  {
   "cell_type": "markdown",
   "metadata": {},
   "source": [
    "oefficient statistics:\n",
    "  Matrix range     [4e-02, 1e+00]\n",
    "  Objective range  [8e-02, 1e-01]\n",
    "  Bounds range     [0e+00, 0e+00]\n",
    "  RHS range        [3e+04, 1e+05]\n",
    "Presolve time: 0.01s\n",
    "Presolved: 5 rows, 5 columns, 17 nonzeros"
   ]
  },
  {
   "cell_type": "code",
   "execution_count": null,
   "metadata": {},
   "outputs": [],
   "source": []
  },
  {
   "cell_type": "code",
   "execution_count": 79,
   "metadata": {},
   "outputs": [],
   "source": [
    "Bonds = [\"A\", \"B\", \"C\", \"D\", \"E\"]\n",
    "n = len(Bonds)\n",
    "returns = [0.095, 0.08, 0.09, 0.09, 0.09]\n",
    "longMaturity = [True, False, True, True, False]\n",
    "highRisk = [1, 0, 0, 1, 1]\n",
    "taxFree = [1, 1, 0, 1, 0]\n",
    "\n",
    "totalInvestment = 100000\n",
    "shortTermMinRatio = 0.5\n",
    "lowRiskRatio = 0.55\n",
    "taxFreeMinRatio = 0.3\n",
    "taxFreeRetMinRatio = 0.4\n",
    "\n",
    "model = gp.Model()\n",
    "x = model.addVars(n, name=Bonds, obj=returns)\n",
    "model.ModelSense = gp.GRB.MAXIMIZE"
   ]
  },
  {
   "cell_type": "code",
   "execution_count": 80,
   "metadata": {},
   "outputs": [
    {
     "data": {
      "text/plain": [
       "{0: <gurobi.Var *Awaiting Model Update*>,\n",
       " 1: <gurobi.Var *Awaiting Model Update*>,\n",
       " 2: <gurobi.Var *Awaiting Model Update*>,\n",
       " 3: <gurobi.Var *Awaiting Model Update*>,\n",
       " 4: <gurobi.Var *Awaiting Model Update*>}"
      ]
     },
     "execution_count": 80,
     "metadata": {},
     "output_type": "execute_result"
    }
   ],
   "source": [
    "x"
   ]
  },
  {
   "cell_type": "code",
   "execution_count": 81,
   "metadata": {},
   "outputs": [
    {
     "data": {
      "text/plain": [
       "<gurobi.Constr *Awaiting Model Update*>"
      ]
     },
     "execution_count": 81,
     "metadata": {},
     "output_type": "execute_result"
    }
   ],
   "source": [
    "model.addConstr(gp.quicksum(x[i] for i in range(n)) == totalInvestment)"
   ]
  },
  {
   "cell_type": "code",
   "execution_count": 82,
   "metadata": {},
   "outputs": [
    {
     "data": {
      "text/plain": [
       "<gurobi.Constr *Awaiting Model Update*>"
      ]
     },
     "execution_count": 82,
     "metadata": {},
     "output_type": "execute_result"
    }
   ],
   "source": [
    "model.addConstr(\n",
    "    gp.quicksum(x[i] for i in range(n) if not longMaturity[i])\n",
    "    >= totalInvestment * shortTermMinRatio\n",
    ")"
   ]
  },
  {
   "cell_type": "code",
   "execution_count": 83,
   "metadata": {},
   "outputs": [
    {
     "data": {
      "text/plain": [
       "<gurobi.Constr *Awaiting Model Update*>"
      ]
     },
     "execution_count": 83,
     "metadata": {},
     "output_type": "execute_result"
    }
   ],
   "source": [
    "model.addConstr(\n",
    "    gp.quicksum(x[i] for i in range(n) if not highRisk[i])\n",
    "    >= totalInvestment * lowRiskRatio\n",
    ")"
   ]
  },
  {
   "cell_type": "code",
   "execution_count": 84,
   "metadata": {},
   "outputs": [
    {
     "data": {
      "text/plain": [
       "<gurobi.Constr *Awaiting Model Update*>"
      ]
     },
     "execution_count": 84,
     "metadata": {},
     "output_type": "execute_result"
    }
   ],
   "source": [
    "model.addConstr(\n",
    "    gp.quicksum(x[i] for i in range(n) if taxFree[i])\n",
    "    >= totalInvestment * taxFreeMinRatio\n",
    ")"
   ]
  },
  {
   "cell_type": "code",
   "execution_count": 85,
   "metadata": {},
   "outputs": [
    {
     "data": {
      "text/plain": [
       "<gurobi.Constr *Awaiting Model Update*>"
      ]
     },
     "execution_count": 85,
     "metadata": {},
     "output_type": "execute_result"
    }
   ],
   "source": [
    "model.addConstr(\n",
    "    gp.quicksum(returns[i] * x[i] for i in range(n) if taxFree[i])\n",
    "    >= taxFreeRetMinRatio * gp.quicksum(returns[i] * x[i] for i in range(n))\n",
    ")"
   ]
  },
  {
   "cell_type": "code",
   "execution_count": 86,
   "metadata": {},
   "outputs": [
    {
     "name": "stdout",
     "output_type": "stream",
     "text": [
      "Gurobi Optimizer version 9.5.2 build v9.5.2rc0 (linux64)\n",
      "Thread count: 4 physical cores, 8 logical processors, using up to 8 threads\n",
      "Optimize a model with 5 rows, 5 columns and 17 nonzeros\n",
      "Model fingerprint: 0xf5d78df5\n",
      "Coefficient statistics:\n",
      "  Matrix range     [4e-02, 1e+00]\n",
      "  Objective range  [8e-02, 1e-01]\n",
      "  Bounds range     [0e+00, 0e+00]\n",
      "  RHS range        [3e+04, 1e+05]\n",
      "Presolve time: 0.00s\n",
      "Presolved: 5 rows, 5 columns, 17 nonzeros\n",
      "\n",
      "Iteration    Objective       Primal Inf.    Dual Inf.      Time\n",
      "       0    4.4500000e+29   5.000000e+30   4.450000e-01      0s\n",
      "       4    8.8601695e+03   0.000000e+00   0.000000e+00      0s\n",
      "\n",
      "Solved in 4 iterations and 0.01 seconds (0.00 work units)\n",
      "Optimal objective  8.860169492e+03\n",
      "optimal value 8860.169491525423\n",
      "\n",
      "    Variable            X \n",
      "-------------------------\n",
      "           A      17966.1 \n",
      "           B      22966.1 \n",
      "           C      32033.9 \n",
      "           E      27033.9 \n"
     ]
    }
   ],
   "source": [
    "model.optimize()\n",
    "if not model.status == gp.GRB.OPTIMAL:\n",
    "    print(\"something went wrong\")\n",
    "print(\"optimal value\", model.objval)\n",
    "model.printAttr(\"X\")"
   ]
  },
  {
   "cell_type": "code",
   "execution_count": 87,
   "metadata": {},
   "outputs": [
    {
     "name": "stdout",
     "output_type": "stream",
     "text": [
      "\\ LP format - for model browsing. Use MPS format to capture full model detail.\n",
      "Maximize\n",
      "  0.095 A + 0.08 B + 0.09 C + 0.09 D + 0.09 E\n",
      "Subject To\n",
      " R0: A + B + C + D + E = 100000\n",
      " R1: B + E >= 50000\n",
      " R2: B + C >= 55000\n",
      " R3: A + B + D >= 30000\n",
      " R4: 0.057 A + 0.048 B - 0.036 C + 0.054 D - 0.036 E >= 0\n",
      "Bounds\n",
      "End\n",
      "\n"
     ]
    }
   ],
   "source": [
    "model.write(\"problem.lp\")\n",
    "with open(\"problem.lp\") as f:\n",
    "    print(f.read())"
   ]
  },
  {
   "cell_type": "markdown",
   "metadata": {},
   "source": [
    "\n",
    "## Question 4"
   ]
  },
  {
   "cell_type": "code",
   "execution_count": null,
   "metadata": {},
   "outputs": [],
   "source": []
  },
  {
   "cell_type": "code",
   "execution_count": null,
   "metadata": {},
   "outputs": [],
   "source": []
  },
  {
   "cell_type": "code",
   "execution_count": null,
   "metadata": {},
   "outputs": [],
   "source": []
  },
  {
   "cell_type": "code",
   "execution_count": null,
   "metadata": {},
   "outputs": [],
   "source": []
  },
  {
   "cell_type": "code",
   "execution_count": null,
   "metadata": {},
   "outputs": [],
   "source": []
  },
  {
   "cell_type": "code",
   "execution_count": null,
   "metadata": {},
   "outputs": [],
   "source": []
  },
  {
   "cell_type": "code",
   "execution_count": null,
   "metadata": {},
   "outputs": [],
   "source": []
  },
  {
   "cell_type": "code",
   "execution_count": null,
   "metadata": {},
   "outputs": [],
   "source": []
  },
  {
   "cell_type": "code",
   "execution_count": null,
   "metadata": {},
   "outputs": [],
   "source": []
  },
  {
   "cell_type": "code",
   "execution_count": null,
   "metadata": {},
   "outputs": [],
   "source": []
  }
 ],
 "metadata": {
  "kernelspec": {
   "display_name": "Python 3.10.7 ('Management_Science_Code': venv)",
   "language": "python",
   "name": "python3"
  },
  "language_info": {
   "codemirror_mode": {
    "name": "ipython",
    "version": 3
   },
   "file_extension": ".py",
   "mimetype": "text/x-python",
   "name": "python",
   "nbconvert_exporter": "python",
   "pygments_lexer": "ipython3",
   "version": "3.10.7"
  },
  "orig_nbformat": 4,
  "vscode": {
   "interpreter": {
    "hash": "631b42a28b26d4224283cd0bbfa9240d9ab42f9083121b113c6838601922a371"
   }
  }
 },
 "nbformat": 4,
 "nbformat_minor": 2
}
