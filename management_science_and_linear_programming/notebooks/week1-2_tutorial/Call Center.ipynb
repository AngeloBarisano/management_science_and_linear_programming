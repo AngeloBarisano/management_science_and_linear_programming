{
 "cells": [
  {
   "cell_type": "code",
   "execution_count": 1,
   "metadata": {},
   "outputs": [],
   "source": [
    "import gurobipy as gp\n",
    "import numpy as np"
   ]
  },
  {
   "cell_type": "code",
   "execution_count": 2,
   "metadata": {},
   "outputs": [
    {
     "name": "stdout",
     "output_type": "stream",
     "text": [
      "Academic license - for non-commercial use only - expires 2022-10-20\n",
      "Using license file /Users/maurostsouk/gurobi.lic\n",
      "Gurobi Optimizer version 9.1.2 build v9.1.2rc0 (mac64)\n",
      "Thread count: 8 physical cores, 16 logical processors, using up to 16 threads\n",
      "Optimize a model with 7 rows, 7 columns and 14 nonzeros\n",
      "Model fingerprint: 0x545b8308\n",
      "Coefficient statistics:\n",
      "  Matrix range     [1e+00, 1e+00]\n",
      "  Objective range  [4e+01, 5e+01]\n",
      "  Bounds range     [0e+00, 0e+00]\n",
      "  RHS range        [2e+00, 1e+01]\n",
      "Presolve removed 2 rows and 0 columns\n",
      "Presolve time: 0.00s\n",
      "Presolved: 5 rows, 7 columns, 12 nonzeros\n",
      "\n",
      "Iteration    Objective       Primal Inf.    Dual Inf.      Time\n",
      "       0    9.6000000e+02   1.300000e+01   0.000000e+00      0s\n",
      "       4    1.2280000e+03   0.000000e+00   0.000000e+00      0s\n",
      "\n",
      "Solved in 4 iterations and 0.01 seconds\n",
      "Optimal objective  1.228000000e+03\n",
      "optimal value 1228.0\n",
      "\n",
      "    Variable            X \n",
      "-------------------------\n",
      "          F7            6 \n",
      "          F9           12 \n",
      "         F11            5 \n",
      "         F13            1 \n",
      "         F15            2 \n",
      "         P15            4 \n"
     ]
    }
   ],
   "source": [
    "import math\n",
    "shiftStarts=[7,9,11,13,15,17,19]\n",
    "calls=[32,68,64,76,64,28,8]\n",
    "employeeTypes=[\"F7\",\"F9\",\"F11\",\"F13\",\"F15\",\"P15\",\"P17\"]\n",
    "costs=[40,40,40,44,44,44,48]\n",
    "\n",
    "emplreq=[math.ceil(e/6) for e in calls ]\n",
    "n=len(employeeTypes) #number of vars\n",
    "m=len(shiftStarts)   #numbers of cons\n",
    "incidenceMatrix=np.zeros(m*n).reshape(m,n) #build the incidence matrix. We could do this manually but...\n",
    "for i,s in enumerate(shiftStarts):\n",
    "    for j,et in enumerate(employeeTypes):\n",
    "        if et[0]==\"F\" and (s==int(et[1:]) or s==int(et[1:])+4):\n",
    "            incidenceMatrix[i,j]=1\n",
    "        elif et[0]==\"P\" and (s==int(et[1:]) or s==int(et[1:])+2):\n",
    "            incidenceMatrix[i,j]=1\n",
    "\n",
    "model=gp.Model()\n",
    "x=model.addVars(n,name=employeeTypes,obj=costs)\n",
    "model.addConstrs(gp.quicksum(incidenceMatrix[i,j]*x[j]   for j in range(n))>=emplreq[i] \n",
    "                 for i in range(m))\n",
    "\n",
    "model.optimize()   \n",
    "print(\"optimal value\", model.ObjVal)\n",
    "model.printAttr(\"X\")"
   ]
  },
  {
   "cell_type": "code",
   "execution_count": null,
   "metadata": {},
   "outputs": [],
   "source": []
  }
 ],
 "metadata": {
  "kernelspec": {
   "display_name": "Python 3.10.7 ('Management_Science_Code': venv)",
   "language": "python",
   "name": "python3"
  },
  "language_info": {
   "codemirror_mode": {
    "name": "ipython",
    "version": 3
   },
   "file_extension": ".py",
   "mimetype": "text/x-python",
   "name": "python",
   "nbconvert_exporter": "python",
   "pygments_lexer": "ipython3",
   "version": "3.10.7"
  },
  "vscode": {
   "interpreter": {
    "hash": "631b42a28b26d4224283cd0bbfa9240d9ab42f9083121b113c6838601922a371"
   }
  }
 },
 "nbformat": 4,
 "nbformat_minor": 2
}
