{
 "cells": [
  {
   "cell_type": "code",
   "execution_count": 2,
   "metadata": {},
   "outputs": [],
   "source": [
    "import gurobipy as gp"
   ]
  },
  {
   "cell_type": "markdown",
   "metadata": {},
   "source": [
    "# Q1"
   ]
  },
  {
   "cell_type": "markdown",
   "metadata": {},
   "source": [
    "### Simple way "
   ]
  },
  {
   "cell_type": "code",
   "execution_count": 3,
   "metadata": {},
   "outputs": [
    {
     "name": "stdout",
     "output_type": "stream",
     "text": [
      "Restricted license - for non-production use only - expires 2023-10-25\n",
      "Gurobi Optimizer version 9.5.2 build v9.5.2rc0 (linux64)\n",
      "Thread count: 4 physical cores, 8 logical processors, using up to 8 threads\n",
      "Optimize a model with 2 rows, 4 columns and 8 nonzeros\n",
      "Model fingerprint: 0xe7d9c8b2\n",
      "Coefficient statistics:\n",
      "  Matrix range     [1e+00, 6e+00]\n",
      "  Objective range  [2e+01, 2e+01]\n",
      "  Bounds range     [1e+02, 1e+03]\n",
      "  RHS range        [3e+03, 6e+03]\n",
      "Presolve time: 0.00s\n",
      "Presolved: 2 rows, 4 columns, 8 nonzeros\n",
      "\n",
      "Iteration    Objective       Primal Inf.    Dual Inf.      Time\n",
      "       0    3.7300000e+04   5.125000e+02   0.000000e+00      0s\n",
      "       2    2.6660000e+04   0.000000e+00   0.000000e+00      0s\n",
      "\n",
      "Solved in 2 iterations and 0.01 seconds (0.00 work units)\n",
      "Optimal objective  2.666000000e+04\n",
      "problem status is 2\n",
      "x1 860.0\n",
      "x1 580.0\n",
      "x1 100.0\n",
      "x1 100.0\n",
      "optimal value 26660.0\n"
     ]
    }
   ],
   "source": [
    "#gp.setParam(\"OutputFlag\",1)\n",
    "model=gp.Model()\n",
    "x1=model.addVar(lb=100,ub=1000)\n",
    "x2=model.addVar(lb=100,ub=1000)\n",
    "x3=model.addVar(lb=100,ub=1000)\n",
    "x4=model.addVar()\n",
    "x4.lb=100\n",
    "x4.ub=1000\n",
    "model.setObjective(16*x1+15*x2+20*x3+22*x4,gp.GRB.MAXIMIZE)\n",
    "model.addConstr(2*x1+x2+3*x3+4*x4<=3000)\n",
    "model.addConstr(3*x1+4*x2+5*x3+6*x4<=6000)\n",
    "model.optimize()\n",
    "print(\"problem status is\", model.status)\n",
    "if not model.status == gp.GRB.OPTIMAL:\n",
    "    print(\"something went wrong\")\n",
    "print(\"x1\",x1.X)\n",
    "print(\"x1\",x2.X)\n",
    "print(\"x1\",x3.X)\n",
    "print(\"x1\",x4.X)\n",
    "print(\"optimal value\",model.objval)"
   ]
  },
  {
   "cell_type": "code",
   "execution_count": 4,
   "metadata": {},
   "outputs": [
    {
     "name": "stdout",
     "output_type": "stream",
     "text": [
      "Help on method addVars in module gurobipy:\n",
      "\n",
      "addVars(*indexes, **kwargs) method of gurobipy.Model instance\n",
      "    addVars(*indexes, lb=0.0, ub=GRB.INFINITY, obj=0.0, vtype=GRB.CONTINUOUS,\n",
      "               name=\"\")\n",
      "    \n",
      "    Add variables in bulk, given one or more lists or integers that serve as\n",
      "    indexes for the variables.  Returns a dictionary of Var objects, indexed by\n",
      "    the values (or tuples of values) from the index set.\n",
      "    \n",
      "    The optional parameters (lb, ub, obj, vtype, name) work similar\n",
      "    to the addVar() method, with the following exceptions:\n",
      "    1. The parameter name is required (ex: vtype=GRB.BINARY)\n",
      "    2. You can specify the value as a scalar, a list or a dictionary.  For a scalar,\n",
      "       the value will be used for all variables; for a list, the values must be\n",
      "       in the same order as the index set; for a dictionary, they must be indexed\n",
      "       by the variable index.\n",
      "    3. If you specify a scalar string for name, the variable name will be\n",
      "       subscripted automatically.\n",
      "\n"
     ]
    }
   ],
   "source": [
    "help(model.addVars)\n"
   ]
  },
  {
   "cell_type": "markdown",
   "metadata": {},
   "source": [
    "### Better way-using dictionaries"
   ]
  },
  {
   "cell_type": "code",
   "execution_count": 5,
   "metadata": {},
   "outputs": [
    {
     "name": "stdout",
     "output_type": "stream",
     "text": [
      "Gurobi Optimizer version 9.5.2 build v9.5.2rc0 (linux64)\n",
      "Thread count: 4 physical cores, 8 logical processors, using up to 8 threads\n",
      "Optimize a model with 2 rows, 4 columns and 8 nonzeros\n",
      "Model fingerprint: 0xe7d9c8b2\n",
      "Coefficient statistics:\n",
      "  Matrix range     [1e+00, 6e+00]\n",
      "  Objective range  [2e+01, 2e+01]\n",
      "  Bounds range     [1e+02, 1e+03]\n",
      "  RHS range        [3e+03, 6e+03]\n",
      "Presolve time: 0.00s\n",
      "Presolved: 2 rows, 4 columns, 8 nonzeros\n",
      "\n",
      "Iteration    Objective       Primal Inf.    Dual Inf.      Time\n",
      "       0    3.7300000e+04   5.125000e+02   0.000000e+00      0s\n",
      "       2    2.6660000e+04   0.000000e+00   0.000000e+00      0s\n",
      "\n",
      "Solved in 2 iterations and 0.00 seconds (0.00 work units)\n",
      "Optimal objective  2.666000000e+04\n",
      "optimal value 26660.0\n",
      "\n",
      "    Variable            X \n",
      "-------------------------\n",
      "products[Ray]          860 \n",
      "products[Zapper]          580 \n",
      "products[Squire]          100 \n",
      "products[Soaker]          100 \n"
     ]
    }
   ],
   "source": [
    "#Data\n",
    "products=[\"Ray\",\"Zapper\",\"Squire\",\"Soaker\"]\n",
    "resources=[\"plastic\",\"time\"]\n",
    "profit={\"Ray\":16\n",
    "        ,\"Zapper\":15\n",
    "        ,\"Squire\":20,\n",
    "        \"Soaker\":22}\n",
    "resAvail={\"plastic\":3000,\"time\":6000}\n",
    "resUse={(\"Ray\",\"plastic\"):2,(\"Ray\",\"time\"):3,\n",
    "    (\"Zapper\",\"plastic\"):1,(\"Zapper\",\"time\"):4,\n",
    "    (\"Squire\",\"plastic\"):3,(\"Squire\",\"time\"):5,\n",
    "    (\"Soaker\",\"plastic\"):4,(\"Soaker\",\"time\"):6\n",
    "    }\n",
    "\n",
    "#Model\n",
    "model=gp.Model()\n",
    "pvars=model.addVars(products,lb=100,ub=1000,obj=profit,name=\"products\")\n",
    "model.ModelSense=gp.GRB.MAXIMIZE\n",
    "model.addConstrs(gp.quicksum(resUse[p,r]*pvars[p] for p in products)<=resAvail[r] \n",
    "                 for r in resources)\n",
    "\n",
    "model.optimize()\n",
    "if not model.status == gp.GRB.OPTIMAL:\n",
    "    print(\"something went wrong\")\n",
    "print(\"optimal value\",model.objval)\n",
    "model.printAttr(\"X\")\n"
   ]
  },
  {
   "cell_type": "markdown",
   "metadata": {},
   "source": [
    "### Using for loops"
   ]
  },
  {
   "cell_type": "code",
   "execution_count": 6,
   "metadata": {},
   "outputs": [
    {
     "name": "stdout",
     "output_type": "stream",
     "text": [
      "Gurobi Optimizer version 9.5.2 build v9.5.2rc0 (linux64)\n",
      "Thread count: 4 physical cores, 8 logical processors, using up to 8 threads\n",
      "Optimize a model with 2 rows, 4 columns and 8 nonzeros\n",
      "Model fingerprint: 0xe7d9c8b2\n",
      "Coefficient statistics:\n",
      "  Matrix range     [1e+00, 6e+00]\n",
      "  Objective range  [2e+01, 2e+01]\n",
      "  Bounds range     [1e+02, 1e+03]\n",
      "  RHS range        [3e+03, 6e+03]\n",
      "Presolve time: 0.00s\n",
      "Presolved: 2 rows, 4 columns, 8 nonzeros\n",
      "\n",
      "Iteration    Objective       Primal Inf.    Dual Inf.      Time\n",
      "       0    3.7300000e+04   5.125000e+02   0.000000e+00      0s\n",
      "       2    2.6660000e+04   0.000000e+00   0.000000e+00      0s\n",
      "\n",
      "Solved in 2 iterations and 0.00 seconds (0.00 work units)\n",
      "Optimal objective  2.666000000e+04\n",
      "optimal value 26660.0\n",
      "\n",
      "    Variable            X \n",
      "-------------------------\n",
      "         Ray          860 \n",
      "      Zapper          580 \n",
      "      Squire          100 \n",
      "      Soaker          100 \n"
     ]
    }
   ],
   "source": [
    "#Data\n",
    "products=[\"Ray\",\"Zapper\",\"Squire\",\"Soaker\"]\n",
    "resources=[\"plastic\",\"time\"]\n",
    "profit={\"Ray\":16\n",
    "        ,\"Zapper\":15\n",
    "        ,\"Squire\":20,\n",
    "        \"Soaker\":22}\n",
    "resAvail={\"plastic\":3000,\"time\":6000}\n",
    "resUse={(\"Ray\",\"plastic\"):2,(\"Ray\",\"time\"):3,\n",
    "    (\"Zapper\",\"plastic\"):1,(\"Zapper\",\"time\"):4,\n",
    "    (\"Squire\",\"plastic\"):3,(\"Squire\",\"time\"):5,\n",
    "    (\"Soaker\",\"plastic\"):4,(\"Soaker\",\"time\"):6\n",
    "    }\n",
    "\n",
    "#Model\n",
    "model=gp.Model()\n",
    "pvars={}\n",
    "for p in products:\n",
    "    pvars[p]=model.addVar(lb=100,ub=1000,obj=profit[p],name=p)\n",
    "model.ModelSense=gp.GRB.MAXIMIZE\n",
    "\n",
    "for r in resources:\n",
    "    lhs=0\n",
    "    for p in products:\n",
    "        lhs+= resUse[p,r]*pvars[p] \n",
    "    model.addConstr(lhs<=resAvail[r]) \n",
    "\n",
    "\n",
    "model.optimize()\n",
    "if not model.status == gp.GRB.OPTIMAL:\n",
    "    print(\"something went wrong\")\n",
    "print(\"optimal value\",model.objval)\n",
    "model.printAttr(\"X\")\n"
   ]
  },
  {
   "cell_type": "markdown",
   "metadata": {},
   "source": [
    "### Alternative (also good) way-using arrays\n",
    "\n",
    "A matter of taste which one you prefer. Good to know both as sometimes one may be more convenient than the other. "
   ]
  },
  {
   "cell_type": "code",
   "execution_count": 7,
   "metadata": {},
   "outputs": [
    {
     "ename": "ModuleNotFoundError",
     "evalue": "No module named 'numpy'",
     "output_type": "error",
     "traceback": [
      "\u001b[0;31m---------------------------------------------------------------------------\u001b[0m",
      "\u001b[0;31mModuleNotFoundError\u001b[0m                       Traceback (most recent call last)",
      "Cell \u001b[0;32mIn [7], line 1\u001b[0m\n\u001b[0;32m----> 1\u001b[0m \u001b[39mimport\u001b[39;00m \u001b[39mnumpy\u001b[39;00m \u001b[39mas\u001b[39;00m \u001b[39mnp\u001b[39;00m\n\u001b[1;32m      2\u001b[0m profit \u001b[39m=\u001b[39m np\u001b[39m.\u001b[39marray([\u001b[39m16\u001b[39m,\u001b[39m15\u001b[39m, \u001b[39m20\u001b[39m, \u001b[39m22\u001b[39m])\n\u001b[1;32m      3\u001b[0m res_use\u001b[39m=\u001b[39mnp\u001b[39m.\u001b[39marray([[\u001b[39m2\u001b[39m,\u001b[39m1\u001b[39m,\u001b[39m3\u001b[39m,\u001b[39m4\u001b[39m],[\u001b[39m3\u001b[39m,\u001b[39m4\u001b[39m,\u001b[39m5\u001b[39m,\u001b[39m6\u001b[39m]])\n",
      "\u001b[0;31mModuleNotFoundError\u001b[0m: No module named 'numpy'"
     ]
    }
   ],
   "source": [
    "import numpy as np\n",
    "profit = np.array([16,15, 20, 22])\n",
    "res_use=np.array([[2,1,3,4],[3,4,5,6]])\n",
    "res_avail = np.array([3000, 6000])   \n",
    "n = len(profit)                                    # number of variables\n",
    "m = len(res_avail)                                 # number of constraints\n",
    "assert res_use.shape == (m, n)\n",
    "model=gp.Model(\"Q1\")\n",
    "pvars=model.addVars(n,name=\"products\",lb=100,ub=1000)\n",
    "model.setObjective(gp.quicksum(profit[i]*pvars[i] for i in range(n)),gp.GRB.MAXIMIZE)\n",
    "cons=model.addConstrs(gp.quicksum(res_use[i,j]*pvars[j] for j in range(n))<=res_avail[i]\n",
    "                     for i in range(m))\n",
    "model.optimize()\n",
    "if not model.status == gp.GRB.OPTIMAL:\n",
    "    print(\"something went wrong\")\n",
    "print(\"optimal value\",model.objval)\n",
    "model.printAttr(\"X\")"
   ]
  },
  {
   "cell_type": "markdown",
   "metadata": {},
   "source": [
    "# Q2"
   ]
  },
  {
   "cell_type": "code",
   "execution_count": 8,
   "metadata": {},
   "outputs": [
    {
     "name": "stdout",
     "output_type": "stream",
     "text": [
      "Gurobi Optimizer version 9.5.2 build v9.5.2rc0 (linux64)\n",
      "Thread count: 4 physical cores, 8 logical processors, using up to 8 threads\n",
      "Optimize a model with 5 rows, 9 columns and 15 nonzeros\n",
      "Model fingerprint: 0xba04db3c\n",
      "Coefficient statistics:\n",
      "  Matrix range     [1e+00, 3e+00]\n",
      "  Objective range  [6e+00, 2e+01]\n",
      "  Bounds range     [0e+00, 0e+00]\n",
      "  RHS range        [6e+01, 2e+02]\n",
      "Presolve removed 1 rows and 2 columns\n",
      "Presolve time: 0.00s\n",
      "Presolved: 4 rows, 7 columns, 11 nonzeros\n",
      "\n",
      "Iteration    Objective       Primal Inf.    Dual Inf.      Time\n",
      "       0    3.0400000e+03   1.769142e+01   0.000000e+00      0s\n",
      "       4    3.2200000e+03   0.000000e+00   0.000000e+00      0s\n",
      "\n",
      "Solved in 4 iterations and 0.01 seconds (0.00 work units)\n",
      "Optimal objective  3.220000000e+03\n",
      "optimal value 3220.0\n",
      "\n",
      "    Variable            X \n",
      "-------------------------\n",
      "     make[0]          100 \n",
      "     make[1]           50 \n",
      "     BuyA[2]           60 \n",
      "     BuyB[1]           30 \n",
      "     BuyB[2]           10 \n"
     ]
    }
   ],
   "source": [
    "makeCosts=[6,13,20]\n",
    "buyACosts=[12,15,21]\n",
    "buyBCosts=[11,16,23]\n",
    "laborUse=[1,2,3]\n",
    "demands=[100,80,70]\n",
    "aProdLimit=60\n",
    "laborAvail=200\n",
    "n=3 #vars num\n",
    "model=gp.Model()\n",
    "M=model.addVars(n,name=\"make\",obj=makeCosts)\n",
    "A=model.addVars(n,name=\"BuyA\",obj=buyACosts)\n",
    "B=model.addVars(n,name=\"BuyB\",obj=buyBCosts)\n",
    "#by default minimization\n",
    "model.addConstrs(M[i]+A[i]+B[i]==demands[i] for i in range(n)) #sattisfy demands\n",
    "model.addConstr(gp.quicksum(laborUse[i]*M[i] for i in range(n))<=laborAvail)\n",
    "model.addConstr(gp.quicksum(A[i] for i in range(n))<=aProdLimit)\n",
    "model.optimize()\n",
    "if not model.status == gp.GRB.OPTIMAL:\n",
    "    print(\"something went wrong\")\n",
    "print(\"optimal value\",model.objval)\n",
    "model.printAttr(\"X\")"
   ]
  },
  {
   "cell_type": "markdown",
   "metadata": {},
   "source": [
    "# Q3"
   ]
  },
  {
   "cell_type": "code",
   "execution_count": null,
   "metadata": {},
   "outputs": [],
   "source": [
    "Bonds=[\"A\",\"B\",\"C\",\"D\",\"E\"]\n",
    "n=len(Bonds)\n",
    "returns=[.095,.08,.09,.09,.09]\n",
    "longMaturity=[True,False,True,True,False]\n",
    "highRisk=[1,0,0,1,1]\n",
    "taxFree=[1,1,0,1,0]\n",
    "\n",
    "totalInvestment=100000\n",
    "shortTermMinRatio=.5\n",
    "lowRiskRatio=.55\n",
    "taxFreeMinRatio=.3\n",
    "taxFreeRetMinRatio=.4\n",
    "\n",
    "model=gp.Model()\n",
    "x=model.addVars(n,name=Bonds,obj=returns)\n",
    "model.ModelSense=gp.GRB.MAXIMIZE\n",
    "model.addConstr(gp.quicksum(x[i] for i in range(n))==totalInvestment)\n",
    "model.addConstr(gp.quicksum(x[i] for i in range(n) if not longMaturity[i])\n",
    "                >=totalInvestment*shortTermMinRatio)\n",
    "model.addConstr(gp.quicksum(x[i] for i in range(n) if not highRisk[i])\n",
    "                >=totalInvestment*lowRiskRatio)\n",
    "model.addConstr(gp.quicksum(x[i] for i in range(n) if taxFree[i])\n",
    "                >=totalInvestment*taxFreeMinRatio)\n",
    "model.addConstr(gp.quicksum(returns[i]*x[i] for i in range(n) if taxFree[i])\n",
    "                >=taxFreeRetMinRatio*gp.quicksum(returns[i]*x[i] for i in range(n)))\n",
    "\n",
    "model.optimize()\n",
    "if not model.status == gp.GRB.OPTIMAL:\n",
    "    print(\"something went wrong\")\n",
    "print(\"optimal value\",model.objval)\n",
    "model.printAttr(\"X\")\n",
    "#model.write(\"Q3.lp\")\n",
    "#with open(\"Q3.lp\",'r') as f:\n",
    "#    print(f.read())"
   ]
  },
  {
   "cell_type": "markdown",
   "metadata": {},
   "source": [
    "# Q4"
   ]
  },
  {
   "cell_type": "code",
   "execution_count": null,
   "metadata": {},
   "outputs": [],
   "source": [
    "groves=['A','B','C']\n",
    "plants=['D','E','F']\n",
    "distances={('A','D'):21,('A','E'):50,('A','F'):40,\n",
    "           ('B','D'):35,('B','E'):30,('B','F'):22,\n",
    "           ('C','D'):55,('C','E'):20,('C','F'):25}\n",
    "costPerMile=1.5\n",
    "capacities={'D':2000,'E':6000,'F':2250}\n",
    "supplies={'A':2750,'B':4000,'C':3000}\n",
    "\n",
    "model=gp.Model()\n",
    "x=model.addVars(distances,name='flow')\n",
    "model.setObjective(costPerMile*gp.quicksum(distances[g,p]*x[g,p] \n",
    "                                           for g in groves\n",
    "                                           for p in plants))\n",
    "model.addConstrs(gp.quicksum(x[g,p] for p in plants)==supplies[g] \n",
    "                 for g in groves)\n",
    "model.addConstrs(gp.quicksum(x[g,p] for g in groves)<=capacities[p] \n",
    "                 for p in plants)\n",
    "\n",
    "model.optimize()\n",
    "if not model.status == gp.GRB.OPTIMAL:\n",
    "    print(\"something went wrong\")\n",
    "print(\"optimal value\",model.objval)\n",
    "model.printAttr(\"X\")"
   ]
  },
  {
   "cell_type": "markdown",
   "metadata": {},
   "source": [
    "# Q5"
   ]
  },
  {
   "cell_type": "code",
   "execution_count": null,
   "metadata": {},
   "outputs": [],
   "source": [
    "productionCosts=[250,253,255,253,250,255]\n",
    "demands=[1000,4500,6000,4500,3500,2000]\n",
    "maxProduction=[4000,3500,4000,4500,4000,2500]\n",
    "periods=6\n",
    "minInventory=1500\n",
    "maxInventory=6000\n",
    "startingInventory=1800\n",
    "inventoryCost=4\n",
    "\n",
    "model=gp.Model()\n",
    "P=model.addVars(periods,name=\"P\",obj=productionCosts,\n",
    "               lb=[0.5*i for i in maxProduction],ub=maxProduction)\n",
    "I=model.addVars(periods,name=\"I\",obj=inventoryCost,lb=1500,ub=6000)\n",
    "model.addConstr(I[0]==startingInventory+P[0]-demands[0])\n",
    "model.addConstrs(I[t]==I[t-1]+P[t]-demands[t] for t in range(1,periods))\n",
    "model.optimize()\n",
    "if not model.status == gp.GRB.OPTIMAL:\n",
    "    print(\"something went wrong\")\n",
    "print(\"optimal value\",model.objval)\n",
    "model.printAttr(\"X\")"
   ]
  },
  {
   "cell_type": "markdown",
   "metadata": {},
   "source": [
    "# Q6"
   ]
  },
  {
   "cell_type": "code",
   "execution_count": null,
   "metadata": {},
   "outputs": [],
   "source": [
    "investments=[\"A\",\"B\",\"C\",\"D\"]\n",
    "available={\"A\":[1,2,3,4,5,6],\"B\":[1,3,5],\"C\":[1,4],\"D\":[1]}\n",
    "maturity={\"A\":1,\"B\":2,\"C\":3,\"D\":6}\n",
    "yields={\"A\":1.018,\"B\":1.035,\"C\":1.058,\"D\":1.11}\n",
    "yearCommitments=[0,250000,0,250000,0,300000]\n",
    "model=gp.Model()\n",
    "myVars={}\n",
    "for inv in investments:\n",
    "    myVars[inv]=model.addVars(available[inv],name=inv)\n",
    "obj=0\n",
    "for inv in investments:\n",
    "    obj+=myVars[inv][1]\n",
    "model.setObjective(obj)\n",
    "\n",
    "for t in range(1,7):\n",
    "    lhs=0\n",
    "    for inv in investments:\n",
    "        if (t-maturity[inv]+1) in available[inv]: #investments maturing at end of t\n",
    "            lhs+=yields[inv]*myVars[inv][t-maturity[inv]+1]\n",
    "    rhs=yearCommitments[t-1] #-1 because counter starts from 0\n",
    "    for inv in investments:\n",
    "        if (t+1) in available[inv]:\n",
    "            rhs+=myVars[inv][t+1]\n",
    "    model.addConstr(lhs==rhs)\n",
    "\n",
    "model.optimize()\n",
    "if not model.status == gp.GRB.OPTIMAL:\n",
    "    print(\"something went wrong\")\n",
    "print(\"optimal value\",model.objval)\n",
    "model.printAttr(\"X\")\n",
    "\n",
    "#model.write(\"Q6.lp\")\n",
    "#with open(\"Q6.lp\",'r') as f:\n",
    "#       print(f.read())\n"
   ]
  },
  {
   "cell_type": "code",
   "execution_count": null,
   "metadata": {},
   "outputs": [],
   "source": []
  }
 ],
 "metadata": {
  "kernelspec": {
   "display_name": "Python 3.10.7 ('Management_Science_Code': venv)",
   "language": "python",
   "name": "python3"
  },
  "language_info": {
   "codemirror_mode": {
    "name": "ipython",
    "version": 3
   },
   "file_extension": ".py",
   "mimetype": "text/x-python",
   "name": "python",
   "nbconvert_exporter": "python",
   "pygments_lexer": "ipython3",
   "version": "3.10.7"
  },
  "vscode": {
   "interpreter": {
    "hash": "631b42a28b26d4224283cd0bbfa9240d9ab42f9083121b113c6838601922a371"
   }
  }
 },
 "nbformat": 4,
 "nbformat_minor": 2
}
