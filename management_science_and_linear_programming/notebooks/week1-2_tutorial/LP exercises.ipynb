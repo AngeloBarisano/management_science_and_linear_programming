{
 "cells": [
  {
   "cell_type": "code",
   "execution_count": null,
   "metadata": {},
   "outputs": [],
   "source": [
    "import gurobipy as gp"
   ]
  },
  {
   "cell_type": "markdown",
   "metadata": {},
   "source": [
    "# Q1"
   ]
  },
  {
   "cell_type": "markdown",
   "metadata": {},
   "source": [
    "### Simple way "
   ]
  },
  {
   "cell_type": "code",
   "execution_count": null,
   "metadata": {},
   "outputs": [],
   "source": [
    "#gp.setParam(\"OutputFlag\",1)\n",
    "model=gp.Model()\n",
    "x1=model.addVar(lb=100,ub=1000)\n",
    "x2=model.addVar(lb=100,ub=1000)\n",
    "x3=model.addVar(lb=100,ub=1000)\n",
    "x4=model.addVar()\n",
    "x4.lb=100\n",
    "x4.ub=1000\n",
    "model.setObjective(16*x1+15*x2+20*x3+22*x4,gp.GRB.MAXIMIZE)\n",
    "model.addConstr(2*x1+x2+3*x3+4*x4<=3000)\n",
    "model.addConstr(3*x1+4*x2+5*x3+6*x4<=6000)\n",
    "model.optimize()\n",
    "print(\"problem status is\", model.status)\n",
    "if not model.status == gp.GRB.OPTIMAL:\n",
    "    print(\"something went wrong\")\n",
    "print(\"x1\",x1.X)\n",
    "print(\"x1\",x2.X)\n",
    "print(\"x1\",x3.X)\n",
    "print(\"x1\",x4.X)\n",
    "print(\"optimal value\",model.objval)"
   ]
  },
  {
   "cell_type": "code",
   "execution_count": null,
   "metadata": {},
   "outputs": [],
   "source": [
    "help(model.addVars)\n"
   ]
  },
  {
   "cell_type": "markdown",
   "metadata": {},
   "source": [
    "### Better way-using dictionaries"
   ]
  },
  {
   "cell_type": "code",
   "execution_count": null,
   "metadata": {},
   "outputs": [],
   "source": [
    "#Data\n",
    "products=[\"Ray\",\"Zapper\",\"Squire\",\"Soaker\"]\n",
    "resources=[\"plastic\",\"time\"]\n",
    "profit={\"Ray\":16\n",
    "        ,\"Zapper\":15\n",
    "        ,\"Squire\":20,\n",
    "        \"Soaker\":22}\n",
    "resAvail={\"plastic\":3000,\"time\":6000}\n",
    "resUse={(\"Ray\",\"plastic\"):2,(\"Ray\",\"time\"):3,\n",
    "    (\"Zapper\",\"plastic\"):1,(\"Zapper\",\"time\"):4,\n",
    "    (\"Squire\",\"plastic\"):3,(\"Squire\",\"time\"):5,\n",
    "    (\"Soaker\",\"plastic\"):4,(\"Soaker\",\"time\"):6\n",
    "    }\n",
    "\n",
    "#Model\n",
    "model=gp.Model()\n",
    "pvars=model.addVars(products,lb=100,ub=1000,obj=profit,name=\"products\")\n",
    "model.ModelSense=gp.GRB.MAXIMIZE\n",
    "model.addConstrs(gp.quicksum(resUse[p,r]*pvars[p] for p in products)<=resAvail[r] \n",
    "                 for r in resources)\n",
    "\n",
    "model.optimize()\n",
    "if not model.status == gp.GRB.OPTIMAL:\n",
    "    print(\"something went wrong\")\n",
    "print(\"optimal value\",model.objval)\n",
    "model.printAttr(\"X\")\n"
   ]
  },
  {
   "cell_type": "markdown",
   "metadata": {},
   "source": [
    "### Using for loops"
   ]
  },
  {
   "cell_type": "code",
   "execution_count": null,
   "metadata": {},
   "outputs": [],
   "source": [
    "#Data\n",
    "products=[\"Ray\",\"Zapper\",\"Squire\",\"Soaker\"]\n",
    "resources=[\"plastic\",\"time\"]\n",
    "profit={\"Ray\":16\n",
    "        ,\"Zapper\":15\n",
    "        ,\"Squire\":20,\n",
    "        \"Soaker\":22}\n",
    "resAvail={\"plastic\":3000,\"time\":6000}\n",
    "resUse={(\"Ray\",\"plastic\"):2,(\"Ray\",\"time\"):3,\n",
    "    (\"Zapper\",\"plastic\"):1,(\"Zapper\",\"time\"):4,\n",
    "    (\"Squire\",\"plastic\"):3,(\"Squire\",\"time\"):5,\n",
    "    (\"Soaker\",\"plastic\"):4,(\"Soaker\",\"time\"):6\n",
    "    }\n",
    "\n",
    "#Model\n",
    "model=gp.Model()\n",
    "pvars={}\n",
    "for p in products:\n",
    "    pvars[p]=model.addVar(lb=100,ub=1000,obj=profit[p],name=p)\n",
    "model.ModelSense=gp.GRB.MAXIMIZE\n",
    "for r in resources:\n",
    "    lhs=0\n",
    "    for p in products:\n",
    "        lhs+=resUse[p,r]*pvars[p] \n",
    "    model.addConstr(lhs<=resAvail[r]) \n",
    "model.optimize()\n",
    "if not model.status == gp.GRB.OPTIMAL:\n",
    "    print(\"something went wrong\")\n",
    "print(\"optimal value\",model.objval)\n",
    "model.printAttr(\"X\")\n"
   ]
  },
  {
   "cell_type": "markdown",
   "metadata": {},
   "source": [
    "### Alternative (also good) way-using arrays\n",
    "\n",
    "A matter of taste which one you prefer. Good to know both as sometimes one may be more convenient than the other. "
   ]
  },
  {
   "cell_type": "code",
   "execution_count": null,
   "metadata": {},
   "outputs": [],
   "source": [
    "import numpy as np\n",
    "profit = np.array([16,15, 20, 22])\n",
    "res_use=np.array([[2,1,3,4],[3,4,5,6]])\n",
    "res_avail = np.array([3000, 6000])   \n",
    "n = len(profit)                                    # number of variables\n",
    "m = len(res_avail)                                 # number of constraints\n",
    "assert res_use.shape == (m, n)\n",
    "model=gp.Model(\"Q1\")\n",
    "pvars=model.addVars(n,name=\"products\",lb=100,ub=1000)\n",
    "model.setObjective(gp.quicksum(profit[i]*pvars[i] for i in range(n)),gp.GRB.MAXIMIZE)\n",
    "cons=model.addConstrs(gp.quicksum(res_use[i,j]*pvars[j] for j in range(n))<=res_avail[i]\n",
    "                     for i in range(m))\n",
    "model.optimize()\n",
    "if not model.status == gp.GRB.OPTIMAL:\n",
    "    print(\"something went wrong\")\n",
    "print(\"optimal value\",model.objval)\n",
    "model.printAttr(\"X\")"
   ]
  },
  {
   "cell_type": "markdown",
   "metadata": {},
   "source": [
    "# Q2"
   ]
  },
  {
   "cell_type": "code",
   "execution_count": null,
   "metadata": {},
   "outputs": [],
   "source": [
    "makeCosts=[6,13,20]\n",
    "buyACosts=[12,15,21]\n",
    "buyBCosts=[11,16,23]\n",
    "laborUse=[1,2,3]\n",
    "demands=[100,80,70]\n",
    "aProdLimit=60\n",
    "laborAvail=200\n",
    "n=3 #vars num\n",
    "model=gp.Model()\n",
    "M=model.addVars(n,name=\"make\",obj=makeCosts)\n",
    "A=model.addVars(n,name=\"BuyA\",obj=buyACosts)\n",
    "B=model.addVars(n,name=\"BuyB\",obj=buyBCosts)\n",
    "#by default minimization\n",
    "model.addConstrs(M[i]+A[i]+B[i]==demands[i] for i in range(n)) #sattisfy demands\n",
    "model.addConstr(gp.quicksum(laborUse[i]*M[i] for i in range(n))<=laborAvail)\n",
    "model.addConstr(gp.quicksum(A[i] for i in range(n))<=aProdLimit)\n",
    "model.optimize()\n",
    "if not model.status == gp.GRB.OPTIMAL:\n",
    "    print(\"something went wrong\")\n",
    "print(\"optimal value\",model.objval)\n",
    "model.printAttr(\"X\")"
   ]
  },
  {
   "cell_type": "markdown",
   "metadata": {},
   "source": [
    "# Q3"
   ]
  },
  {
   "cell_type": "code",
   "execution_count": null,
   "metadata": {},
   "outputs": [],
   "source": [
    "Bonds=[\"A\",\"B\",\"C\",\"D\",\"E\"]\n",
    "n=len(Bonds)\n",
    "returns=[.095,.08,.09,.09,.09]\n",
    "longMaturity=[True,False,True,True,False]\n",
    "highRisk=[1,0,0,1,1]\n",
    "taxFree=[1,1,0,1,0]\n",
    "\n",
    "totalInvestment=100000\n",
    "shortTermMinRatio=.5\n",
    "lowRiskRatio=.55\n",
    "taxFreeMinRatio=.3\n",
    "taxFreeRetMinRatio=.4\n",
    "\n",
    "model=gp.Model()\n",
    "x=model.addVars(n,name=Bonds,obj=returns)\n",
    "model.ModelSense=gp.GRB.MAXIMIZE\n",
    "model.addConstr(gp.quicksum(x[i] for i in range(n))==totalInvestment)\n",
    "model.addConstr(gp.quicksum(x[i] for i in range(n) if not longMaturity[i])\n",
    "                >=totalInvestment*shortTermMinRatio)\n",
    "model.addConstr(gp.quicksum(x[i] for i in range(n) if not highRisk[i])\n",
    "                >=totalInvestment*lowRiskRatio)\n",
    "model.addConstr(gp.quicksum(x[i] for i in range(n) if taxFree[i])\n",
    "                >=totalInvestment*taxFreeMinRatio)\n",
    "model.addConstr(gp.quicksum(returns[i]*x[i] for i in range(n) if taxFree[i])\n",
    "                >=taxFreeRetMinRatio*gp.quicksum(returns[i]*x[i] for i in range(n)))\n",
    "\n",
    "model.optimize()\n",
    "if not model.status == gp.GRB.OPTIMAL:\n",
    "    print(\"something went wrong\")\n",
    "print(\"optimal value\",model.objval)\n",
    "model.printAttr(\"X\")\n",
    "#model.write(\"Q3.lp\")\n",
    "#with open(\"Q3.lp\",'r') as f:\n",
    "#    print(f.read())"
   ]
  },
  {
   "cell_type": "markdown",
   "metadata": {},
   "source": [
    "# Q4"
   ]
  },
  {
   "cell_type": "code",
   "execution_count": null,
   "metadata": {},
   "outputs": [],
   "source": [
    "groves=['A','B','C']\n",
    "plants=['D','E','F']\n",
    "distances={('A','D'):21,('A','E'):50,('A','F'):40,\n",
    "           ('B','D'):35,('B','E'):30,('B','F'):22,\n",
    "           ('C','D'):55,('C','E'):20,('C','F'):25}\n",
    "costPerMile=1.5\n",
    "capacities={'D':2000,'E':6000,'F':2250}\n",
    "supplies={'A':2750,'B':4000,'C':3000}\n",
    "\n",
    "model=gp.Model()\n",
    "x=model.addVars(distances,name='flow')\n",
    "model.setObjective(costPerMile*gp.quicksum(distances[g,p]*x[g,p] \n",
    "                                           for g in groves\n",
    "                                           for p in plants))\n",
    "model.addConstrs(gp.quicksum(x[g,p] for p in plants)==supplies[g] \n",
    "                 for g in groves)\n",
    "model.addConstrs(gp.quicksum(x[g,p] for g in groves)<=capacities[p] \n",
    "                 for p in plants)\n",
    "\n",
    "model.optimize()\n",
    "if not model.status == gp.GRB.OPTIMAL:\n",
    "    print(\"something went wrong\")\n",
    "print(\"optimal value\",model.objval)\n",
    "model.printAttr(\"X\")"
   ]
  },
  {
   "cell_type": "markdown",
   "metadata": {},
   "source": [
    "# Q5"
   ]
  },
  {
   "cell_type": "code",
   "execution_count": null,
   "metadata": {},
   "outputs": [],
   "source": [
    "productionCosts=[250,253,255,253,250,255]\n",
    "demands=[1000,4500,6000,4500,3500,2000]\n",
    "maxProduction=[4000,3500,4000,4500,4000,2500]\n",
    "periods=6\n",
    "minInventory=1500\n",
    "maxInventory=6000\n",
    "startingInventory=1800\n",
    "inventoryCost=4\n",
    "\n",
    "model=gp.Model()\n",
    "P=model.addVars(periods,name=\"P\",obj=productionCosts,\n",
    "               lb=[0.5*i for i in maxProduction],ub=maxProduction)\n",
    "I=model.addVars(periods,name=\"I\",obj=inventoryCost,lb=1500,ub=6000)\n",
    "model.addConstr(I[0]==startingInventory+P[0]-demands[0])\n",
    "model.addConstrs(I[t]==I[t-1]+P[t]-demands[t] for t in range(1,periods))\n",
    "model.optimize()\n",
    "if not model.status == gp.GRB.OPTIMAL:\n",
    "    print(\"something went wrong\")\n",
    "print(\"optimal value\",model.objval)\n",
    "model.printAttr(\"X\")"
   ]
  },
  {
   "cell_type": "markdown",
   "metadata": {},
   "source": [
    "# Q6"
   ]
  },
  {
   "cell_type": "code",
   "execution_count": null,
   "metadata": {},
   "outputs": [],
   "source": [
    "investments=[\"A\",\"B\",\"C\",\"D\"]\n",
    "available={\"A\":[1,2,3,4,5,6],\"B\":[1,3,5],\"C\":[1,4],\"D\":[1]}\n",
    "maturity={\"A\":1,\"B\":2,\"C\":3,\"D\":6}\n",
    "yields={\"A\":1.018,\"B\":1.035,\"C\":1.058,\"D\":1.11}\n",
    "yearCommitments=[0,250000,0,250000,0,300000]\n",
    "model=gp.Model()\n",
    "myVars={}\n",
    "for inv in investments:\n",
    "    myVars[inv]=model.addVars(available[inv],name=inv)\n",
    "obj=0\n",
    "for inv in investments:\n",
    "    obj+=myVars[inv][1]\n",
    "model.setObjective(obj)\n",
    "\n",
    "for t in range(1,7):\n",
    "    lhs=0\n",
    "    for inv in investments:\n",
    "        if (t-maturity[inv]+1) in available[inv]: #investments maturing at end of t\n",
    "            lhs+=yields[inv]*myVars[inv][t-maturity[inv]+1]\n",
    "    rhs=yearCommitments[t-1] #-1 because counter starts from 0\n",
    "    for inv in investments:\n",
    "        if (t+1) in available[inv]:\n",
    "            rhs+=myVars[inv][t+1]\n",
    "    model.addConstr(lhs==rhs)\n",
    "\n",
    "model.optimize()\n",
    "if not model.status == gp.GRB.OPTIMAL:\n",
    "    print(\"something went wrong\")\n",
    "print(\"optimal value\",model.objval)\n",
    "model.printAttr(\"X\")\n",
    "\n",
    "#model.write(\"Q6.lp\")\n",
    "#with open(\"Q6.lp\",'r') as f:\n",
    "#       print(f.read())\n"
   ]
  },
  {
   "cell_type": "code",
   "execution_count": null,
   "metadata": {},
   "outputs": [],
   "source": []
  }
 ],
 "metadata": {
  "kernelspec": {
   "display_name": "Python 3",
   "language": "python",
   "name": "python3"
  },
  "language_info": {
   "codemirror_mode": {
    "name": "ipython",
    "version": 3
   },
   "file_extension": ".py",
   "mimetype": "text/x-python",
   "name": "python",
   "nbconvert_exporter": "python",
   "pygments_lexer": "ipython3",
   "version": "3.8.8"
  }
 },
 "nbformat": 4,
 "nbformat_minor": 2
}
