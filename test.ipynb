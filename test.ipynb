{
 "cells": [
  {
   "cell_type": "code",
   "execution_count": 1,
   "metadata": {},
   "outputs": [],
   "source": [
    "import sys\n",
    "\n",
    "def get_base_prefix_compat():\n",
    "    \"\"\"Get base/real prefix, or sys.prefix if there is none.\"\"\"\n",
    "    return getattr(sys, \"base_prefix\", None) or getattr(sys, \"real_prefix\", None) or sys.prefix\n",
    "\n",
    "def in_virtualenv():\n",
    "    return get_base_prefix_compat() != sys.prefix"
   ]
  },
  {
   "cell_type": "code",
   "execution_count": 2,
   "metadata": {},
   "outputs": [
    {
     "name": "stdout",
     "output_type": "stream",
     "text": [
      "pip 22.3 from /home/angelo/Documents/Uni/Courses/Management Science/Management_Science_Code/lib64/python3.10/site-packages/pip (python 3.10)\n",
      "Note: you may need to restart the kernel to use updated packages.\n"
     ]
    }
   ],
   "source": [
    "pip -V"
   ]
  },
  {
   "cell_type": "code",
   "execution_count": 3,
   "metadata": {},
   "outputs": [
    {
     "name": "stdout",
     "output_type": "stream",
     "text": [
      "Requirement already satisfied: cookiecutter in ./lib/python3.10/site-packages (2.1.1)\n",
      "Requirement already satisfied: requests>=2.23.0 in ./lib/python3.10/site-packages (from cookiecutter) (2.28.1)\n",
      "Requirement already satisfied: Jinja2<4.0.0,>=2.7 in ./lib/python3.10/site-packages (from cookiecutter) (3.1.2)\n",
      "Requirement already satisfied: click<9.0.0,>=7.0 in ./lib/python3.10/site-packages (from cookiecutter) (8.1.3)\n",
      "Requirement already satisfied: pyyaml>=5.3.1 in ./lib/python3.10/site-packages (from cookiecutter) (6.0)\n",
      "Requirement already satisfied: python-slugify>=4.0.0 in ./lib/python3.10/site-packages (from cookiecutter) (6.1.2)\n",
      "Requirement already satisfied: binaryornot>=0.4.4 in ./lib/python3.10/site-packages (from cookiecutter) (0.4.4)\n",
      "Requirement already satisfied: jinja2-time>=0.2.0 in ./lib/python3.10/site-packages (from cookiecutter) (0.2.0)\n",
      "Requirement already satisfied: chardet>=3.0.2 in ./lib/python3.10/site-packages (from binaryornot>=0.4.4->cookiecutter) (5.0.0)\n",
      "Requirement already satisfied: MarkupSafe>=2.0 in ./lib/python3.10/site-packages (from Jinja2<4.0.0,>=2.7->cookiecutter) (2.1.1)\n",
      "Requirement already satisfied: arrow in ./lib/python3.10/site-packages (from jinja2-time>=0.2.0->cookiecutter) (1.2.3)\n",
      "Requirement already satisfied: text-unidecode>=1.3 in ./lib/python3.10/site-packages (from python-slugify>=4.0.0->cookiecutter) (1.3)\n",
      "Requirement already satisfied: certifi>=2017.4.17 in ./lib/python3.10/site-packages (from requests>=2.23.0->cookiecutter) (2022.9.24)\n",
      "Requirement already satisfied: idna<4,>=2.5 in ./lib/python3.10/site-packages (from requests>=2.23.0->cookiecutter) (3.4)\n",
      "Requirement already satisfied: charset-normalizer<3,>=2 in ./lib/python3.10/site-packages (from requests>=2.23.0->cookiecutter) (2.1.1)\n",
      "Requirement already satisfied: urllib3<1.27,>=1.21.1 in ./lib/python3.10/site-packages (from requests>=2.23.0->cookiecutter) (1.26.12)\n",
      "Requirement already satisfied: python-dateutil>=2.7.0 in ./lib/python3.10/site-packages (from arrow->jinja2-time>=0.2.0->cookiecutter) (2.8.2)\n",
      "Requirement already satisfied: six>=1.5 in ./lib/python3.10/site-packages (from python-dateutil>=2.7.0->arrow->jinja2-time>=0.2.0->cookiecutter) (1.16.0)\n",
      "Note: you may need to restart the kernel to use updated packages.\n"
     ]
    }
   ],
   "source": [
    "pip install cookiecutter"
   ]
  },
  {
   "cell_type": "code",
   "execution_count": 4,
   "metadata": {},
   "outputs": [
    {
     "data": {
      "text/plain": [
       "'/usr'"
      ]
     },
     "execution_count": 4,
     "metadata": {},
     "output_type": "execute_result"
    }
   ],
   "source": [
    "get_base_prefix_compat()"
   ]
  },
  {
   "cell_type": "code",
   "execution_count": 5,
   "metadata": {},
   "outputs": [
    {
     "data": {
      "text/plain": [
       "'/usr'"
      ]
     },
     "execution_count": 5,
     "metadata": {},
     "output_type": "execute_result"
    }
   ],
   "source": [
    "get_base_prefix_compat()"
   ]
  },
  {
   "cell_type": "code",
   "execution_count": 6,
   "metadata": {},
   "outputs": [
    {
     "name": "stdout",
     "output_type": "stream",
     "text": [
      "inside virtualenv or venv\n"
     ]
    }
   ],
   "source": [
    "def is_venv():\n",
    "    return (hasattr(sys, 'real_prefix') or\n",
    "            (hasattr(sys, 'base_prefix') and sys.base_prefix != sys.prefix))\n",
    "\n",
    "if is_venv():\n",
    "    print('inside virtualenv or venv')\n",
    "else:\n",
    "    print('outside virtualenv or venv')"
   ]
  },
  {
   "cell_type": "code",
   "execution_count": 7,
   "metadata": {},
   "outputs": [
    {
     "data": {
      "text/plain": [
       "True"
      ]
     },
     "execution_count": 7,
     "metadata": {},
     "output_type": "execute_result"
    }
   ],
   "source": [
    "running_in_virtualenv = sys.prefix != sys.base_prefix\n",
    "running_in_virtualenv"
   ]
  },
  {
   "cell_type": "code",
   "execution_count": 8,
   "metadata": {},
   "outputs": [
    {
     "data": {
      "text/plain": [
       "True"
      ]
     },
     "execution_count": 8,
     "metadata": {},
     "output_type": "execute_result"
    }
   ],
   "source": [
    "real_prefix = getattr(sys, \"real_prefix\", None)\n",
    "base_prefix = getattr(sys, \"base_prefix\", sys.prefix)\n",
    "\n",
    "running_in_virtualenv = (base_prefix or real_prefix) != sys.prefix\n",
    "running_in_virtualenv"
   ]
  },
  {
   "cell_type": "code",
   "execution_count": 9,
   "metadata": {},
   "outputs": [
    {
     "name": "stdout",
     "output_type": "stream",
     "text": [
      "Using Virtualenv\n"
     ]
    }
   ],
   "source": [
    "import os\n",
    "\n",
    "if os.getenv('VIRTUAL_ENV'):\n",
    "    print('Using Virtualenv')\n",
    "else:\n",
    "    print('Not using Virtualenv')"
   ]
  },
  {
   "cell_type": "code",
   "execution_count": 10,
   "metadata": {},
   "outputs": [
    {
     "ename": "ModuleNotFoundError",
     "evalue": "No module named 'pandas'",
     "output_type": "error",
     "traceback": [
      "\u001b[0;31m---------------------------------------------------------------------------\u001b[0m",
      "\u001b[0;31mModuleNotFoundError\u001b[0m                       Traceback (most recent call last)",
      "Cell \u001b[0;32mIn [10], line 1\u001b[0m\n\u001b[0;32m----> 1\u001b[0m \u001b[39mimport\u001b[39;00m \u001b[39mpandas\u001b[39;00m \u001b[39mas\u001b[39;00m \u001b[39mpd\u001b[39;00m\n",
      "\u001b[0;31mModuleNotFoundError\u001b[0m: No module named 'pandas'"
     ]
    }
   ],
   "source": [
    "import pandas as pd"
   ]
  },
  {
   "cell_type": "markdown",
   "metadata": {},
   "source": [
    "Done."
   ]
  }
 ],
 "metadata": {
  "kernelspec": {
   "display_name": "Python 3.10.7 ('Management_Science_Code': venv)",
   "language": "python",
   "name": "python3"
  },
  "language_info": {
   "codemirror_mode": {
    "name": "ipython",
    "version": 3
   },
   "file_extension": ".py",
   "mimetype": "text/x-python",
   "name": "python",
   "nbconvert_exporter": "python",
   "pygments_lexer": "ipython3",
   "version": "3.10.7"
  },
  "orig_nbformat": 4,
  "vscode": {
   "interpreter": {
    "hash": "631b42a28b26d4224283cd0bbfa9240d9ab42f9083121b113c6838601922a371"
   }
  }
 },
 "nbformat": 4,
 "nbformat_minor": 2
}
